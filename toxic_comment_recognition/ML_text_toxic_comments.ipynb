{
 "cells": [
  {
   "cell_type": "markdown",
   "metadata": {
    "toc": true
   },
   "source": [
    "<h1>Содержание<span class=\"tocSkip\"></span></h1>\n",
    "<div class=\"toc\"><ul class=\"toc-item\"><li><span><a href=\"#Подготовка\" data-toc-modified-id=\"Подготовка-1\"><span class=\"toc-item-num\">1&nbsp;&nbsp;</span>Подготовка</a></span></li><li><span><a href=\"#Обучение\" data-toc-modified-id=\"Обучение-2\"><span class=\"toc-item-num\">2&nbsp;&nbsp;</span>Обучение</a></span><ul class=\"toc-item\"><li><span><a href=\"#LogisticRegression\" data-toc-modified-id=\"LogisticRegression-2.1\"><span class=\"toc-item-num\">2.1&nbsp;&nbsp;</span>LogisticRegression</a></span></li><li><span><a href=\"#ComplementNB\" data-toc-modified-id=\"ComplementNB-2.2\"><span class=\"toc-item-num\">2.2&nbsp;&nbsp;</span>ComplementNB</a></span></li><li><span><a href=\"#LGBMClassifier\" data-toc-modified-id=\"LGBMClassifier-2.3\"><span class=\"toc-item-num\">2.3&nbsp;&nbsp;</span>LGBMClassifier</a></span></li></ul></li><li><span><a href=\"#Выводы\" data-toc-modified-id=\"Выводы-3\"><span class=\"toc-item-num\">3&nbsp;&nbsp;</span>Выводы</a></span></li></ul></div>"
   ]
  },
  {
   "cell_type": "markdown",
   "metadata": {},
   "source": [
    "# Распознавание токсичных комментариев"
   ]
  },
  {
   "cell_type": "markdown",
   "metadata": {},
   "source": [
    "Интернет-магазин запускает новый сервис. Теперь пользователи могут редактировать и дополнять описания товаров, как в вики-сообществах. То есть клиенты предлагают свои правки и комментируют изменения других. Магазину нужен инструмент, который будет искать токсичные комментарии и отправлять их на модерацию. \n",
    "\n",
    "Обучим модель классифицировать комментарии на позитивные и негативные. В нашем распоряжении набор данных с разметкой о токсичности.\n",
    "\n",
    "Наша задача — обучить модель со значением метрики качества *F1* не меньше 0.75. \n",
    "\n",
    "**Инструкция по выполнению проекта**\n",
    "\n",
    "1. Загрузим и подготовим данные.\n",
    "2. Обучим разные модели. \n",
    "3. Сделаем выводы.\n",
    "\n",
    "\n",
    "**Описание данных**\n",
    "\n",
    "Данные находятся в файле `toxic_comments.csv`. Столбец *text* в нём содержит текст комментария, а *toxic* — целевой признак."
   ]
  },
  {
   "cell_type": "code",
   "execution_count": 1,
   "metadata": {},
   "outputs": [],
   "source": [
    "import pandas as pd\n",
    "import numpy as np\n",
    "import os\n",
    "import matplotlib.pyplot as plt\n",
    "import re\n",
    "import nltk\n",
    "from nltk.tokenize import word_tokenize\n",
    "from nltk.corpus import wordnet\n",
    "from nltk.stem import WordNetLemmatizer\n",
    "from nltk.corpus import stopwords\n",
    "from sklearn.pipeline import Pipeline\n",
    "from sklearn.model_selection import GridSearchCV, train_test_split, cross_val_score, cross_validate\n",
    "from sklearn.feature_extraction.text import TfidfVectorizer\n",
    "from sklearn.linear_model import LogisticRegression\n",
    "from sklearn.naive_bayes import ComplementNB\n",
    "import lightgbm as lgb\n",
    "from sklearn.metrics import f1_score, classification_report\n",
    "from tqdm import tqdm\n",
    "import spacy\n"
   ]
  },
  {
   "cell_type": "markdown",
   "metadata": {},
   "source": [
    "## Подготовка"
   ]
  },
  {
   "cell_type": "code",
   "execution_count": 2,
   "metadata": {},
   "outputs": [],
   "source": [
    "pth1 = '/datasets/toxic_comments.csv'\n",
    "pth2 = 'C:/Users/ASUS/Desktop/PRACTICUM/Мои проекты/Toxic_comments/toxic_comments.csv'\n",
    "\n",
    "if os.path.exists(pth1):\n",
    "    file = pd.read_csv(pth1)\n",
    "elif os.path.exists(pth2):\n",
    "    file = pd.read_csv(pth2)\n",
    "else:\n",
    "    print('Ничего не получается...')"
   ]
  },
  {
   "cell_type": "code",
   "execution_count": 3,
   "metadata": {},
   "outputs": [
    {
     "name": "stdout",
     "output_type": "stream",
     "text": [
      "<class 'pandas.core.frame.DataFrame'>\n",
      "RangeIndex: 159292 entries, 0 to 159291\n",
      "Data columns (total 3 columns):\n",
      " #   Column      Non-Null Count   Dtype \n",
      "---  ------      --------------   ----- \n",
      " 0   Unnamed: 0  159292 non-null  int64 \n",
      " 1   text        159292 non-null  object\n",
      " 2   toxic       159292 non-null  int64 \n",
      "dtypes: int64(2), object(1)\n",
      "memory usage: 3.6+ MB\n"
     ]
    }
   ],
   "source": [
    "file.info()"
   ]
  },
  {
   "cell_type": "code",
   "execution_count": 4,
   "metadata": {},
   "outputs": [
    {
     "data": {
      "text/html": [
       "<div>\n",
       "<style scoped>\n",
       "    .dataframe tbody tr th:only-of-type {\n",
       "        vertical-align: middle;\n",
       "    }\n",
       "\n",
       "    .dataframe tbody tr th {\n",
       "        vertical-align: top;\n",
       "    }\n",
       "\n",
       "    .dataframe thead th {\n",
       "        text-align: right;\n",
       "    }\n",
       "</style>\n",
       "<table border=\"1\" class=\"dataframe\">\n",
       "  <thead>\n",
       "    <tr style=\"text-align: right;\">\n",
       "      <th></th>\n",
       "      <th>Unnamed: 0</th>\n",
       "      <th>text</th>\n",
       "      <th>toxic</th>\n",
       "    </tr>\n",
       "  </thead>\n",
       "  <tbody>\n",
       "    <tr>\n",
       "      <th>0</th>\n",
       "      <td>0</td>\n",
       "      <td>Explanation\\nWhy the edits made under my usern...</td>\n",
       "      <td>0</td>\n",
       "    </tr>\n",
       "    <tr>\n",
       "      <th>1</th>\n",
       "      <td>1</td>\n",
       "      <td>D'aww! He matches this background colour I'm s...</td>\n",
       "      <td>0</td>\n",
       "    </tr>\n",
       "    <tr>\n",
       "      <th>2</th>\n",
       "      <td>2</td>\n",
       "      <td>Hey man, I'm really not trying to edit war. It...</td>\n",
       "      <td>0</td>\n",
       "    </tr>\n",
       "    <tr>\n",
       "      <th>3</th>\n",
       "      <td>3</td>\n",
       "      <td>\"\\nMore\\nI can't make any real suggestions on ...</td>\n",
       "      <td>0</td>\n",
       "    </tr>\n",
       "    <tr>\n",
       "      <th>4</th>\n",
       "      <td>4</td>\n",
       "      <td>You, sir, are my hero. Any chance you remember...</td>\n",
       "      <td>0</td>\n",
       "    </tr>\n",
       "    <tr>\n",
       "      <th>5</th>\n",
       "      <td>5</td>\n",
       "      <td>\"\\n\\nCongratulations from me as well, use the ...</td>\n",
       "      <td>0</td>\n",
       "    </tr>\n",
       "    <tr>\n",
       "      <th>6</th>\n",
       "      <td>6</td>\n",
       "      <td>COCKSUCKER BEFORE YOU PISS AROUND ON MY WORK</td>\n",
       "      <td>1</td>\n",
       "    </tr>\n",
       "    <tr>\n",
       "      <th>7</th>\n",
       "      <td>7</td>\n",
       "      <td>Your vandalism to the Matt Shirvington article...</td>\n",
       "      <td>0</td>\n",
       "    </tr>\n",
       "    <tr>\n",
       "      <th>8</th>\n",
       "      <td>8</td>\n",
       "      <td>Sorry if the word 'nonsense' was offensive to ...</td>\n",
       "      <td>0</td>\n",
       "    </tr>\n",
       "    <tr>\n",
       "      <th>9</th>\n",
       "      <td>9</td>\n",
       "      <td>alignment on this subject and which are contra...</td>\n",
       "      <td>0</td>\n",
       "    </tr>\n",
       "  </tbody>\n",
       "</table>\n",
       "</div>"
      ],
      "text/plain": [
       "   Unnamed: 0                                               text  toxic\n",
       "0           0  Explanation\\nWhy the edits made under my usern...      0\n",
       "1           1  D'aww! He matches this background colour I'm s...      0\n",
       "2           2  Hey man, I'm really not trying to edit war. It...      0\n",
       "3           3  \"\\nMore\\nI can't make any real suggestions on ...      0\n",
       "4           4  You, sir, are my hero. Any chance you remember...      0\n",
       "5           5  \"\\n\\nCongratulations from me as well, use the ...      0\n",
       "6           6       COCKSUCKER BEFORE YOU PISS AROUND ON MY WORK      1\n",
       "7           7  Your vandalism to the Matt Shirvington article...      0\n",
       "8           8  Sorry if the word 'nonsense' was offensive to ...      0\n",
       "9           9  alignment on this subject and which are contra...      0"
      ]
     },
     "execution_count": 4,
     "metadata": {},
     "output_type": "execute_result"
    }
   ],
   "source": [
    "file.head(10)"
   ]
  },
  {
   "cell_type": "code",
   "execution_count": 5,
   "metadata": {},
   "outputs": [
    {
     "data": {
      "text/html": [
       "<div>\n",
       "<style scoped>\n",
       "    .dataframe tbody tr th:only-of-type {\n",
       "        vertical-align: middle;\n",
       "    }\n",
       "\n",
       "    .dataframe tbody tr th {\n",
       "        vertical-align: top;\n",
       "    }\n",
       "\n",
       "    .dataframe thead th {\n",
       "        text-align: right;\n",
       "    }\n",
       "</style>\n",
       "<table border=\"1\" class=\"dataframe\">\n",
       "  <thead>\n",
       "    <tr style=\"text-align: right;\">\n",
       "      <th></th>\n",
       "      <th>Unnamed: 0</th>\n",
       "      <th>text</th>\n",
       "      <th>toxic</th>\n",
       "    </tr>\n",
       "  </thead>\n",
       "  <tbody>\n",
       "    <tr>\n",
       "      <th>29910</th>\n",
       "      <td>29950</td>\n",
       "      <td>\"\\n\\n me be nice \\n  The Random Acts of Kindne...</td>\n",
       "      <td>0</td>\n",
       "    </tr>\n",
       "    <tr>\n",
       "      <th>109555</th>\n",
       "      <td>109652</td>\n",
       "      <td>\"\\n\\n ( \\n\\nI disagree with your definition of...</td>\n",
       "      <td>0</td>\n",
       "    </tr>\n",
       "    <tr>\n",
       "      <th>146980</th>\n",
       "      <td>147136</td>\n",
       "      <td>Try using the dlw template, or re-sourcing. Fa...</td>\n",
       "      <td>0</td>\n",
       "    </tr>\n",
       "    <tr>\n",
       "      <th>39684</th>\n",
       "      <td>39734</td>\n",
       "      <td>\"\\n\\nI strongly recommend that you revert all ...</td>\n",
       "      <td>0</td>\n",
       "    </tr>\n",
       "    <tr>\n",
       "      <th>54076</th>\n",
       "      <td>54137</td>\n",
       "      <td>would mislead most reasonable people</td>\n",
       "      <td>0</td>\n",
       "    </tr>\n",
       "    <tr>\n",
       "      <th>85599</th>\n",
       "      <td>85680</td>\n",
       "      <td>Nevermind, I tracked it down off of your contr...</td>\n",
       "      <td>0</td>\n",
       "    </tr>\n",
       "    <tr>\n",
       "      <th>113259</th>\n",
       "      <td>113357</td>\n",
       "      <td>Merge Proposal - January 2014==\\n==</td>\n",
       "      <td>0</td>\n",
       "    </tr>\n",
       "    <tr>\n",
       "      <th>150127</th>\n",
       "      <td>150283</td>\n",
       "      <td>I'm Kissing up \\n\\nI want to kiss you ass</td>\n",
       "      <td>1</td>\n",
       "    </tr>\n",
       "    <tr>\n",
       "      <th>145799</th>\n",
       "      <td>145955</td>\n",
       "      <td>\"BELOW this comment&gt;\\nHello\\nHello, Noel. Thou...</td>\n",
       "      <td>0</td>\n",
       "    </tr>\n",
       "    <tr>\n",
       "      <th>127597</th>\n",
       "      <td>127729</td>\n",
       "      <td>, 31 October 2011 (UTC) | decline=One unblock ...</td>\n",
       "      <td>0</td>\n",
       "    </tr>\n",
       "  </tbody>\n",
       "</table>\n",
       "</div>"
      ],
      "text/plain": [
       "        Unnamed: 0                                               text  toxic\n",
       "29910        29950  \"\\n\\n me be nice \\n  The Random Acts of Kindne...      0\n",
       "109555      109652  \"\\n\\n ( \\n\\nI disagree with your definition of...      0\n",
       "146980      147136  Try using the dlw template, or re-sourcing. Fa...      0\n",
       "39684        39734  \"\\n\\nI strongly recommend that you revert all ...      0\n",
       "54076        54137               would mislead most reasonable people      0\n",
       "85599        85680  Nevermind, I tracked it down off of your contr...      0\n",
       "113259      113357                Merge Proposal - January 2014==\\n==      0\n",
       "150127      150283          I'm Kissing up \\n\\nI want to kiss you ass      1\n",
       "145799      145955  \"BELOW this comment>\\nHello\\nHello, Noel. Thou...      0\n",
       "127597      127729  , 31 October 2011 (UTC) | decline=One unblock ...      0"
      ]
     },
     "execution_count": 5,
     "metadata": {},
     "output_type": "execute_result"
    }
   ],
   "source": [
    "file.sample(10)"
   ]
  },
  {
   "cell_type": "markdown",
   "metadata": {},
   "source": [
    "в нашем распоряжении датасет из 159292 строк и 3 столбцов, важными для нас являются целевой признак 'toxic' и входной признак 'text'. Будем работать с англоязычными текстами, учтем это при выборе библиотеки для обнаружения стоп-слов и лемматизации. Отметим, что тексты содержат большое количество символов, используются разные регистры.\n",
    "\n",
    "\n",
    "В качестве индексов назначим столбец заказчика Unnamed:0."
   ]
  },
  {
   "cell_type": "code",
   "execution_count": 6,
   "metadata": {},
   "outputs": [
    {
     "data": {
      "text/plain": [
       "Index(['Unnamed: 0', 'text', 'toxic'], dtype='object')"
      ]
     },
     "execution_count": 6,
     "metadata": {},
     "output_type": "execute_result"
    }
   ],
   "source": [
    "file.columns"
   ]
  },
  {
   "cell_type": "code",
   "execution_count": 7,
   "metadata": {},
   "outputs": [
    {
     "data": {
      "text/plain": [
       "Unnamed: 0    159292\n",
       "text          159292\n",
       "toxic              2\n",
       "dtype: int64"
      ]
     },
     "execution_count": 7,
     "metadata": {},
     "output_type": "execute_result"
    }
   ],
   "source": [
    "file.nunique()"
   ]
  },
  {
   "cell_type": "code",
   "execution_count": 8,
   "metadata": {},
   "outputs": [],
   "source": [
    "file = file.set_index('Unnamed: 0').copy()"
   ]
  },
  {
   "cell_type": "code",
   "execution_count": 9,
   "metadata": {},
   "outputs": [
    {
     "data": {
      "text/plain": [
       "Index(['text', 'toxic'], dtype='object')"
      ]
     },
     "execution_count": 9,
     "metadata": {},
     "output_type": "execute_result"
    }
   ],
   "source": [
    "file.columns"
   ]
  },
  {
   "cell_type": "code",
   "execution_count": 10,
   "metadata": {},
   "outputs": [
    {
     "data": {
      "text/plain": [
       "0"
      ]
     },
     "execution_count": 10,
     "metadata": {},
     "output_type": "execute_result"
    }
   ],
   "source": [
    "file.duplicated().sum()"
   ]
  },
  {
   "cell_type": "markdown",
   "metadata": {},
   "source": [
    "Дубликатов нет.\n",
    "\n",
    "Определим пропорцию объектов разного класса для целевого признака."
   ]
  },
  {
   "cell_type": "code",
   "execution_count": 11,
   "metadata": {},
   "outputs": [
    {
     "data": {
      "image/png": "[encoded data removed]",
      "text/plain": [
       "<Figure size 432x288 with 1 Axes>"
      ]
     },
     "metadata": {
      "needs_background": "light"
     },
     "output_type": "display_data"
    }
   ],
   "source": [
    "file.toxic.value_counts(normalize=True).plot(kind='bar') \n",
    "plt.title('Распределение целевого признака')\n",
    "plt.xlabel('Токсичные комментарии')\n",
    "plt.ylabel('Доля')\n",
    "plt.show()"
   ]
  },
  {
   "cell_type": "markdown",
   "metadata": {},
   "source": [
    "Приятно видеть, что токсичные комментарии составляют всего 10% от общего количества комментариев, атмосфера на площадке умеренно-дружелюбная, но будем учитывать сильный дисбаланс классов при обучении модели.\n",
    "\n",
    "Создадим список текстов с использованием SpaCy для лемматизации."
   ]
  },
  {
   "cell_type": "code",
   "execution_count": 12,
   "metadata": {},
   "outputs": [],
   "source": [
    "nlp = spacy.load('en_core_web_sm')\n",
    "\n",
    "def lemmatize_spacy(text):\n",
    "    doc = nlp(text.lower())\n",
    "    tokens = [token.lemma_ for token in doc if not token.is_stop and token.is_alpha]\n",
    "    return ' '.join(tokens)"
   ]
  },
  {
   "cell_type": "markdown",
   "metadata": {},
   "source": [
    "Для тестирования функции создадим небольшой образец."
   ]
  },
  {
   "cell_type": "code",
   "execution_count": 13,
   "metadata": {},
   "outputs": [],
   "source": [
    "sample = file.sample(15)"
   ]
  },
  {
   "cell_type": "code",
   "execution_count": 14,
   "metadata": {},
   "outputs": [
    {
     "name": "stderr",
     "output_type": "stream",
     "text": [
      "100%|██████████| 15/15 [00:00<00:00, 80.29it/s]\n"
     ]
    }
   ],
   "source": [
    "tqdm.pandas()\n",
    "sample['lemm_spacy'] = sample['text'].progress_apply(lemmatize_spacy)"
   ]
  },
  {
   "cell_type": "code",
   "execution_count": 15,
   "metadata": {},
   "outputs": [
    {
     "data": {
      "text/html": [
       "<div>\n",
       "<style scoped>\n",
       "    .dataframe tbody tr th:only-of-type {\n",
       "        vertical-align: middle;\n",
       "    }\n",
       "\n",
       "    .dataframe tbody tr th {\n",
       "        vertical-align: top;\n",
       "    }\n",
       "\n",
       "    .dataframe thead th {\n",
       "        text-align: right;\n",
       "    }\n",
       "</style>\n",
       "<table border=\"1\" class=\"dataframe\">\n",
       "  <thead>\n",
       "    <tr style=\"text-align: right;\">\n",
       "      <th></th>\n",
       "      <th>text</th>\n",
       "      <th>toxic</th>\n",
       "      <th>lemm_spacy</th>\n",
       "    </tr>\n",
       "    <tr>\n",
       "      <th>Unnamed: 0</th>\n",
       "      <th></th>\n",
       "      <th></th>\n",
       "      <th></th>\n",
       "    </tr>\n",
       "  </thead>\n",
       "  <tbody>\n",
       "    <tr>\n",
       "      <th>19172</th>\n",
       "      <td>\"\\nWe use whichever name, phrase, or descriptor best conveys the topic. Which, in this case, is to mention the wildly minority and specialised viewpoint that they are one lake briefly in Great Lakes, and that's it. We certainly don't edit-war to remove Lake Michigan and Lake Huron from lake lists. When 9001 people say X, and three people say Y, Y clearly doesn't \"\"best convey the topic\"\". -  One ping only \"</td>\n",
       "      <td>0</td>\n",
       "      <td>use whichever phrase descriptor good convey topic case mention wildly minority specialised viewpoint lake briefly great lake certainly edit war remove lake michigan lake huron lake list people x people y y clearly good convey topic ping</td>\n",
       "    </tr>\n",
       "    <tr>\n",
       "      <th>118101</th>\n",
       "      <td>F**K YOUR GUTS \\n\\nlol )</td>\n",
       "      <td>1</td>\n",
       "      <td>gut lol</td>\n",
       "    </tr>\n",
       "    <tr>\n",
       "      <th>17437</th>\n",
       "      <td>Please don't tell me what to do.  The discussion page indicates you are in a minority on this subject.  Take your views there rather than getting rid of the links on your own. 198.204.92.193</td>\n",
       "      <td>0</td>\n",
       "      <td>tell discussion page indicate minority subject view getting rid link</td>\n",
       "    </tr>\n",
       "    <tr>\n",
       "      <th>154885</th>\n",
       "      <td>\"\\n\\nFact: The majority of soldiers serving in the Rhodesian Army at the time of the bush war were black.\\nFact: The ZIPRA/ZANLA \"\"forces\"\" never overcame the Rhodesian forces, the majority of internal engagements were short, sharp firefights, the usual result being either the complete annihilation, or dispersal of the terrorist groups involved. The external engagements, or camp attacks always resulted in overwhelming victories for the Rhodesian forces.\\nFact: ZIPRA/ZANLA were both left wing organisations, with full backing from far-left Marxists states. \\nFact: ZIPRA/ZANLA \"\"forces\"\" deployed within Rhodesia preferred to not engage the Rhodesian armed forces, and this was also not their role, as operating in small groups of up to 20 men, without any form of air support, they could not take on the security on anything approaching equal terms. They were deployed primarily to \"\"politicise\"\" the rural black population (usually by terrorising those who did not fully support of their parent organisation into doing so), and to destabilise the economy as much as possible by attacking soft targets. \\nFact: Neither ZIPRA or ZANLA overcame (as you put it) the Rhodesian army. Possibly the conventionally trained ZIPRA troops who were held back in Zambia, and never committed to the bush war, could have defeated the Rhodesian forces in open battle, considering that towards the end of the war these conventionally trained troops were far better equipped than the Rhodesian forces, but as Nkomo never gave the go order, we will never know.\\nBy the sounds of things though, you would not be happy to see anything that is not politically correct, no matter how factual\"</td>\n",
       "      <td>0</td>\n",
       "      <td>fact majority soldier serve rhodesian army time bush war black fact zipra zanla force overcome rhodesian force majority internal engagement short sharp firefight usual result complete annihilation dispersal terrorist group involve external engagement camp attack result overwhelming victory rhodesian force fact zipra zanla leave wing organisation backing far leave marxist state fact zipra zanla force deploy rhodesia prefer engage rhodesian armed force role operate small group man form air support security approach equal term deploy primarily politicise rural black population usually terrorise fully support parent organisation destabilise economy possible attack soft target fact zipra zanla overcame rhodesian army possibly conventionally train zipra troop hold zambia commit bush war defeat rhodesian force open battle consider end war conventionally train troop far well equip rhodesian force nkomo give order know sound thing happy politically correct matter factual</td>\n",
       "    </tr>\n",
       "    <tr>\n",
       "      <th>107259</th>\n",
       "      <td>TUSC token ff3c4c432fe5ac19c4c17baebde12a00 \\n\\nI am now proud owner of a TUSC account!</td>\n",
       "      <td>0</td>\n",
       "      <td>tusc token proud owner tusc account</td>\n",
       "    </tr>\n",
       "    <tr>\n",
       "      <th>104714</th>\n",
       "      <td>&gt;{{unblock|number 57 is an absolute disgrace for the amounts of foul and abusive language he has personally attacked me..I will tell everyone not to believe in Wikipedia purely because of this one being</td>\n",
       "      <td>0</td>\n",
       "      <td>absolute disgrace amount foul abusive language personally attack tell believe wikipedia purely</td>\n",
       "    </tr>\n",
       "    <tr>\n",
       "      <th>135044</th>\n",
       "      <td>11:45, 10 February 2007|66.235.42.154}}\\n\\nWikify\\nif you want to help you can wikify articles on marie Plosjö or Jenny Ulving or Josephine Bornebusch. ;) /matrix17 {{unsigned2|</td>\n",
       "      <td>0</td>\n",
       "      <td>february wikify want help wikify article marie plosjö jenny ulving josephine bornebusch</td>\n",
       "    </tr>\n",
       "    <tr>\n",
       "      <th>52068</th>\n",
       "      <td>Also, thanks for pointing out the OFAC inconsistancy - meant to input State Department's Helms-Burton Unit. It had been a LONGGGGGGGGG day. Very good catch, will update H/B Unit.</td>\n",
       "      <td>0</td>\n",
       "      <td>thank point ofac inconsistancy mean input state department helms burton unit longgggggggg day good catch update h b unit</td>\n",
       "    </tr>\n",
       "    <tr>\n",
       "      <th>109256</th>\n",
       "      <td>ME! \\n\\nU havnt been 2 kaipara college, u dont kno what iyts like faggot!!!</td>\n",
       "      <td>1</td>\n",
       "      <td>u havnt kaipara college u not kno iyts like faggot</td>\n",
       "    </tr>\n",
       "    <tr>\n",
       "      <th>49894</th>\n",
       "      <td>If you are a moderator, you are a poor excuse for one.  Please stay out of things that you aren't bothering to investigate.  I am the good guy here. 123.2.223.96</td>\n",
       "      <td>0</td>\n",
       "      <td>moderator poor excuse stay thing bother investigate good guy</td>\n",
       "    </tr>\n",
       "    <tr>\n",
       "      <th>43138</th>\n",
       "      <td>\"\\nIt applies to all of them. Thanks for pointing the one that I missed removing. Your change was incorrect WH was not in \"\"Mission to the Unknown\"\" - none of the main cast was. So \"\"134 eps\"\" was erroneous info. That is the problem with WP:OR it can get things wrong. Not saying that WP:RSs don't make mistakes as well. |Talk \"</td>\n",
       "      <td>0</td>\n",
       "      <td>apply thank point miss remove change incorrect wh mission unknown main cast ep erroneous info problem wp thing wrong say wp rss mistake</td>\n",
       "    </tr>\n",
       "    <tr>\n",
       "      <th>75207</th>\n",
       "      <td>April 2007 \\n Please stop. If you continue to vandalize Wikipedia, as you did to Ethanol, you will be blocked from editing.  — (Talk)</td>\n",
       "      <td>0</td>\n",
       "      <td>april stop continue vandalize wikipedia ethanol block editing talk</td>\n",
       "    </tr>\n",
       "    <tr>\n",
       "      <th>128271</th>\n",
       "      <td>wow this whole article is retarded. it was clearly written by a fan and is more of a review of their music. its nothing more than some one's opinion. i think it should be deleted if it is cleaned up.</td>\n",
       "      <td>0</td>\n",
       "      <td>wow article retard clearly write fan review music opinion think delete clean</td>\n",
       "    </tr>\n",
       "    <tr>\n",
       "      <th>75770</th>\n",
       "      <td>Stack templates \\n\\nI noticed your comments in the discussion regarding  so I thought you might know the answer to my question at Template talk:Stack begin. TIA.</td>\n",
       "      <td>0</td>\n",
       "      <td>stack template notice comment discussion think know answer question template talk stack begin tia</td>\n",
       "    </tr>\n",
       "    <tr>\n",
       "      <th>14120</th>\n",
       "      <td>angered that he was asked</td>\n",
       "      <td>0</td>\n",
       "      <td>anger ask</td>\n",
       "    </tr>\n",
       "  </tbody>\n",
       "</table>\n",
       "</div>"
      ],
      "text/plain": [
       "                                                                                                                                                                                                                                                                                                                                                                                                                                                                                                                                                                                                                                                                                                                                                                                                                                                                                                                                                                                                                                                                                                                                                                                                                                                                                                                                                                                                                                                                                                                                                                                                                                                                                                                                                  text  \\\n",
       "Unnamed: 0                                                                                                                                                                                                                                                                                                                                                                                                                                                                                                                                                                                                                                                                                                                                                                                                                                                                                                                                                                                                                                                                                                                                                                                                                                                                                                                                                                                                                                                                                                                                                                                                                                                                                                                                               \n",
       "19172                                                                                                                                                                                                                                                                                                                                                                                                                                                                                                                                                                                                                                                                                                                                                                                                                                                                                                                                                                                                                                                                                                                                                                                                                                                                                                                       \"\\nWe use whichever name, phrase, or descriptor best conveys the topic. Which, in this case, is to mention the wildly minority and specialised viewpoint that they are one lake briefly in Great Lakes, and that's it. We certainly don't edit-war to remove Lake Michigan and Lake Huron from lake lists. When 9001 people say X, and three people say Y, Y clearly doesn't \"\"best convey the topic\"\". -  One ping only \"   \n",
       "118101                                                                                                                                                                                                                                                                                                                                                                                                                                                                                                                                                                                                                                                                                                                                                                                                                                                                                                                                                                                                                                                                                                                                                                                                                                                                                                                                                                                                                                                                                                                                                                                                                                                                                                                        F**K YOUR GUTS \\n\\nlol )   \n",
       "17437                                                                                                                                                                                                                                                                                                                                                                                                                                                                                                                                                                                                                                                                                                                                                                                                                                                                                                                                                                                                                                                                                                                                                                                                                                                                                                                                                                                                                                                                                                                                                   Please don't tell me what to do.  The discussion page indicates you are in a minority on this subject.  Take your views there rather than getting rid of the links on your own. 198.204.92.193   \n",
       "154885      \"\\n\\nFact: The majority of soldiers serving in the Rhodesian Army at the time of the bush war were black.\\nFact: The ZIPRA/ZANLA \"\"forces\"\" never overcame the Rhodesian forces, the majority of internal engagements were short, sharp firefights, the usual result being either the complete annihilation, or dispersal of the terrorist groups involved. The external engagements, or camp attacks always resulted in overwhelming victories for the Rhodesian forces.\\nFact: ZIPRA/ZANLA were both left wing organisations, with full backing from far-left Marxists states. \\nFact: ZIPRA/ZANLA \"\"forces\"\" deployed within Rhodesia preferred to not engage the Rhodesian armed forces, and this was also not their role, as operating in small groups of up to 20 men, without any form of air support, they could not take on the security on anything approaching equal terms. They were deployed primarily to \"\"politicise\"\" the rural black population (usually by terrorising those who did not fully support of their parent organisation into doing so), and to destabilise the economy as much as possible by attacking soft targets. \\nFact: Neither ZIPRA or ZANLA overcame (as you put it) the Rhodesian army. Possibly the conventionally trained ZIPRA troops who were held back in Zambia, and never committed to the bush war, could have defeated the Rhodesian forces in open battle, considering that towards the end of the war these conventionally trained troops were far better equipped than the Rhodesian forces, but as Nkomo never gave the go order, we will never know.\\nBy the sounds of things though, you would not be happy to see anything that is not politically correct, no matter how factual\"   \n",
       "107259                                                                                                                                                                                                                                                                                                                                                                                                                                                                                                                                                                                                                                                                                                                                                                                                                                                                                                                                                                                                                                                                                                                                                                                                                                                                                                                                                                                                                                                                                                                                                                                                                                                         TUSC token ff3c4c432fe5ac19c4c17baebde12a00 \\n\\nI am now proud owner of a TUSC account!   \n",
       "104714                                                                                                                                                                                                                                                                                                                                                                                                                                                                                                                                                                                                                                                                                                                                                                                                                                                                                                                                                                                                                                                                                                                                                                                                                                                                                                                                                                                                                                                                                                                                      >{{unblock|number 57 is an absolute disgrace for the amounts of foul and abusive language he has personally attacked me..I will tell everyone not to believe in Wikipedia purely because of this one being   \n",
       "135044                                                                                                                                                                                                                                                                                                                                                                                                                                                                                                                                                                                                                                                                                                                                                                                                                                                                                                                                                                                                                                                                                                                                                                                                                                                                                                                                                                                                                                                                                                                                                               11:45, 10 February 2007|66.235.42.154}}\\n\\nWikify\\nif you want to help you can wikify articles on marie Plosjö or Jenny Ulving or Josephine Bornebusch. ;) /matrix17 {{unsigned2|   \n",
       "52068                                                                                                                                                                                                                                                                                                                                                                                                                                                                                                                                                                                                                                                                                                                                                                                                                                                                                                                                                                                                                                                                                                                                                                                                                                                                                                                                                                                                                                                                                                                                                               Also, thanks for pointing out the OFAC inconsistancy - meant to input State Department's Helms-Burton Unit. It had been a LONGGGGGGGGG day. Very good catch, will update H/B Unit.   \n",
       "109256                                                                                                                                                                                                                                                                                                                                                                                                                                                                                                                                                                                                                                                                                                                                                                                                                                                                                                                                                                                                                                                                                                                                                                                                                                                                                                                                                                                                                                                                                                                                                                                                                                                                     ME! \\n\\nU havnt been 2 kaipara college, u dont kno what iyts like faggot!!!   \n",
       "49894                                                                                                                                                                                                                                                                                                                                                                                                                                                                                                                                                                                                                                                                                                                                                                                                                                                                                                                                                                                                                                                                                                                                                                                                                                                                                                                                                                                                                                                                                                                                                                                If you are a moderator, you are a poor excuse for one.  Please stay out of things that you aren't bothering to investigate.  I am the good guy here. 123.2.223.96   \n",
       "43138                                                                                                                                                                                                                                                                                                                                                                                                                                                                                                                                                                                                                                                                                                                                                                                                                                                                                                                                                                                                                                                                                                                                                                                                                                                                                                                                                                                                         \"\\nIt applies to all of them. Thanks for pointing the one that I missed removing. Your change was incorrect WH was not in \"\"Mission to the Unknown\"\" - none of the main cast was. So \"\"134 eps\"\" was erroneous info. That is the problem with WP:OR it can get things wrong. Not saying that WP:RSs don't make mistakes as well. |Talk \"   \n",
       "75207                                                                                                                                                                                                                                                                                                                                                                                                                                                                                                                                                                                                                                                                                                                                                                                                                                                                                                                                                                                                                                                                                                                                                                                                                                                                                                                                                                                                                                                                                                                                                                                                            April 2007 \\n Please stop. If you continue to vandalize Wikipedia, as you did to Ethanol, you will be blocked from editing.  — (Talk)   \n",
       "128271                                                                                                                                                                                                                                                                                                                                                                                                                                                                                                                                                                                                                                                                                                                                                                                                                                                                                                                                                                                                                                                                                                                                                                                                                                                                                                                                                                                                                                                                                                                                         wow this whole article is retarded. it was clearly written by a fan and is more of a review of their music. its nothing more than some one's opinion. i think it should be deleted if it is cleaned up.   \n",
       "75770                                                                                                                                                                                                                                                                                                                                                                                                                                                                                                                                                                                                                                                                                                                                                                                                                                                                                                                                                                                                                                                                                                                                                                                                                                                                                                                                                                                                                                                                                                                                                                                Stack templates \\n\\nI noticed your comments in the discussion regarding  so I thought you might know the answer to my question at Template talk:Stack begin. TIA.   \n",
       "14120                                                                                                                                                                                                                                                                                                                                                                                                                                                                                                                                                                                                                                                                                                                                                                                                                                                                                                                                                                                                                                                                                                                                                                                                                                                                                                                                                                                                                                                                                                                                                                                                                                                                                                                        angered that he was asked   \n",
       "\n",
       "            toxic  \\\n",
       "Unnamed: 0          \n",
       "19172           0   \n",
       "118101          1   \n",
       "17437           0   \n",
       "154885          0   \n",
       "107259          0   \n",
       "104714          0   \n",
       "135044          0   \n",
       "52068           0   \n",
       "109256          1   \n",
       "49894           0   \n",
       "43138           0   \n",
       "75207           0   \n",
       "128271          0   \n",
       "75770           0   \n",
       "14120           0   \n",
       "\n",
       "                                                                                                                                                                                                                                                                                                                                                                                                                                                                                                                                                                                                                                                                                                                                                                                                                                                                                                                                                                                                                  lemm_spacy  \n",
       "Unnamed: 0                                                                                                                                                                                                                                                                                                                                                                                                                                                                                                                                                                                                                                                                                                                                                                                                                                                                                                                                                                                                                    \n",
       "19172                                                                                                                                                                                                                                                                                                                                                                                                                                                                                                                                                                                                                                                                                                                                                                           use whichever phrase descriptor good convey topic case mention wildly minority specialised viewpoint lake briefly great lake certainly edit war remove lake michigan lake huron lake list people x people y y clearly good convey topic ping  \n",
       "118101                                                                                                                                                                                                                                                                                                                                                                                                                                                                                                                                                                                                                                                                                                                                                                                                                                                                                                                                                                                                               gut lol  \n",
       "17437                                                                                                                                                                                                                                                                                                                                                                                                                                                                                                                                                                                                                                                                                                                                                                                                                                                                                                                                                   tell discussion page indicate minority subject view getting rid link  \n",
       "154885      fact majority soldier serve rhodesian army time bush war black fact zipra zanla force overcome rhodesian force majority internal engagement short sharp firefight usual result complete annihilation dispersal terrorist group involve external engagement camp attack result overwhelming victory rhodesian force fact zipra zanla leave wing organisation backing far leave marxist state fact zipra zanla force deploy rhodesia prefer engage rhodesian armed force role operate small group man form air support security approach equal term deploy primarily politicise rural black population usually terrorise fully support parent organisation destabilise economy possible attack soft target fact zipra zanla overcame rhodesian army possibly conventionally train zipra troop hold zambia commit bush war defeat rhodesian force open battle consider end war conventionally train troop far well equip rhodesian force nkomo give order know sound thing happy politically correct matter factual  \n",
       "107259                                                                                                                                                                                                                                                                                                                                                                                                                                                                                                                                                                                                                                                                                                                                                                                                                                                                                                                                                                                   tusc token proud owner tusc account  \n",
       "104714                                                                                                                                                                                                                                                                                                                                                                                                                                                                                                                                                                                                                                                                                                                                                                                                                                                                                                                        absolute disgrace amount foul abusive language personally attack tell believe wikipedia purely  \n",
       "135044                                                                                                                                                                                                                                                                                                                                                                                                                                                                                                                                                                                                                                                                                                                                                                                                                                                                                                                               february wikify want help wikify article marie plosjö jenny ulving josephine bornebusch  \n",
       "52068                                                                                                                                                                                                                                                                                                                                                                                                                                                                                                                                                                                                                                                                                                                                                                                                                                                                                               thank point ofac inconsistancy mean input state department helms burton unit longgggggggg day good catch update h b unit  \n",
       "109256                                                                                                                                                                                                                                                                                                                                                                                                                                                                                                                                                                                                                                                                                                                                                                                                                                                                                                                                                                    u havnt kaipara college u not kno iyts like faggot  \n",
       "49894                                                                                                                                                                                                                                                                                                                                                                                                                                                                                                                                                                                                                                                                                                                                                                                                                                                                                                                                                           moderator poor excuse stay thing bother investigate good guy  \n",
       "43138                                                                                                                                                                                                                                                                                                                                                                                                                                                                                                                                                                                                                                                                                                                                                                                                                                                                                apply thank point miss remove change incorrect wh mission unknown main cast ep erroneous info problem wp thing wrong say wp rss mistake  \n",
       "75207                                                                                                                                                                                                                                                                                                                                                                                                                                                                                                                                                                                                                                                                                                                                                                                                                                                                                                                                                     april stop continue vandalize wikipedia ethanol block editing talk  \n",
       "128271                                                                                                                                                                                                                                                                                                                                                                                                                                                                                                                                                                                                                                                                                                                                                                                                                                                                                                                                          wow article retard clearly write fan review music opinion think delete clean  \n",
       "75770                                                                                                                                                                                                                                                                                                                                                                                                                                                                                                                                                                                                                                                                                                                                                                                                                                                                                                                      stack template notice comment discussion think know answer question template talk stack begin tia  \n",
       "14120                                                                                                                                                                                                                                                                                                                                                                                                                                                                                                                                                                                                                                                                                                                                                                                                                                                                                                                                                                                                              anger ask  "
      ]
     },
     "execution_count": 15,
     "metadata": {},
     "output_type": "execute_result"
    }
   ],
   "source": [
    "pd.set_option('display.max_colwidth', None)\n",
    "sample"
   ]
  },
  {
   "cell_type": "markdown",
   "metadata": {},
   "source": [
    "На образце результат лемматизации выглядит корректно, можно применять ко всему объему тренировочных данных."
   ]
  },
  {
   "cell_type": "code",
   "execution_count": 16,
   "metadata": {},
   "outputs": [
    {
     "name": "stderr",
     "output_type": "stream",
     "text": [
      "100%|██████████| 159292/159292 [33:15<00:00, 79.84it/s]  \n"
     ]
    }
   ],
   "source": [
    "tqdm.pandas()\n",
    "file['lemm_text'] = file['text'].progress_apply(lemmatize_spacy)"
   ]
  },
  {
   "cell_type": "code",
   "execution_count": 17,
   "metadata": {},
   "outputs": [
    {
     "name": "stdout",
     "output_type": "stream",
     "text": [
      "<class 'pandas.core.frame.DataFrame'>\n",
      "Int64Index: 159292 entries, 0 to 159450\n",
      "Data columns (total 3 columns):\n",
      " #   Column     Non-Null Count   Dtype \n",
      "---  ------     --------------   ----- \n",
      " 0   text       159292 non-null  object\n",
      " 1   toxic      159292 non-null  int64 \n",
      " 2   lemm_text  159292 non-null  object\n",
      "dtypes: int64(1), object(2)\n",
      "memory usage: 4.9+ MB\n"
     ]
    }
   ],
   "source": [
    "file.info()"
   ]
  },
  {
   "cell_type": "markdown",
   "metadata": {},
   "source": [
    "Проверим корректность лемматизации."
   ]
  },
  {
   "cell_type": "code",
   "execution_count": 18,
   "metadata": {},
   "outputs": [
    {
     "data": {
      "text/html": [
       "<div>\n",
       "<style scoped>\n",
       "    .dataframe tbody tr th:only-of-type {\n",
       "        vertical-align: middle;\n",
       "    }\n",
       "\n",
       "    .dataframe tbody tr th {\n",
       "        vertical-align: top;\n",
       "    }\n",
       "\n",
       "    .dataframe thead th {\n",
       "        text-align: right;\n",
       "    }\n",
       "</style>\n",
       "<table border=\"1\" class=\"dataframe\">\n",
       "  <thead>\n",
       "    <tr style=\"text-align: right;\">\n",
       "      <th></th>\n",
       "      <th>text</th>\n",
       "      <th>toxic</th>\n",
       "      <th>lemm_text</th>\n",
       "    </tr>\n",
       "    <tr>\n",
       "      <th>Unnamed: 0</th>\n",
       "      <th></th>\n",
       "      <th></th>\n",
       "      <th></th>\n",
       "    </tr>\n",
       "  </thead>\n",
       "  <tbody>\n",
       "    <tr>\n",
       "      <th>0</th>\n",
       "      <td>Explanation\\nWhy the edits made under my username Hardcore Metallica Fan were reverted? They weren't vandalisms, just closure on some GAs after I voted at New York Dolls FAC. And please don't remove the template from the talk page since I'm retired now.89.205.38.27</td>\n",
       "      <td>0</td>\n",
       "      <td>explanation edit username hardcore metallica fan revert vandalism closure gas vote new york doll fac remove template talk page retire</td>\n",
       "    </tr>\n",
       "    <tr>\n",
       "      <th>1</th>\n",
       "      <td>D'aww! He matches this background colour I'm seemingly stuck with. Thanks.  (talk) 21:51, January 11, 2016 (UTC)</td>\n",
       "      <td>0</td>\n",
       "      <td>match background colour seemingly stuck thank talk january utc</td>\n",
       "    </tr>\n",
       "    <tr>\n",
       "      <th>2</th>\n",
       "      <td>Hey man, I'm really not trying to edit war. It's just that this guy is constantly removing relevant information and talking to me through edits instead of my talk page. He seems to care more about the formatting than the actual info.</td>\n",
       "      <td>0</td>\n",
       "      <td>hey man try edit war guy constantly remove relevant information talk edit instead talk page care formatting actual info</td>\n",
       "    </tr>\n",
       "    <tr>\n",
       "      <th>3</th>\n",
       "      <td>\"\\nMore\\nI can't make any real suggestions on improvement - I wondered if the section statistics should be later on, or a subsection of \"\"types of accidents\"\"  -I think the references may need tidying so that they are all in the exact same format ie date format etc. I can do that later on, if no-one else does first - if you have any preferences for formatting style on references or want to do it yourself please let me know.\\n\\nThere appears to be a backlog on articles for review so I guess there may be a delay until a reviewer turns up. It's listed in the relevant form eg Wikipedia:Good_article_nominations#Transport  \"</td>\n",
       "      <td>0</td>\n",
       "      <td>real suggestion improvement wonder section statistic later subsection type accident think reference need tidy exact format ie date format etc later preference format style reference want let know appear backlog article review guess delay reviewer turn list relevant form eg wikipedia</td>\n",
       "    </tr>\n",
       "    <tr>\n",
       "      <th>4</th>\n",
       "      <td>You, sir, are my hero. Any chance you remember what page that's on?</td>\n",
       "      <td>0</td>\n",
       "      <td>sir hero chance remember page</td>\n",
       "    </tr>\n",
       "    <tr>\n",
       "      <th>5</th>\n",
       "      <td>\"\\n\\nCongratulations from me as well, use the tools well.  · talk \"</td>\n",
       "      <td>0</td>\n",
       "      <td>congratulation use tool talk</td>\n",
       "    </tr>\n",
       "    <tr>\n",
       "      <th>6</th>\n",
       "      <td>COCKSUCKER BEFORE YOU PISS AROUND ON MY WORK</td>\n",
       "      <td>1</td>\n",
       "      <td>cocksucker piss work</td>\n",
       "    </tr>\n",
       "    <tr>\n",
       "      <th>7</th>\n",
       "      <td>Your vandalism to the Matt Shirvington article has been reverted.  Please don't do it again, or you will be banned.</td>\n",
       "      <td>0</td>\n",
       "      <td>vandalism matt shirvington article revert ban</td>\n",
       "    </tr>\n",
       "    <tr>\n",
       "      <th>8</th>\n",
       "      <td>Sorry if the word 'nonsense' was offensive to you. Anyway, I'm not intending to write anything in the article(wow they would jump on me for vandalism), I'm merely requesting that it be more encyclopedic so one can use it for school as a reference. I have been to the selective breeding page but it's almost a stub. It points to 'animal breeding' which is a short messy article that gives you no info. There must be someone around with expertise in eugenics? 93.161.107.169</td>\n",
       "      <td>0</td>\n",
       "      <td>sorry word nonsense offensive intend write jump vandalism merely request encyclopedic use school reference selective breeding page stub point animal breeding short messy article give info expertise eugenic</td>\n",
       "    </tr>\n",
       "    <tr>\n",
       "      <th>9</th>\n",
       "      <td>alignment on this subject and which are contrary to those of DuLithgow</td>\n",
       "      <td>0</td>\n",
       "      <td>alignment subject contrary dulithgow</td>\n",
       "    </tr>\n",
       "  </tbody>\n",
       "</table>\n",
       "</div>"
      ],
      "text/plain": [
       "                                                                                                                                                                                                                                                                                                                                                                                                                                                                                                                                                                                                                                                          text  \\\n",
       "Unnamed: 0                                                                                                                                                                                                                                                                                                                                                                                                                                                                                                                                                                                                                                                       \n",
       "0                                                                                                                                                                                                                                                                                                                                                                                    Explanation\\nWhy the edits made under my username Hardcore Metallica Fan were reverted? They weren't vandalisms, just closure on some GAs after I voted at New York Dolls FAC. And please don't remove the template from the talk page since I'm retired now.89.205.38.27   \n",
       "1                                                                                                                                                                                                                                                                                                                                                                                                                                                                                                                                             D'aww! He matches this background colour I'm seemingly stuck with. Thanks.  (talk) 21:51, January 11, 2016 (UTC)   \n",
       "2                                                                                                                                                                                                                                                                                                                                                                                                                    Hey man, I'm really not trying to edit war. It's just that this guy is constantly removing relevant information and talking to me through edits instead of my talk page. He seems to care more about the formatting than the actual info.   \n",
       "3           \"\\nMore\\nI can't make any real suggestions on improvement - I wondered if the section statistics should be later on, or a subsection of \"\"types of accidents\"\"  -I think the references may need tidying so that they are all in the exact same format ie date format etc. I can do that later on, if no-one else does first - if you have any preferences for formatting style on references or want to do it yourself please let me know.\\n\\nThere appears to be a backlog on articles for review so I guess there may be a delay until a reviewer turns up. It's listed in the relevant form eg Wikipedia:Good_article_nominations#Transport  \"   \n",
       "4                                                                                                                                                                                                                                                                                                                                                                                                                                                                                                                                                                                          You, sir, are my hero. Any chance you remember what page that's on?   \n",
       "5                                                                                                                                                                                                                                                                                                                                                                                                                                                                                                                                                                                          \"\\n\\nCongratulations from me as well, use the tools well.  · talk \"   \n",
       "6                                                                                                                                                                                                                                                                                                                                                                                                                                                                                                                                                                                                                 COCKSUCKER BEFORE YOU PISS AROUND ON MY WORK   \n",
       "7                                                                                                                                                                                                                                                                                                                                                                                                                                                                                                                                          Your vandalism to the Matt Shirvington article has been reverted.  Please don't do it again, or you will be banned.   \n",
       "8                                                                                                                                                                     Sorry if the word 'nonsense' was offensive to you. Anyway, I'm not intending to write anything in the article(wow they would jump on me for vandalism), I'm merely requesting that it be more encyclopedic so one can use it for school as a reference. I have been to the selective breeding page but it's almost a stub. It points to 'animal breeding' which is a short messy article that gives you no info. There must be someone around with expertise in eugenics? 93.161.107.169   \n",
       "9                                                                                                                                                                                                                                                                                                                                                                                                                                                                                                                                                                                       alignment on this subject and which are contrary to those of DuLithgow   \n",
       "\n",
       "            toxic  \\\n",
       "Unnamed: 0          \n",
       "0               0   \n",
       "1               0   \n",
       "2               0   \n",
       "3               0   \n",
       "4               0   \n",
       "5               0   \n",
       "6               1   \n",
       "7               0   \n",
       "8               0   \n",
       "9               0   \n",
       "\n",
       "                                                                                                                                                                                                                                                                                              lemm_text  \n",
       "Unnamed: 0                                                                                                                                                                                                                                                                                               \n",
       "0                                                                                                                                                                 explanation edit username hardcore metallica fan revert vandalism closure gas vote new york doll fac remove template talk page retire  \n",
       "1                                                                                                                                                                                                                                        match background colour seemingly stuck thank talk january utc  \n",
       "2                                                                                                                                                                               hey man try edit war guy constantly remove relevant information talk edit instead talk page care formatting actual info  \n",
       "3           real suggestion improvement wonder section statistic later subsection type accident think reference need tidy exact format ie date format etc later preference format style reference want let know appear backlog article review guess delay reviewer turn list relevant form eg wikipedia  \n",
       "4                                                                                                                                                                                                                                                                         sir hero chance remember page  \n",
       "5                                                                                                                                                                                                                                                                          congratulation use tool talk  \n",
       "6                                                                                                                                                                                                                                                                                  cocksucker piss work  \n",
       "7                                                                                                                                                                                                                                                         vandalism matt shirvington article revert ban  \n",
       "8                                                                                         sorry word nonsense offensive intend write jump vandalism merely request encyclopedic use school reference selective breeding page stub point animal breeding short messy article give info expertise eugenic  \n",
       "9                                                                                                                                                                                                                                                                  alignment subject contrary dulithgow  "
      ]
     },
     "execution_count": 18,
     "metadata": {},
     "output_type": "execute_result"
    }
   ],
   "source": [
    "pd.set_option('display.max_colwidth', None)\n",
    "file.head(10)"
   ]
  },
  {
   "cell_type": "markdown",
   "metadata": {},
   "source": [
    "Текст чистый, можно приступать к разделению данных для подготовки к обучению моделей."
   ]
  },
  {
   "cell_type": "code",
   "execution_count": 19,
   "metadata": {},
   "outputs": [],
   "source": [
    "RANDOM_STATE = 42"
   ]
  },
  {
   "cell_type": "code",
   "execution_count": 20,
   "metadata": {},
   "outputs": [],
   "source": [
    "X, y = file['lemm_text'].copy(), file['toxic'].copy()"
   ]
  },
  {
   "cell_type": "code",
   "execution_count": 21,
   "metadata": {},
   "outputs": [
    {
     "data": {
      "text/plain": [
       "((119469,), (39823,))"
      ]
     },
     "execution_count": 21,
     "metadata": {},
     "output_type": "execute_result"
    }
   ],
   "source": [
    "X_train, X_test, y_train, y_test = train_test_split(\n",
    "    X, y,\n",
    "    test_size = 0.25,\n",
    "    stratify = y,\n",
    "    random_state = RANDOM_STATE\n",
    ")\n",
    "\n",
    "X_train.shape, X_test.shape"
   ]
  },
  {
   "cell_type": "markdown",
   "metadata": {},
   "source": [
    "Для проверки качества работы моделей мы будем использовать инструмент кросс-валидации, чтобы не получить утечку данных при векторизации всей тренировочной выборки, добавим преобразование признаков в пайплайн."
   ]
  },
  {
   "cell_type": "code",
   "execution_count": 22,
   "metadata": {},
   "outputs": [],
   "source": [
    "tf_idf = TfidfVectorizer()"
   ]
  },
  {
   "cell_type": "markdown",
   "metadata": {},
   "source": [
    "## Обучение"
   ]
  },
  {
   "cell_type": "markdown",
   "metadata": {},
   "source": [
    "### LogisticRegression"
   ]
  },
  {
   "cell_type": "markdown",
   "metadata": {},
   "source": [
    "Для начала рассмотрим эффективность логистической регрессии для классификации текстовых данных. Используем солвер liblinear, так как он оптимизирован для работы с разреженными матрицами и дает возможность настройки регуляризации. Попробуем следующие гиперпараметры:\n",
    "\n",
    "- C: коэффициент регуляризации, который контролирует обратную силу регуляризации (чем меньше значение, тем сильнее регуляризация), рассмотрим значения от 3 до 15.\n",
    "- penalty: тип регуляризации (L1 или L2).\n"
   ]
  },
  {
   "cell_type": "code",
   "execution_count": 23,
   "metadata": {},
   "outputs": [],
   "source": [
    "lr_pipe = Pipeline([\n",
    "    ('vector', tf_idf),\n",
    "    ('model', LogisticRegression(random_state=RANDOM_STATE, max_iter=1000, solver='liblinear'))\n",
    "])\n",
    "lr_pg = {\n",
    "    'model__C': range(3, 16),\n",
    "    'model__penalty': ['l1', 'l2']\n",
    "}\n",
    "lr_gs = GridSearchCV(lr_pipe,\n",
    "                     lr_pg,\n",
    "                     cv=3,\n",
    "                     scoring='f1',\n",
    "                     verbose=1)"
   ]
  },
  {
   "cell_type": "code",
   "execution_count": 24,
   "metadata": {},
   "outputs": [
    {
     "name": "stdout",
     "output_type": "stream",
     "text": [
      "Fitting 3 folds for each of 26 candidates, totalling 78 fits\n"
     ]
    },
    {
     "data": {
      "text/plain": [
       "GridSearchCV(cv=3,\n",
       "             estimator=Pipeline(steps=[('vector', TfidfVectorizer()),\n",
       "                                       ('model',\n",
       "                                        LogisticRegression(max_iter=1000,\n",
       "                                                           random_state=42,\n",
       "                                                           solver='liblinear'))]),\n",
       "             param_grid={'model__C': range(3, 16),\n",
       "                         'model__penalty': ['l1', 'l2']},\n",
       "             scoring='f1', verbose=1)"
      ]
     },
     "execution_count": 24,
     "metadata": {},
     "output_type": "execute_result"
    }
   ],
   "source": [
    "lr_gs.fit(X_train, y_train)"
   ]
  },
  {
   "cell_type": "code",
   "execution_count": 25,
   "metadata": {},
   "outputs": [],
   "source": [
    "def print_result(gs):\n",
    "    print(f'Лучшие параметры: {gs.best_params_}')\n",
    "    print(f'Лучшая метрика f1 на кросс-валидации: {round(gs.best_score_, 4)}')"
   ]
  },
  {
   "cell_type": "code",
   "execution_count": 26,
   "metadata": {},
   "outputs": [
    {
     "name": "stdout",
     "output_type": "stream",
     "text": [
      "Лучшие параметры: {'model__C': 4, 'model__penalty': 'l1'}\n",
      "Лучшая метрика f1 на кросс-валидации: 0.7811\n"
     ]
    }
   ],
   "source": [
    "print_result(lr_gs)"
   ]
  },
  {
   "cell_type": "code",
   "execution_count": 27,
   "metadata": {},
   "outputs": [
    {
     "data": {
      "text/html": [
       "<div>\n",
       "<style scoped>\n",
       "    .dataframe tbody tr th:only-of-type {\n",
       "        vertical-align: middle;\n",
       "    }\n",
       "\n",
       "    .dataframe tbody tr th {\n",
       "        vertical-align: top;\n",
       "    }\n",
       "\n",
       "    .dataframe thead th {\n",
       "        text-align: right;\n",
       "    }\n",
       "</style>\n",
       "<table border=\"1\" class=\"dataframe\">\n",
       "  <thead>\n",
       "    <tr style=\"text-align: right;\">\n",
       "      <th></th>\n",
       "      <th>rank_test_score</th>\n",
       "      <th>params</th>\n",
       "      <th>mean_test_score</th>\n",
       "    </tr>\n",
       "  </thead>\n",
       "  <tbody>\n",
       "    <tr>\n",
       "      <th>2</th>\n",
       "      <td>1</td>\n",
       "      <td>{'model__C': 4, 'model__penalty': 'l1'}</td>\n",
       "      <td>0.781142</td>\n",
       "    </tr>\n",
       "    <tr>\n",
       "      <th>0</th>\n",
       "      <td>2</td>\n",
       "      <td>{'model__C': 3, 'model__penalty': 'l1'}</td>\n",
       "      <td>0.780841</td>\n",
       "    </tr>\n",
       "    <tr>\n",
       "      <th>4</th>\n",
       "      <td>3</td>\n",
       "      <td>{'model__C': 5, 'model__penalty': 'l1'}</td>\n",
       "      <td>0.779633</td>\n",
       "    </tr>\n",
       "    <tr>\n",
       "      <th>6</th>\n",
       "      <td>4</td>\n",
       "      <td>{'model__C': 6, 'model__penalty': 'l1'}</td>\n",
       "      <td>0.777154</td>\n",
       "    </tr>\n",
       "    <tr>\n",
       "      <th>8</th>\n",
       "      <td>5</td>\n",
       "      <td>{'model__C': 7, 'model__penalty': 'l1'}</td>\n",
       "      <td>0.775473</td>\n",
       "    </tr>\n",
       "    <tr>\n",
       "      <th>10</th>\n",
       "      <td>6</td>\n",
       "      <td>{'model__C': 8, 'model__penalty': 'l1'}</td>\n",
       "      <td>0.773461</td>\n",
       "    </tr>\n",
       "    <tr>\n",
       "      <th>12</th>\n",
       "      <td>7</td>\n",
       "      <td>{'model__C': 9, 'model__penalty': 'l1'}</td>\n",
       "      <td>0.771382</td>\n",
       "    </tr>\n",
       "    <tr>\n",
       "      <th>21</th>\n",
       "      <td>8</td>\n",
       "      <td>{'model__C': 13, 'model__penalty': 'l2'}</td>\n",
       "      <td>0.771009</td>\n",
       "    </tr>\n",
       "    <tr>\n",
       "      <th>23</th>\n",
       "      <td>9</td>\n",
       "      <td>{'model__C': 14, 'model__penalty': 'l2'}</td>\n",
       "      <td>0.770857</td>\n",
       "    </tr>\n",
       "    <tr>\n",
       "      <th>19</th>\n",
       "      <td>10</td>\n",
       "      <td>{'model__C': 12, 'model__penalty': 'l2'}</td>\n",
       "      <td>0.770664</td>\n",
       "    </tr>\n",
       "    <tr>\n",
       "      <th>25</th>\n",
       "      <td>11</td>\n",
       "      <td>{'model__C': 15, 'model__penalty': 'l2'}</td>\n",
       "      <td>0.770461</td>\n",
       "    </tr>\n",
       "    <tr>\n",
       "      <th>11</th>\n",
       "      <td>12</td>\n",
       "      <td>{'model__C': 8, 'model__penalty': 'l2'}</td>\n",
       "      <td>0.770396</td>\n",
       "    </tr>\n",
       "    <tr>\n",
       "      <th>13</th>\n",
       "      <td>13</td>\n",
       "      <td>{'model__C': 9, 'model__penalty': 'l2'}</td>\n",
       "      <td>0.770166</td>\n",
       "    </tr>\n",
       "    <tr>\n",
       "      <th>15</th>\n",
       "      <td>14</td>\n",
       "      <td>{'model__C': 10, 'model__penalty': 'l2'}</td>\n",
       "      <td>0.769972</td>\n",
       "    </tr>\n",
       "    <tr>\n",
       "      <th>17</th>\n",
       "      <td>15</td>\n",
       "      <td>{'model__C': 11, 'model__penalty': 'l2'}</td>\n",
       "      <td>0.769920</td>\n",
       "    </tr>\n",
       "  </tbody>\n",
       "</table>\n",
       "</div>"
      ],
      "text/plain": [
       "    rank_test_score                                    params  mean_test_score\n",
       "2                 1   {'model__C': 4, 'model__penalty': 'l1'}         0.781142\n",
       "0                 2   {'model__C': 3, 'model__penalty': 'l1'}         0.780841\n",
       "4                 3   {'model__C': 5, 'model__penalty': 'l1'}         0.779633\n",
       "6                 4   {'model__C': 6, 'model__penalty': 'l1'}         0.777154\n",
       "8                 5   {'model__C': 7, 'model__penalty': 'l1'}         0.775473\n",
       "10                6   {'model__C': 8, 'model__penalty': 'l1'}         0.773461\n",
       "12                7   {'model__C': 9, 'model__penalty': 'l1'}         0.771382\n",
       "21                8  {'model__C': 13, 'model__penalty': 'l2'}         0.771009\n",
       "23                9  {'model__C': 14, 'model__penalty': 'l2'}         0.770857\n",
       "19               10  {'model__C': 12, 'model__penalty': 'l2'}         0.770664\n",
       "25               11  {'model__C': 15, 'model__penalty': 'l2'}         0.770461\n",
       "11               12   {'model__C': 8, 'model__penalty': 'l2'}         0.770396\n",
       "13               13   {'model__C': 9, 'model__penalty': 'l2'}         0.770166\n",
       "15               14  {'model__C': 10, 'model__penalty': 'l2'}         0.769972\n",
       "17               15  {'model__C': 11, 'model__penalty': 'l2'}         0.769920"
      ]
     },
     "execution_count": 27,
     "metadata": {},
     "output_type": "execute_result"
    }
   ],
   "source": [
    "res = pd.DataFrame(lr_gs.cv_results_)\n",
    "res[['rank_test_score', 'params', 'mean_test_score']].sort_values('rank_test_score').head(15)"
   ]
  },
  {
   "cell_type": "markdown",
   "metadata": {},
   "source": [
    "### ComplementNB"
   ]
  },
  {
   "cell_type": "markdown",
   "metadata": {},
   "source": [
    "Модель Complement Naive Bayes (ComplementNB) разработана специально для работы с несбалансированными данными и практиески не требует настройки параметров. Это вероятностный классификатор на основе формулы Байеса с наивным предположением о независимости признаков между собой при заданном классе, что сильно упрощает задачу классификации из-за оценки одномерных вероятностных плотностей вместо одной многомерной."
   ]
  },
  {
   "cell_type": "code",
   "execution_count": 28,
   "metadata": {},
   "outputs": [],
   "source": [
    "cnb_pipe = Pipeline([\n",
    "    ('vector', tf_idf),\n",
    "    ('model', ComplementNB())\n",
    "])\n",
    "\n",
    "cnb_pg = {\n",
    "    'model__alpha': [0.1, 0.3, 0.5, 0.7, 0.9, 1]\n",
    "}\n",
    "\n",
    "cnb_gs = GridSearchCV(cnb_pipe,\n",
    "                      cnb_pg,\n",
    "                      cv=3,\n",
    "                      scoring='f1',\n",
    "                      verbose=2)"
   ]
  },
  {
   "cell_type": "code",
   "execution_count": 29,
   "metadata": {},
   "outputs": [
    {
     "name": "stdout",
     "output_type": "stream",
     "text": [
      "Fitting 3 folds for each of 6 candidates, totalling 18 fits\n",
      "[CV] END ...................................model__alpha=0.1; total time=   2.6s\n",
      "[CV] END ...................................model__alpha=0.1; total time=   2.5s\n",
      "[CV] END ...................................model__alpha=0.1; total time=   2.5s\n",
      "[CV] END ...................................model__alpha=0.3; total time=   2.6s\n",
      "[CV] END ...................................model__alpha=0.3; total time=   2.5s\n",
      "[CV] END ...................................model__alpha=0.3; total time=   2.4s\n",
      "[CV] END ...................................model__alpha=0.5; total time=   2.5s\n",
      "[CV] END ...................................model__alpha=0.5; total time=   2.5s\n",
      "[CV] END ...................................model__alpha=0.5; total time=   2.5s\n",
      "[CV] END ...................................model__alpha=0.7; total time=   2.4s\n",
      "[CV] END ...................................model__alpha=0.7; total time=   2.5s\n",
      "[CV] END ...................................model__alpha=0.7; total time=   2.5s\n",
      "[CV] END ...................................model__alpha=0.9; total time=   2.5s\n",
      "[CV] END ...................................model__alpha=0.9; total time=   2.5s\n",
      "[CV] END ...................................model__alpha=0.9; total time=   2.4s\n",
      "[CV] END .....................................model__alpha=1; total time=   2.4s\n",
      "[CV] END .....................................model__alpha=1; total time=   2.5s\n",
      "[CV] END .....................................model__alpha=1; total time=   2.5s\n"
     ]
    },
    {
     "data": {
      "text/plain": [
       "GridSearchCV(cv=3,\n",
       "             estimator=Pipeline(steps=[('vector', TfidfVectorizer()),\n",
       "                                       ('model', ComplementNB())]),\n",
       "             param_grid={'model__alpha': [0.1, 0.3, 0.5, 0.7, 0.9, 1]},\n",
       "             scoring='f1', verbose=2)"
      ]
     },
     "execution_count": 29,
     "metadata": {},
     "output_type": "execute_result"
    }
   ],
   "source": [
    "cnb_gs.fit(X_train, y_train)"
   ]
  },
  {
   "cell_type": "code",
   "execution_count": 30,
   "metadata": {},
   "outputs": [
    {
     "name": "stdout",
     "output_type": "stream",
     "text": [
      "Лучшие параметры: {'model__alpha': 0.3}\n",
      "Лучшая метрика f1 на кросс-валидации: 0.6714\n"
     ]
    }
   ],
   "source": [
    "print_result(cnb_gs)"
   ]
  },
  {
   "cell_type": "markdown",
   "metadata": {},
   "source": [
    "### LGBMClassifier"
   ]
  },
  {
   "cell_type": "markdown",
   "metadata": {},
   "source": [
    "Используем модель градиентного бустинга с количеством деревьев 1000."
   ]
  },
  {
   "cell_type": "code",
   "execution_count": 31,
   "metadata": {},
   "outputs": [],
   "source": [
    "lgb_pipe = Pipeline([\n",
    "    ('vector', tf_idf),\n",
    "    ('model', lgb.LGBMClassifier(n_estimators=1000))\n",
    "])\n",
    "\n",
    "lgb_pg = {\n",
    "    'model__learning_rate': [0.01, 0.1]\n",
    "}\n",
    "\n",
    "lgb_gs = GridSearchCV(lgb_pipe,\n",
    "                      lgb_pg,\n",
    "                      cv=3,\n",
    "                      n_jobs=1,\n",
    "                      scoring='f1',\n",
    "                      verbose=2)"
   ]
  },
  {
   "cell_type": "code",
   "execution_count": 32,
   "metadata": {},
   "outputs": [
    {
     "name": "stdout",
     "output_type": "stream",
     "text": [
      "Fitting 3 folds for each of 2 candidates, totalling 6 fits\n",
      "[CV] END ..........................model__learning_rate=0.01; total time=12.4min\n",
      "[CV] END ..........................model__learning_rate=0.01; total time=12.3min\n",
      "[CV] END ..........................model__learning_rate=0.01; total time=12.3min\n",
      "[CV] END ...........................model__learning_rate=0.1; total time=10.4min\n",
      "[CV] END ...........................model__learning_rate=0.1; total time=10.2min\n",
      "[CV] END ...........................model__learning_rate=0.1; total time=10.4min\n"
     ]
    },
    {
     "data": {
      "text/plain": [
       "GridSearchCV(cv=3,\n",
       "             estimator=Pipeline(steps=[('vector', TfidfVectorizer()),\n",
       "                                       ('model',\n",
       "                                        LGBMClassifier(n_estimators=1000))]),\n",
       "             n_jobs=1, param_grid={'model__learning_rate': [0.01, 0.1]},\n",
       "             scoring='f1', verbose=2)"
      ]
     },
     "execution_count": 32,
     "metadata": {},
     "output_type": "execute_result"
    }
   ],
   "source": [
    "lgb_gs.fit(X_train, y_train)"
   ]
  },
  {
   "cell_type": "code",
   "execution_count": 33,
   "metadata": {},
   "outputs": [
    {
     "name": "stdout",
     "output_type": "stream",
     "text": [
      "Лучшие параметры: {'model__learning_rate': 0.1}\n",
      "Лучшая метрика f1 на кросс-валидации: 0.7723\n"
     ]
    }
   ],
   "source": [
    "print_result(lgb_gs)"
   ]
  },
  {
   "cell_type": "markdown",
   "metadata": {},
   "source": [
    "## Выводы"
   ]
  },
  {
   "cell_type": "code",
   "execution_count": 34,
   "metadata": {},
   "outputs": [
    {
     "data": {
      "text/html": [
       "<div>\n",
       "<style scoped>\n",
       "    .dataframe tbody tr th:only-of-type {\n",
       "        vertical-align: middle;\n",
       "    }\n",
       "\n",
       "    .dataframe tbody tr th {\n",
       "        vertical-align: top;\n",
       "    }\n",
       "\n",
       "    .dataframe thead th {\n",
       "        text-align: right;\n",
       "    }\n",
       "</style>\n",
       "<table border=\"1\" class=\"dataframe\">\n",
       "  <thead>\n",
       "    <tr style=\"text-align: right;\">\n",
       "      <th></th>\n",
       "      <th>rank_test_score</th>\n",
       "      <th>name</th>\n",
       "      <th>params</th>\n",
       "      <th>mean_test_score</th>\n",
       "      <th>mean_fit_time</th>\n",
       "      <th>mean_score_time</th>\n",
       "    </tr>\n",
       "  </thead>\n",
       "  <tbody>\n",
       "    <tr>\n",
       "      <th>2</th>\n",
       "      <td>1</td>\n",
       "      <td>LogisticRegression</td>\n",
       "      <td>{'model__C': 4, 'model__penalty': 'l1'}</td>\n",
       "      <td>0.781142</td>\n",
       "      <td>2.285378</td>\n",
       "      <td>0.766940</td>\n",
       "    </tr>\n",
       "    <tr>\n",
       "      <th>33</th>\n",
       "      <td>1</td>\n",
       "      <td>LGBMClassifier</td>\n",
       "      <td>{'model__learning_rate': 0.1}</td>\n",
       "      <td>0.772257</td>\n",
       "      <td>609.954748</td>\n",
       "      <td>8.564323</td>\n",
       "    </tr>\n",
       "    <tr>\n",
       "      <th>27</th>\n",
       "      <td>1</td>\n",
       "      <td>ComplementNB</td>\n",
       "      <td>{'model__alpha': 0.3}</td>\n",
       "      <td>0.671426</td>\n",
       "      <td>1.707955</td>\n",
       "      <td>0.781772</td>\n",
       "    </tr>\n",
       "  </tbody>\n",
       "</table>\n",
       "</div>"
      ],
      "text/plain": [
       "    rank_test_score                name  \\\n",
       "2                 1  LogisticRegression   \n",
       "33                1      LGBMClassifier   \n",
       "27                1        ComplementNB   \n",
       "\n",
       "                                     params  mean_test_score  mean_fit_time  \\\n",
       "2   {'model__C': 4, 'model__penalty': 'l1'}         0.781142       2.285378   \n",
       "33            {'model__learning_rate': 0.1}         0.772257     609.954748   \n",
       "27                    {'model__alpha': 0.3}         0.671426       1.707955   \n",
       "\n",
       "    mean_score_time  \n",
       "2          0.766940  \n",
       "33         8.564323  \n",
       "27         0.781772  "
      ]
     },
     "execution_count": 34,
     "metadata": {},
     "output_type": "execute_result"
    }
   ],
   "source": [
    "lr_results = pd.DataFrame(lr_gs.cv_results_)\n",
    "cnb_results = pd.DataFrame(cnb_gs.cv_results_)\n",
    "lgb_results = pd.DataFrame(lgb_gs.cv_results_)\n",
    "\n",
    "lr_results['name'] = 'LogisticRegression'\n",
    "cnb_results['name'] = 'ComplementNB'\n",
    "lgb_results['name'] = 'LGBMClassifier'\n",
    "\n",
    "results = pd.concat([lr_results, cnb_results, lgb_results], ignore_index=True)\n",
    "\n",
    "results = results[\n",
    "    ['rank_test_score', 'name', 'params', 'mean_test_score', 'mean_fit_time', 'mean_score_time']\n",
    "].query('rank_test_score == 1').sort_values('mean_test_score', ascending=False)\n",
    "\n",
    "results"
   ]
  },
  {
   "cell_type": "markdown",
   "metadata": {},
   "source": [
    "Лучшую метрику на кросс-валидации демонстрирует модель логистической регресии с параметром коэффициента регуляризации C=4, без автоматического взвешивания классов и типом регуляризации L1, которая добавляет штраф за сумму абсолютных значений весов. С небольшим оставанием по значению метрики f1 находится  модель градиентного бустинга LightGBM, но скорость обучения и предсказания значительно выше, чем у модели регресии, что делает этот классификатор гораздо менее привлекательным. Модель ComplementNB демонстрирует невероятную скорость обучения, но, к сожалению, ее метрика на кросс-валидации является самой низкой и не дотягивает до установленного заказчиком минимума.\n",
    "\n",
    "Обучим модель с лучшими показателями на всем объеме тренировочных данных и рассчитаем метрику f1 на тестовых данных."
   ]
  },
  {
   "cell_type": "code",
   "execution_count": 35,
   "metadata": {},
   "outputs": [],
   "source": [
    "best_model = lr_gs.best_estimator_"
   ]
  },
  {
   "cell_type": "code",
   "execution_count": 36,
   "metadata": {},
   "outputs": [
    {
     "data": {
      "text/plain": [
       "Pipeline(steps=[('vector', TfidfVectorizer()),\n",
       "                ('model',\n",
       "                 LogisticRegression(C=4, max_iter=1000, penalty='l1',\n",
       "                                    random_state=42, solver='liblinear'))])"
      ]
     },
     "execution_count": 36,
     "metadata": {},
     "output_type": "execute_result"
    }
   ],
   "source": [
    "best_model.fit(X_train, y_train)"
   ]
  },
  {
   "cell_type": "code",
   "execution_count": 37,
   "metadata": {},
   "outputs": [],
   "source": [
    "y_pred = best_model.predict(X_test)"
   ]
  },
  {
   "cell_type": "code",
   "execution_count": 38,
   "metadata": {},
   "outputs": [
    {
     "data": {
      "text/plain": [
       "0.779843707895446"
      ]
     },
     "execution_count": 38,
     "metadata": {},
     "output_type": "execute_result"
    }
   ],
   "source": [
    "f1_score(y_test, y_pred)"
   ]
  },
  {
   "cell_type": "markdown",
   "metadata": {},
   "source": [
    "Значение метрики F1 0,78 на тестовых данных говорит о том, что модель имеет достаточный баланс между точностью и полнотой, а значит, она эффективна в разделении комментариев на позитивные и негативные, условие заказчика выполнено."
   ]
  },
  {
   "cell_type": "code",
   "execution_count": 39,
   "metadata": {},
   "outputs": [
    {
     "name": "stdout",
     "output_type": "stream",
     "text": [
      "              precision    recall  f1-score   support\n",
      "\n",
      "           0       0.97      0.99      0.98     35777\n",
      "           1       0.86      0.72      0.78      4046\n",
      "\n",
      "    accuracy                           0.96     39823\n",
      "   macro avg       0.91      0.85      0.88     39823\n",
      "weighted avg       0.96      0.96      0.96     39823\n",
      "\n"
     ]
    }
   ],
   "source": [
    "print(classification_report(y_test, y_pred))"
   ]
  },
  {
   "cell_type": "markdown",
   "metadata": {},
   "source": [
    "Метрика рrecision измеряет, какая часть предсказанных положительных результатов является истинно-положительными. Для класса 0 это означает, что 97% из всех комментариев, предсказанных как нетоксичные, действительно являются такими. Для класса 1 - что 86% из всех предсказанных как токсичные - действительно ими являются. Recall показывает, какая часть реальных положительных результатов была предсказана моделью. Для класса 0 это означает, что модель обнаружила 99% всех действительно положительных комментариев. Для класса 1 - что модель обнаружила 72% всех истинно негативных комментариев."
   ]
  }
 ],
 "metadata": {
  "ExecuteTimeLog": [
   {
    "duration": 405,
    "start_time": "2024-06-10T16:51:29.323Z"
   },
   {
    "duration": 2492,
    "start_time": "2024-06-10T16:51:52.065Z"
   },
   {
    "duration": 14,
    "start_time": "2024-06-10T16:52:14.225Z"
   },
   {
    "duration": 63,
    "start_time": "2024-06-10T16:54:37.317Z"
   },
   {
    "duration": 4,
    "start_time": "2024-06-10T16:54:42.084Z"
   },
   {
    "duration": 36,
    "start_time": "2024-06-10T16:54:57.654Z"
   },
   {
    "duration": 8,
    "start_time": "2024-06-10T16:55:31.798Z"
   },
   {
    "duration": 11,
    "start_time": "2024-06-10T16:55:44.629Z"
   },
   {
    "duration": 12,
    "start_time": "2024-06-10T16:55:49.157Z"
   },
   {
    "duration": 248,
    "start_time": "2024-06-10T16:56:35.863Z"
   },
   {
    "duration": 8,
    "start_time": "2024-06-10T17:02:17.551Z"
   },
   {
    "duration": 11,
    "start_time": "2024-06-10T17:02:43.007Z"
   },
   {
    "duration": 5,
    "start_time": "2024-06-10T17:04:10.080Z"
   },
   {
    "duration": 17,
    "start_time": "2024-06-10T17:04:22.640Z"
   },
   {
    "duration": 4,
    "start_time": "2024-06-10T17:04:39.281Z"
   },
   {
    "duration": 16,
    "start_time": "2024-06-10T17:06:21.306Z"
   },
   {
    "duration": 213,
    "start_time": "2024-06-10T17:06:23.698Z"
   },
   {
    "duration": 4,
    "start_time": "2024-06-10T17:06:24.770Z"
   },
   {
    "duration": 10,
    "start_time": "2024-06-10T17:06:40.212Z"
   },
   {
    "duration": 12,
    "start_time": "2024-06-10T17:06:46.946Z"
   },
   {
    "duration": 231,
    "start_time": "2024-06-10T17:08:52.229Z"
   },
   {
    "duration": 5,
    "start_time": "2024-06-10T17:08:55.754Z"
   },
   {
    "duration": 994,
    "start_time": "2024-06-10T17:08:55.761Z"
   },
   {
    "duration": 34,
    "start_time": "2024-06-10T17:08:56.757Z"
   },
   {
    "duration": 7,
    "start_time": "2024-06-10T17:08:56.793Z"
   },
   {
    "duration": 13,
    "start_time": "2024-06-10T17:08:56.803Z"
   },
   {
    "duration": 21,
    "start_time": "2024-06-10T17:08:56.818Z"
   },
   {
    "duration": 278,
    "start_time": "2024-06-10T17:08:56.860Z"
   },
   {
    "duration": 21,
    "start_time": "2024-06-10T17:08:57.140Z"
   },
   {
    "duration": 5,
    "start_time": "2024-06-10T17:08:57.162Z"
   },
   {
    "duration": 208,
    "start_time": "2024-06-10T17:08:57.168Z"
   },
   {
    "duration": 2658,
    "start_time": "2024-06-10T17:43:19.999Z"
   },
   {
    "duration": 4,
    "start_time": "2024-06-10T17:43:27.663Z"
   },
   {
    "duration": 12,
    "start_time": "2024-06-10T19:30:39.289Z"
   },
   {
    "duration": 2,
    "start_time": "2024-06-10T19:30:45.400Z"
   },
   {
    "duration": 1014,
    "start_time": "2024-06-10T19:30:45.405Z"
   },
   {
    "duration": 40,
    "start_time": "2024-06-10T19:30:46.421Z"
   },
   {
    "duration": 27,
    "start_time": "2024-06-10T19:30:46.464Z"
   },
   {
    "duration": 29,
    "start_time": "2024-06-10T19:30:46.493Z"
   },
   {
    "duration": 15,
    "start_time": "2024-06-10T19:30:46.524Z"
   },
   {
    "duration": 297,
    "start_time": "2024-06-10T19:30:46.541Z"
   },
   {
    "duration": 12,
    "start_time": "2024-06-10T19:30:46.840Z"
   },
   {
    "duration": 7,
    "start_time": "2024-06-10T19:30:46.861Z"
   },
   {
    "duration": 228,
    "start_time": "2024-06-10T19:30:46.870Z"
   },
   {
    "duration": 440,
    "start_time": "2024-06-10T19:30:57.660Z"
   },
   {
    "duration": 2522,
    "start_time": "2024-06-10T19:30:58.102Z"
   },
   {
    "duration": 35,
    "start_time": "2024-06-10T19:31:00.625Z"
   },
   {
    "duration": 79,
    "start_time": "2024-06-10T19:31:00.662Z"
   },
   {
    "duration": 106,
    "start_time": "2024-06-10T19:31:00.743Z"
   },
   {
    "duration": 48,
    "start_time": "2024-06-10T19:31:00.850Z"
   },
   {
    "duration": 312,
    "start_time": "2024-06-10T19:31:00.899Z"
   },
   {
    "duration": 14,
    "start_time": "2024-06-10T19:31:01.213Z"
   },
   {
    "duration": 98,
    "start_time": "2024-06-10T19:31:01.229Z"
   },
   {
    "duration": 258,
    "start_time": "2024-06-10T19:31:01.328Z"
   },
   {
    "duration": 2794,
    "start_time": "2024-06-10T19:31:01.588Z"
   },
   {
    "duration": 64,
    "start_time": "2024-06-10T19:31:04.384Z"
   },
   {
    "duration": 7,
    "start_time": "2024-06-10T19:31:13.480Z"
   },
   {
    "duration": 2,
    "start_time": "2024-06-10T19:33:27.425Z"
   },
   {
    "duration": 195,
    "start_time": "2024-06-10T19:34:45.003Z"
   },
   {
    "duration": 7,
    "start_time": "2024-06-10T19:34:45.995Z"
   },
   {
    "duration": 6,
    "start_time": "2024-06-10T19:35:03.755Z"
   },
   {
    "duration": 12,
    "start_time": "2024-06-10T19:35:04.656Z"
   },
   {
    "duration": 3,
    "start_time": "2024-06-10T19:35:10.476Z"
   },
   {
    "duration": 959,
    "start_time": "2024-06-10T19:35:10.481Z"
   },
   {
    "duration": 49,
    "start_time": "2024-06-10T19:35:11.442Z"
   },
   {
    "duration": 8,
    "start_time": "2024-06-10T19:35:11.493Z"
   },
   {
    "duration": 12,
    "start_time": "2024-06-10T19:35:11.503Z"
   },
   {
    "duration": 6,
    "start_time": "2024-06-10T19:35:11.517Z"
   },
   {
    "duration": 279,
    "start_time": "2024-06-10T19:35:11.525Z"
   },
   {
    "duration": 13,
    "start_time": "2024-06-10T19:35:11.806Z"
   },
   {
    "duration": 4,
    "start_time": "2024-06-10T19:35:11.821Z"
   },
   {
    "duration": 219,
    "start_time": "2024-06-10T19:35:11.827Z"
   },
   {
    "duration": 2,
    "start_time": "2024-06-10T19:35:12.048Z"
   },
   {
    "duration": 15,
    "start_time": "2024-06-10T19:35:12.051Z"
   },
   {
    "duration": 9,
    "start_time": "2024-06-10T19:35:26.299Z"
   },
   {
    "duration": 290,
    "start_time": "2024-06-10T19:35:56.043Z"
   },
   {
    "duration": 1050,
    "start_time": "2024-06-10T19:36:40.652Z"
   },
   {
    "duration": 470,
    "start_time": "2024-06-10T19:36:50.828Z"
   },
   {
    "duration": 4,
    "start_time": "2024-06-10T19:37:02.957Z"
   },
   {
    "duration": 64,
    "start_time": "2024-06-10T19:39:27.262Z"
   },
   {
    "duration": 4,
    "start_time": "2024-06-10T19:42:33.863Z"
   },
   {
    "duration": 31,
    "start_time": "2024-06-10T19:42:33.869Z"
   },
   {
    "duration": 956,
    "start_time": "2024-06-10T19:42:33.902Z"
   },
   {
    "duration": 33,
    "start_time": "2024-06-10T19:42:34.861Z"
   },
   {
    "duration": 19,
    "start_time": "2024-06-10T19:42:34.897Z"
   },
   {
    "duration": 32,
    "start_time": "2024-06-10T19:42:34.918Z"
   },
   {
    "duration": 25,
    "start_time": "2024-06-10T19:42:34.951Z"
   },
   {
    "duration": 271,
    "start_time": "2024-06-10T19:42:34.978Z"
   },
   {
    "duration": 16,
    "start_time": "2024-06-10T19:42:35.250Z"
   },
   {
    "duration": 10,
    "start_time": "2024-06-10T19:42:35.268Z"
   },
   {
    "duration": 218,
    "start_time": "2024-06-10T19:42:35.279Z"
   },
   {
    "duration": 4,
    "start_time": "2024-06-10T19:42:35.499Z"
   },
   {
    "duration": 36,
    "start_time": "2024-06-10T19:42:35.505Z"
   },
   {
    "duration": 74449,
    "start_time": "2024-06-10T19:43:56.034Z"
   },
   {
    "duration": 7,
    "start_time": "2024-06-10T19:49:12.918Z"
   },
   {
    "duration": 10,
    "start_time": "2024-06-10T19:50:40.568Z"
   },
   {
    "duration": 1362,
    "start_time": "2024-06-10T19:55:19.806Z"
   },
   {
    "duration": 263,
    "start_time": "2024-06-10T19:55:21.170Z"
   },
   {
    "duration": 1020,
    "start_time": "2024-06-10T19:55:21.435Z"
   },
   {
    "duration": 34,
    "start_time": "2024-06-10T19:55:22.457Z"
   },
   {
    "duration": 77,
    "start_time": "2024-06-10T19:55:22.493Z"
   },
   {
    "duration": 10,
    "start_time": "2024-06-10T19:55:22.572Z"
   },
   {
    "duration": 18,
    "start_time": "2024-06-10T19:55:22.584Z"
   },
   {
    "duration": 257,
    "start_time": "2024-06-10T19:55:22.604Z"
   },
   {
    "duration": 13,
    "start_time": "2024-06-10T19:55:22.863Z"
   },
   {
    "duration": 5,
    "start_time": "2024-06-10T19:55:22.877Z"
   },
   {
    "duration": 219,
    "start_time": "2024-06-10T19:55:22.883Z"
   },
   {
    "duration": 4,
    "start_time": "2024-06-10T19:55:23.103Z"
   },
   {
    "duration": 74585,
    "start_time": "2024-06-10T19:55:23.108Z"
   },
   {
    "duration": 8,
    "start_time": "2024-06-10T19:56:37.696Z"
   },
   {
    "duration": 6,
    "start_time": "2024-06-10T20:17:18.656Z"
   },
   {
    "duration": 26,
    "start_time": "2024-06-10T20:17:34.976Z"
   },
   {
    "duration": 865,
    "start_time": "2024-06-10T20:17:56.625Z"
   },
   {
    "duration": 4,
    "start_time": "2024-06-10T20:18:49.696Z"
   },
   {
    "duration": 113,
    "start_time": "2024-06-10T20:19:51.349Z"
   },
   {
    "duration": 105,
    "start_time": "2024-06-10T20:20:22.642Z"
   },
   {
    "duration": 108,
    "start_time": "2024-06-10T20:22:11.092Z"
   },
   {
    "duration": 7,
    "start_time": "2024-06-10T20:22:35.926Z"
   },
   {
    "duration": 3,
    "start_time": "2024-06-10T20:36:56.381Z"
   },
   {
    "duration": 239,
    "start_time": "2024-06-10T20:41:04.982Z"
   },
   {
    "duration": 3,
    "start_time": "2024-06-10T20:48:02.305Z"
   },
   {
    "duration": 10,
    "start_time": "2024-06-10T20:48:02.310Z"
   },
   {
    "duration": 1045,
    "start_time": "2024-06-10T20:48:02.321Z"
   },
   {
    "duration": 33,
    "start_time": "2024-06-10T20:48:03.368Z"
   },
   {
    "duration": 25,
    "start_time": "2024-06-10T20:48:03.403Z"
   },
   {
    "duration": 20,
    "start_time": "2024-06-10T20:48:03.430Z"
   },
   {
    "duration": 6,
    "start_time": "2024-06-10T20:48:03.452Z"
   },
   {
    "duration": 250,
    "start_time": "2024-06-10T20:48:03.461Z"
   },
   {
    "duration": 13,
    "start_time": "2024-06-10T20:48:03.713Z"
   },
   {
    "duration": 4,
    "start_time": "2024-06-10T20:48:03.727Z"
   },
   {
    "duration": 224,
    "start_time": "2024-06-10T20:48:03.733Z"
   },
   {
    "duration": 8,
    "start_time": "2024-06-10T20:48:03.960Z"
   },
   {
    "duration": 132,
    "start_time": "2024-06-10T20:48:03.969Z"
   },
   {
    "duration": 4,
    "start_time": "2024-06-10T20:48:04.103Z"
   },
   {
    "duration": 114873,
    "start_time": "2024-06-10T20:48:04.109Z"
   },
   {
    "duration": 7,
    "start_time": "2024-06-10T20:49:58.984Z"
   },
   {
    "duration": 1642,
    "start_time": "2024-06-10T20:54:23.727Z"
   },
   {
    "duration": 234,
    "start_time": "2024-06-10T20:54:25.371Z"
   },
   {
    "duration": 1004,
    "start_time": "2024-06-10T20:54:25.606Z"
   },
   {
    "duration": 32,
    "start_time": "2024-06-10T20:54:26.611Z"
   },
   {
    "duration": 22,
    "start_time": "2024-06-10T20:54:26.645Z"
   },
   {
    "duration": 11,
    "start_time": "2024-06-10T20:54:26.668Z"
   },
   {
    "duration": 13,
    "start_time": "2024-06-10T20:54:26.680Z"
   },
   {
    "duration": 263,
    "start_time": "2024-06-10T20:54:26.695Z"
   },
   {
    "duration": 13,
    "start_time": "2024-06-10T20:54:26.961Z"
   },
   {
    "duration": 29,
    "start_time": "2024-06-10T20:54:26.976Z"
   },
   {
    "duration": 240,
    "start_time": "2024-06-10T20:54:27.007Z"
   },
   {
    "duration": 15,
    "start_time": "2024-06-10T20:54:27.249Z"
   },
   {
    "duration": 124,
    "start_time": "2024-06-10T20:54:27.266Z"
   },
   {
    "duration": 5,
    "start_time": "2024-06-10T20:54:27.392Z"
   },
   {
    "duration": 113147,
    "start_time": "2024-06-10T20:54:27.398Z"
   },
   {
    "duration": 8,
    "start_time": "2024-06-10T20:56:20.546Z"
   },
   {
    "duration": 37,
    "start_time": "2024-06-10T20:57:17.258Z"
   },
   {
    "duration": 1572,
    "start_time": "2024-06-10T20:58:04.258Z"
   },
   {
    "duration": 181,
    "start_time": "2024-06-10T20:58:05.832Z"
   },
   {
    "duration": 1014,
    "start_time": "2024-06-10T20:58:06.015Z"
   },
   {
    "duration": 43,
    "start_time": "2024-06-10T20:58:07.032Z"
   },
   {
    "duration": 14,
    "start_time": "2024-06-10T20:58:07.079Z"
   },
   {
    "duration": 18,
    "start_time": "2024-06-10T20:58:07.094Z"
   },
   {
    "duration": 19,
    "start_time": "2024-06-10T20:58:07.114Z"
   },
   {
    "duration": 296,
    "start_time": "2024-06-10T20:58:07.136Z"
   },
   {
    "duration": 14,
    "start_time": "2024-06-10T20:58:07.434Z"
   },
   {
    "duration": 13,
    "start_time": "2024-06-10T20:58:07.450Z"
   },
   {
    "duration": 234,
    "start_time": "2024-06-10T20:58:07.465Z"
   },
   {
    "duration": 23,
    "start_time": "2024-06-10T20:58:07.701Z"
   },
   {
    "duration": 116,
    "start_time": "2024-06-10T20:58:07.726Z"
   },
   {
    "duration": 4,
    "start_time": "2024-06-10T20:58:07.845Z"
   },
   {
    "duration": 113673,
    "start_time": "2024-06-10T20:58:07.850Z"
   },
   {
    "duration": 8,
    "start_time": "2024-06-10T21:00:01.525Z"
   },
   {
    "duration": 16,
    "start_time": "2024-06-10T21:01:44.396Z"
   },
   {
    "duration": 8,
    "start_time": "2024-06-10T21:04:14.750Z"
   },
   {
    "duration": 3,
    "start_time": "2024-06-10T21:06:29.475Z"
   },
   {
    "duration": 3,
    "start_time": "2024-06-10T21:06:31.136Z"
   },
   {
    "duration": 1598,
    "start_time": "2024-06-10T21:11:12.613Z"
   },
   {
    "duration": 252,
    "start_time": "2024-06-10T21:11:14.214Z"
   },
   {
    "duration": 983,
    "start_time": "2024-06-10T21:11:14.468Z"
   },
   {
    "duration": 36,
    "start_time": "2024-06-10T21:11:15.453Z"
   },
   {
    "duration": 21,
    "start_time": "2024-06-10T21:11:15.492Z"
   },
   {
    "duration": 14,
    "start_time": "2024-06-10T21:11:15.514Z"
   },
   {
    "duration": 4,
    "start_time": "2024-06-10T21:11:15.530Z"
   },
   {
    "duration": 297,
    "start_time": "2024-06-10T21:11:15.536Z"
   },
   {
    "duration": 28,
    "start_time": "2024-06-10T21:11:15.835Z"
   },
   {
    "duration": 13,
    "start_time": "2024-06-10T21:11:15.866Z"
   },
   {
    "duration": 244,
    "start_time": "2024-06-10T21:11:15.881Z"
   },
   {
    "duration": 10,
    "start_time": "2024-06-10T21:11:16.127Z"
   },
   {
    "duration": 139,
    "start_time": "2024-06-10T21:11:16.138Z"
   },
   {
    "duration": 2,
    "start_time": "2024-06-10T21:11:16.280Z"
   },
   {
    "duration": 12,
    "start_time": "2024-06-10T21:11:16.283Z"
   },
   {
    "duration": 115314,
    "start_time": "2024-06-10T21:11:16.296Z"
   },
   {
    "duration": 20,
    "start_time": "2024-06-10T21:13:11.613Z"
   },
   {
    "duration": 3,
    "start_time": "2024-06-10T21:14:49.063Z"
   },
   {
    "duration": 4,
    "start_time": "2024-06-10T21:15:51.024Z"
   },
   {
    "duration": 1622,
    "start_time": "2024-06-10T21:16:13.378Z"
   },
   {
    "duration": 256,
    "start_time": "2024-06-10T21:16:15.002Z"
   },
   {
    "duration": 1058,
    "start_time": "2024-06-10T21:16:15.260Z"
   },
   {
    "duration": 48,
    "start_time": "2024-06-10T21:16:16.319Z"
   },
   {
    "duration": 10,
    "start_time": "2024-06-10T21:16:16.369Z"
   },
   {
    "duration": 13,
    "start_time": "2024-06-10T21:16:16.381Z"
   },
   {
    "duration": 6,
    "start_time": "2024-06-10T21:16:16.395Z"
   },
   {
    "duration": 312,
    "start_time": "2024-06-10T21:16:16.403Z"
   },
   {
    "duration": 14,
    "start_time": "2024-06-10T21:16:16.716Z"
   },
   {
    "duration": 4,
    "start_time": "2024-06-10T21:16:16.732Z"
   },
   {
    "duration": 201,
    "start_time": "2024-06-10T21:16:16.737Z"
   },
   {
    "duration": 8,
    "start_time": "2024-06-10T21:16:16.940Z"
   },
   {
    "duration": 163,
    "start_time": "2024-06-10T21:16:16.961Z"
   },
   {
    "duration": 4,
    "start_time": "2024-06-10T21:16:17.127Z"
   },
   {
    "duration": 4,
    "start_time": "2024-06-10T21:16:17.133Z"
   },
   {
    "duration": 87667,
    "start_time": "2024-06-10T21:16:17.138Z"
   },
   {
    "duration": 9,
    "start_time": "2024-06-10T21:17:44.806Z"
   },
   {
    "duration": 10,
    "start_time": "2024-06-10T21:18:44.954Z"
   },
   {
    "duration": 9,
    "start_time": "2024-06-10T21:18:59.162Z"
   },
   {
    "duration": 35,
    "start_time": "2024-06-10T21:19:08.619Z"
   },
   {
    "duration": 10,
    "start_time": "2024-06-10T21:19:15.194Z"
   },
   {
    "duration": 53,
    "start_time": "2024-06-10T21:19:48.281Z"
   },
   {
    "duration": 8,
    "start_time": "2024-06-10T21:27:37.317Z"
   },
   {
    "duration": 2,
    "start_time": "2024-06-10T21:28:36.015Z"
   },
   {
    "duration": 6,
    "start_time": "2024-06-10T21:28:47.611Z"
   },
   {
    "duration": 6,
    "start_time": "2024-06-10T21:28:56.431Z"
   },
   {
    "duration": 152,
    "start_time": "2024-06-10T21:29:36.987Z"
   },
   {
    "duration": 5,
    "start_time": "2024-06-10T21:30:45.550Z"
   },
   {
    "duration": 86,
    "start_time": "2024-06-10T21:30:52.381Z"
   },
   {
    "duration": 7,
    "start_time": "2024-06-10T21:34:09.988Z"
   },
   {
    "duration": 792,
    "start_time": "2024-06-10T21:41:04.176Z"
   },
   {
    "duration": 5274,
    "start_time": "2024-06-10T21:41:25.343Z"
   },
   {
    "duration": 4,
    "start_time": "2024-06-10T21:41:38.927Z"
   },
   {
    "duration": 3,
    "start_time": "2024-06-10T21:42:07.936Z"
   },
   {
    "duration": 9,
    "start_time": "2024-06-10T21:50:25.266Z"
   },
   {
    "duration": 34,
    "start_time": "2024-06-10T21:50:44.844Z"
   },
   {
    "duration": 8,
    "start_time": "2024-06-10T21:51:11.036Z"
   },
   {
    "duration": 3,
    "start_time": "2024-06-10T22:26:18.374Z"
   },
   {
    "duration": 5,
    "start_time": "2024-06-10T22:27:18.254Z"
   },
   {
    "duration": 220611,
    "start_time": "2024-06-10T22:30:09.450Z"
   },
   {
    "duration": 3,
    "start_time": "2024-06-10T22:35:46.687Z"
   },
   {
    "duration": 228017,
    "start_time": "2024-06-10T22:35:47.550Z"
   },
   {
    "duration": 5,
    "start_time": "2024-06-10T22:40:41.139Z"
   },
   {
    "duration": 57582,
    "start_time": "2024-06-10T22:42:29.979Z"
   },
   {
    "duration": 10,
    "start_time": "2024-06-10T22:43:53.960Z"
   },
   {
    "duration": 7,
    "start_time": "2024-06-10T22:44:01.236Z"
   },
   {
    "duration": 15,
    "start_time": "2024-06-10T22:46:34.056Z"
   },
   {
    "duration": 3,
    "start_time": "2024-06-10T22:50:32.091Z"
   },
   {
    "duration": 9583,
    "start_time": "2024-06-10T22:50:33.196Z"
   },
   {
    "duration": 5,
    "start_time": "2024-06-10T22:51:17.357Z"
   },
   {
    "duration": 2,
    "start_time": "2024-06-10T22:51:37.085Z"
   },
   {
    "duration": 224432,
    "start_time": "2024-06-10T22:51:40.442Z"
   },
   {
    "duration": 5,
    "start_time": "2024-06-10T22:55:36.650Z"
   },
   {
    "duration": 4,
    "start_time": "2024-06-10T22:59:36.042Z"
   },
   {
    "duration": 3,
    "start_time": "2024-06-10T23:00:45.987Z"
   },
   {
    "duration": 104,
    "start_time": "2024-06-10T23:00:46.372Z"
   },
   {
    "duration": 3,
    "start_time": "2024-06-10T23:01:05.860Z"
   },
   {
    "duration": 47782,
    "start_time": "2024-06-10T23:01:14.644Z"
   },
   {
    "duration": 5,
    "start_time": "2024-06-10T23:02:37.903Z"
   },
   {
    "duration": 3,
    "start_time": "2024-06-10T23:04:02.406Z"
   },
   {
    "duration": 219561,
    "start_time": "2024-06-10T23:04:03.213Z"
   },
   {
    "duration": 5,
    "start_time": "2024-06-10T23:08:36.155Z"
   },
   {
    "duration": 3,
    "start_time": "2024-06-10T23:08:51.921Z"
   },
   {
    "duration": 667894,
    "start_time": "2024-06-10T23:08:53.179Z"
   },
   {
    "duration": 4,
    "start_time": "2024-06-10T23:20:25.698Z"
   },
   {
    "duration": 1627,
    "start_time": "2024-06-10T23:29:15.945Z"
   },
   {
    "duration": 248,
    "start_time": "2024-06-10T23:29:17.574Z"
   },
   {
    "duration": 1028,
    "start_time": "2024-06-10T23:29:17.824Z"
   },
   {
    "duration": 34,
    "start_time": "2024-06-10T23:29:18.854Z"
   },
   {
    "duration": 9,
    "start_time": "2024-06-10T23:29:18.890Z"
   },
   {
    "duration": 13,
    "start_time": "2024-06-10T23:29:18.901Z"
   },
   {
    "duration": 11,
    "start_time": "2024-06-10T23:29:18.916Z"
   },
   {
    "duration": 276,
    "start_time": "2024-06-10T23:29:18.929Z"
   },
   {
    "duration": 14,
    "start_time": "2024-06-10T23:29:19.206Z"
   },
   {
    "duration": 4,
    "start_time": "2024-06-10T23:29:19.222Z"
   },
   {
    "duration": 220,
    "start_time": "2024-06-10T23:29:19.227Z"
   },
   {
    "duration": 15,
    "start_time": "2024-06-10T23:29:19.449Z"
   },
   {
    "duration": 122,
    "start_time": "2024-06-10T23:29:19.466Z"
   },
   {
    "duration": 5,
    "start_time": "2024-06-10T23:29:19.591Z"
   },
   {
    "duration": 8,
    "start_time": "2024-06-10T23:29:19.597Z"
   },
   {
    "duration": 86787,
    "start_time": "2024-06-10T23:29:19.606Z"
   },
   {
    "duration": 53,
    "start_time": "2024-06-10T23:30:46.395Z"
   },
   {
    "duration": 18,
    "start_time": "2024-06-10T23:30:46.449Z"
   },
   {
    "duration": 4,
    "start_time": "2024-06-10T23:30:46.469Z"
   },
   {
    "duration": 14,
    "start_time": "2024-06-10T23:30:46.475Z"
   },
   {
    "duration": 94,
    "start_time": "2024-06-10T23:30:46.491Z"
   },
   {
    "duration": 5163,
    "start_time": "2024-06-10T23:30:46.588Z"
   },
   {
    "duration": 9,
    "start_time": "2024-06-10T23:30:51.753Z"
   },
   {
    "duration": 69,
    "start_time": "2024-06-10T23:30:51.764Z"
   },
   {
    "duration": 0,
    "start_time": "2024-06-10T23:30:51.834Z"
   },
   {
    "duration": 0,
    "start_time": "2024-06-10T23:30:51.836Z"
   },
   {
    "duration": 0,
    "start_time": "2024-06-10T23:30:51.837Z"
   },
   {
    "duration": 0,
    "start_time": "2024-06-10T23:30:51.839Z"
   },
   {
    "duration": 0,
    "start_time": "2024-06-10T23:30:51.840Z"
   },
   {
    "duration": 4,
    "start_time": "2024-06-10T23:31:50.799Z"
   },
   {
    "duration": 2030762,
    "start_time": "2024-06-10T23:32:02.543Z"
   },
   {
    "duration": 4,
    "start_time": "2024-06-11T00:06:30.744Z"
   },
   {
    "duration": 7,
    "start_time": "2024-06-11T00:06:35.481Z"
   },
   {
    "duration": 3,
    "start_time": "2024-06-11T00:06:44.784Z"
   },
   {
    "duration": 14,
    "start_time": "2024-06-11T00:06:45.545Z"
   },
   {
    "duration": 4,
    "start_time": "2024-06-11T00:07:08.336Z"
   },
   {
    "duration": 33244,
    "start_time": "2024-06-11T00:07:43.706Z"
   },
   {
    "duration": 4,
    "start_time": "2024-06-11T00:08:50.139Z"
   },
   {
    "duration": 1599,
    "start_time": "2024-06-11T00:08:58.146Z"
   },
   {
    "duration": 273,
    "start_time": "2024-06-11T00:08:59.746Z"
   },
   {
    "duration": 995,
    "start_time": "2024-06-11T00:09:00.021Z"
   },
   {
    "duration": 51,
    "start_time": "2024-06-11T00:09:01.018Z"
   },
   {
    "duration": 11,
    "start_time": "2024-06-11T00:09:01.072Z"
   },
   {
    "duration": 51,
    "start_time": "2024-06-11T00:09:01.084Z"
   },
   {
    "duration": 40,
    "start_time": "2024-06-11T00:09:01.137Z"
   },
   {
    "duration": 380,
    "start_time": "2024-06-11T00:09:01.178Z"
   },
   {
    "duration": 15,
    "start_time": "2024-06-11T00:09:01.560Z"
   },
   {
    "duration": 72,
    "start_time": "2024-06-11T00:09:01.577Z"
   },
   {
    "duration": 216,
    "start_time": "2024-06-11T00:09:01.651Z"
   },
   {
    "duration": 9,
    "start_time": "2024-06-11T00:09:01.868Z"
   },
   {
    "duration": 138,
    "start_time": "2024-06-11T00:09:01.878Z"
   },
   {
    "duration": 4,
    "start_time": "2024-06-11T00:09:02.020Z"
   },
   {
    "duration": 21,
    "start_time": "2024-06-11T00:09:02.026Z"
   },
   {
    "duration": 85766,
    "start_time": "2024-06-11T00:09:02.049Z"
   },
   {
    "duration": 64,
    "start_time": "2024-06-11T00:10:27.817Z"
   },
   {
    "duration": 15,
    "start_time": "2024-06-11T00:10:27.883Z"
   },
   {
    "duration": 4,
    "start_time": "2024-06-11T00:10:27.899Z"
   },
   {
    "duration": 20,
    "start_time": "2024-06-11T00:10:27.904Z"
   },
   {
    "duration": 71,
    "start_time": "2024-06-11T00:10:27.925Z"
   },
   {
    "duration": 5264,
    "start_time": "2024-06-11T00:10:27.997Z"
   },
   {
    "duration": 4,
    "start_time": "2024-06-11T00:10:33.263Z"
   },
   {
    "duration": 20,
    "start_time": "2024-06-11T00:10:33.269Z"
   },
   {
    "duration": 491297,
    "start_time": "2024-06-11T00:10:33.291Z"
   },
   {
    "duration": 0,
    "start_time": "2024-06-11T00:18:44.590Z"
   },
   {
    "duration": 0,
    "start_time": "2024-06-11T00:18:44.592Z"
   },
   {
    "duration": 0,
    "start_time": "2024-06-11T00:18:44.593Z"
   },
   {
    "duration": 0,
    "start_time": "2024-06-11T00:18:44.594Z"
   },
   {
    "duration": 0,
    "start_time": "2024-06-11T00:18:44.595Z"
   },
   {
    "duration": 0,
    "start_time": "2024-06-11T00:18:44.596Z"
   },
   {
    "duration": 0,
    "start_time": "2024-06-11T00:18:44.598Z"
   },
   {
    "duration": 0,
    "start_time": "2024-06-11T00:18:44.599Z"
   },
   {
    "duration": 0,
    "start_time": "2024-06-11T00:18:44.601Z"
   },
   {
    "duration": 0,
    "start_time": "2024-06-11T00:18:44.602Z"
   },
   {
    "duration": 4,
    "start_time": "2024-06-11T00:18:50.548Z"
   },
   {
    "duration": 4,
    "start_time": "2024-06-11T00:18:56.353Z"
   },
   {
    "duration": 966917,
    "start_time": "2024-06-11T00:18:59.652Z"
   },
   {
    "duration": 43630,
    "start_time": "2024-06-11T00:35:06.661Z"
   },
   {
    "duration": 0,
    "start_time": "2024-06-11T00:35:50.293Z"
   },
   {
    "duration": 0,
    "start_time": "2024-06-11T00:35:50.294Z"
   },
   {
    "duration": 0,
    "start_time": "2024-06-11T00:35:50.295Z"
   },
   {
    "duration": 0,
    "start_time": "2024-06-11T00:35:50.296Z"
   },
   {
    "duration": 0,
    "start_time": "2024-06-11T00:35:50.297Z"
   },
   {
    "duration": 3,
    "start_time": "2024-06-11T00:36:02.771Z"
   },
   {
    "duration": 3,
    "start_time": "2024-06-11T00:36:03.569Z"
   },
   {
    "duration": 4,
    "start_time": "2024-06-11T00:36:38.550Z"
   },
   {
    "duration": 34,
    "start_time": "2024-06-11T00:36:41.045Z"
   },
   {
    "duration": 4,
    "start_time": "2024-06-11T00:37:54.781Z"
   },
   {
    "duration": 1051,
    "start_time": "2024-06-11T00:37:55.707Z"
   },
   {
    "duration": 3,
    "start_time": "2024-06-11T00:38:04.182Z"
   },
   {
    "duration": 4,
    "start_time": "2024-06-11T00:39:32.311Z"
   },
   {
    "duration": 3,
    "start_time": "2024-06-11T00:39:33.327Z"
   },
   {
    "duration": 3,
    "start_time": "2024-06-11T00:39:38.441Z"
   },
   {
    "duration": 4,
    "start_time": "2024-06-11T00:41:00.025Z"
   },
   {
    "duration": 668,
    "start_time": "2024-06-11T00:41:00.825Z"
   },
   {
    "duration": 4,
    "start_time": "2024-06-11T00:41:08.480Z"
   },
   {
    "duration": 13,
    "start_time": "2024-06-11T00:41:35.310Z"
   },
   {
    "duration": 4,
    "start_time": "2024-06-11T00:42:17.835Z"
   },
   {
    "duration": 1861,
    "start_time": "2024-06-11T00:42:19.790Z"
   },
   {
    "duration": 3,
    "start_time": "2024-06-11T00:42:25.230Z"
   },
   {
    "duration": 4,
    "start_time": "2024-06-11T00:42:46.780Z"
   },
   {
    "duration": 1261,
    "start_time": "2024-06-11T00:42:47.386Z"
   },
   {
    "duration": 4,
    "start_time": "2024-06-11T00:42:50.939Z"
   },
   {
    "duration": 3,
    "start_time": "2024-06-11T00:47:25.295Z"
   },
   {
    "duration": 7,
    "start_time": "2024-06-11T00:47:40.495Z"
   },
   {
    "duration": 16,
    "start_time": "2024-06-11T00:47:46.519Z"
   },
   {
    "duration": 3,
    "start_time": "2024-06-11T00:48:19.054Z"
   },
   {
    "duration": 154938,
    "start_time": "2024-06-11T00:48:19.535Z"
   },
   {
    "duration": 7,
    "start_time": "2024-06-11T00:50:54.561Z"
   },
   {
    "duration": 17,
    "start_time": "2024-06-11T00:52:46.900Z"
   },
   {
    "duration": 29,
    "start_time": "2024-06-11T00:56:58.939Z"
   },
   {
    "duration": 16,
    "start_time": "2024-06-11T01:02:25.421Z"
   },
   {
    "duration": 4,
    "start_time": "2024-06-11T01:03:07.076Z"
   },
   {
    "duration": 13155360,
    "start_time": "2024-06-11T01:04:05.441Z"
   },
   {
    "duration": 3,
    "start_time": "2024-06-11T04:43:20.804Z"
   },
   {
    "duration": 29,
    "start_time": "2024-06-11T07:35:26.254Z"
   },
   {
    "duration": 3,
    "start_time": "2024-06-11T07:36:25.103Z"
   },
   {
    "duration": 3966629,
    "start_time": "2024-06-11T07:37:02.590Z"
   },
   {
    "duration": 35761,
    "start_time": "2024-06-11T08:43:09.221Z"
   },
   {
    "duration": 17,
    "start_time": "2024-06-11T08:43:44.983Z"
   },
   {
    "duration": 15,
    "start_time": "2024-06-11T08:44:33.592Z"
   },
   {
    "duration": 23,
    "start_time": "2024-06-11T08:44:41.361Z"
   },
   {
    "duration": 66,
    "start_time": "2024-06-11T08:46:12.389Z"
   },
   {
    "duration": 22,
    "start_time": "2024-06-11T08:46:18.747Z"
   },
   {
    "duration": 10,
    "start_time": "2024-06-11T08:46:20.715Z"
   },
   {
    "duration": 20,
    "start_time": "2024-06-11T08:47:45.365Z"
   },
   {
    "duration": 14,
    "start_time": "2024-06-11T08:47:46.086Z"
   },
   {
    "duration": 23,
    "start_time": "2024-06-11T08:48:08.805Z"
   },
   {
    "duration": 11,
    "start_time": "2024-06-11T08:48:09.540Z"
   },
   {
    "duration": 17,
    "start_time": "2024-06-11T08:48:53.126Z"
   },
   {
    "duration": 10,
    "start_time": "2024-06-11T08:48:53.878Z"
   },
   {
    "duration": 28,
    "start_time": "2024-06-11T08:50:28.762Z"
   },
   {
    "duration": 1608,
    "start_time": "2024-06-11T09:13:05.901Z"
   },
   {
    "duration": 265,
    "start_time": "2024-06-11T09:13:07.511Z"
   },
   {
    "duration": 1021,
    "start_time": "2024-06-11T09:13:07.777Z"
   },
   {
    "duration": 35,
    "start_time": "2024-06-11T09:13:08.800Z"
   },
   {
    "duration": 57,
    "start_time": "2024-06-11T09:13:08.837Z"
   },
   {
    "duration": 14,
    "start_time": "2024-06-11T09:13:08.895Z"
   },
   {
    "duration": 13,
    "start_time": "2024-06-11T09:13:08.911Z"
   },
   {
    "duration": 263,
    "start_time": "2024-06-11T09:13:08.925Z"
   },
   {
    "duration": 13,
    "start_time": "2024-06-11T09:13:09.190Z"
   },
   {
    "duration": 4,
    "start_time": "2024-06-11T09:13:09.205Z"
   },
   {
    "duration": 230,
    "start_time": "2024-06-11T09:13:09.210Z"
   },
   {
    "duration": 216,
    "start_time": "2024-06-11T09:13:09.442Z"
   },
   {
    "duration": 4,
    "start_time": "2024-06-11T09:13:09.661Z"
   },
   {
    "duration": 12,
    "start_time": "2024-06-11T09:13:09.667Z"
   },
   {
    "duration": 87644,
    "start_time": "2024-06-11T09:13:09.681Z"
   },
   {
    "duration": 59,
    "start_time": "2024-06-11T09:14:37.327Z"
   },
   {
    "duration": 11,
    "start_time": "2024-06-11T09:14:37.389Z"
   },
   {
    "duration": 8,
    "start_time": "2024-06-11T09:14:37.402Z"
   },
   {
    "duration": 9,
    "start_time": "2024-06-11T09:14:37.412Z"
   },
   {
    "duration": 104,
    "start_time": "2024-06-11T09:14:37.423Z"
   },
   {
    "duration": 5270,
    "start_time": "2024-06-11T09:14:37.529Z"
   },
   {
    "duration": 5,
    "start_time": "2024-06-11T09:14:42.800Z"
   },
   {
    "duration": 4,
    "start_time": "2024-06-11T09:14:42.807Z"
   },
   {
    "duration": 80,
    "start_time": "2024-06-11T09:14:42.812Z"
   },
   {
    "duration": 124,
    "start_time": "2024-06-11T09:14:42.893Z"
   },
   {
    "duration": 0,
    "start_time": "2024-06-11T09:14:43.018Z"
   },
   {
    "duration": 0,
    "start_time": "2024-06-11T09:14:43.020Z"
   },
   {
    "duration": 0,
    "start_time": "2024-06-11T09:14:43.021Z"
   },
   {
    "duration": 0,
    "start_time": "2024-06-11T09:14:43.023Z"
   },
   {
    "duration": 1,
    "start_time": "2024-06-11T09:14:43.023Z"
   },
   {
    "duration": 0,
    "start_time": "2024-06-11T09:14:43.024Z"
   },
   {
    "duration": 0,
    "start_time": "2024-06-11T09:14:43.026Z"
   },
   {
    "duration": 0,
    "start_time": "2024-06-11T09:14:43.027Z"
   },
   {
    "duration": 0,
    "start_time": "2024-06-11T09:14:43.028Z"
   },
   {
    "duration": 0,
    "start_time": "2024-06-11T09:14:43.029Z"
   },
   {
    "duration": 0,
    "start_time": "2024-06-11T09:14:43.030Z"
   },
   {
    "duration": 46472,
    "start_time": "2024-06-11T09:15:49.329Z"
   },
   {
    "duration": 4,
    "start_time": "2024-06-11T09:18:38.942Z"
   },
   {
    "duration": 1616,
    "start_time": "2024-06-11T09:40:12.933Z"
   },
   {
    "duration": 192,
    "start_time": "2024-06-11T09:40:14.550Z"
   },
   {
    "duration": 1050,
    "start_time": "2024-06-11T09:40:14.743Z"
   },
   {
    "duration": 35,
    "start_time": "2024-06-11T09:40:15.794Z"
   },
   {
    "duration": 17,
    "start_time": "2024-06-11T09:40:15.831Z"
   },
   {
    "duration": 13,
    "start_time": "2024-06-11T09:40:15.861Z"
   },
   {
    "duration": 8,
    "start_time": "2024-06-11T09:40:15.876Z"
   },
   {
    "duration": 301,
    "start_time": "2024-06-11T09:40:15.886Z"
   },
   {
    "duration": 14,
    "start_time": "2024-06-11T09:40:16.188Z"
   },
   {
    "duration": 39,
    "start_time": "2024-06-11T09:40:16.203Z"
   },
   {
    "duration": 210,
    "start_time": "2024-06-11T09:40:16.244Z"
   },
   {
    "duration": 212,
    "start_time": "2024-06-11T09:40:16.456Z"
   },
   {
    "duration": 4,
    "start_time": "2024-06-11T09:40:16.669Z"
   },
   {
    "duration": 4,
    "start_time": "2024-06-11T09:40:16.676Z"
   },
   {
    "duration": 88994,
    "start_time": "2024-06-11T09:40:16.682Z"
   },
   {
    "duration": 54,
    "start_time": "2024-06-11T09:41:45.678Z"
   },
   {
    "duration": 27,
    "start_time": "2024-06-11T09:41:45.734Z"
   },
   {
    "duration": 6,
    "start_time": "2024-06-11T09:41:45.763Z"
   },
   {
    "duration": 11,
    "start_time": "2024-06-11T09:41:45.770Z"
   },
   {
    "duration": 90,
    "start_time": "2024-06-11T09:41:45.783Z"
   },
   {
    "duration": 5392,
    "start_time": "2024-06-11T09:41:45.875Z"
   },
   {
    "duration": 4,
    "start_time": "2024-06-11T09:41:51.269Z"
   },
   {
    "duration": 5,
    "start_time": "2024-06-11T09:41:51.275Z"
   },
   {
    "duration": 1652,
    "start_time": "2024-06-11T10:48:18.038Z"
   },
   {
    "duration": 265,
    "start_time": "2024-06-11T10:48:19.692Z"
   },
   {
    "duration": 1051,
    "start_time": "2024-06-11T10:48:19.959Z"
   },
   {
    "duration": 35,
    "start_time": "2024-06-11T10:48:21.013Z"
   },
   {
    "duration": 9,
    "start_time": "2024-06-11T10:48:21.061Z"
   },
   {
    "duration": 16,
    "start_time": "2024-06-11T10:48:21.072Z"
   },
   {
    "duration": 4,
    "start_time": "2024-06-11T10:48:21.089Z"
   },
   {
    "duration": 317,
    "start_time": "2024-06-11T10:48:21.095Z"
   },
   {
    "duration": 14,
    "start_time": "2024-06-11T10:48:21.414Z"
   },
   {
    "duration": 5,
    "start_time": "2024-06-11T10:48:21.431Z"
   },
   {
    "duration": 224,
    "start_time": "2024-06-11T10:48:21.437Z"
   },
   {
    "duration": 220,
    "start_time": "2024-06-11T10:48:21.663Z"
   },
   {
    "duration": 5,
    "start_time": "2024-06-11T10:48:21.886Z"
   },
   {
    "duration": 5,
    "start_time": "2024-06-11T10:48:21.893Z"
   },
   {
    "duration": 89154,
    "start_time": "2024-06-11T10:48:21.900Z"
   },
   {
    "duration": 56,
    "start_time": "2024-06-11T10:49:51.056Z"
   },
   {
    "duration": 97,
    "start_time": "2024-06-11T10:49:51.114Z"
   },
   {
    "duration": 69,
    "start_time": "2024-06-11T10:49:51.213Z"
   },
   {
    "duration": 30,
    "start_time": "2024-06-11T10:49:51.283Z"
   },
   {
    "duration": 93,
    "start_time": "2024-06-11T10:49:51.315Z"
   },
   {
    "duration": 5501,
    "start_time": "2024-06-11T10:49:51.410Z"
   },
   {
    "duration": 4,
    "start_time": "2024-06-11T10:49:56.913Z"
   },
   {
    "duration": 13,
    "start_time": "2024-06-11T10:49:56.919Z"
   },
   {
    "duration": 242630,
    "start_time": "2024-06-11T10:49:56.934Z"
   },
   {
    "duration": 3,
    "start_time": "2024-06-11T10:53:59.578Z"
   },
   {
    "duration": 15,
    "start_time": "2024-06-11T10:53:59.583Z"
   },
   {
    "duration": 15,
    "start_time": "2024-06-11T10:53:59.600Z"
   },
   {
    "duration": 1373,
    "start_time": "2024-06-11T10:53:59.618Z"
   },
   {
    "duration": 4,
    "start_time": "2024-06-11T10:54:00.993Z"
   },
   {
    "duration": 71,
    "start_time": "2024-06-11T10:54:00.998Z"
   },
   {
    "duration": 484028,
    "start_time": "2024-06-11T10:54:01.071Z"
   },
   {
    "duration": 0,
    "start_time": "2024-06-11T11:02:05.101Z"
   },
   {
    "duration": 0,
    "start_time": "2024-06-11T11:02:05.102Z"
   },
   {
    "duration": 0,
    "start_time": "2024-06-11T11:02:05.103Z"
   },
   {
    "duration": 0,
    "start_time": "2024-06-11T11:02:05.104Z"
   },
   {
    "duration": 0,
    "start_time": "2024-06-11T11:02:05.105Z"
   },
   {
    "duration": 0,
    "start_time": "2024-06-11T11:02:05.106Z"
   },
   {
    "duration": 1560,
    "start_time": "2024-06-11T11:02:54.001Z"
   },
   {
    "duration": 183,
    "start_time": "2024-06-11T11:02:55.563Z"
   },
   {
    "duration": 1052,
    "start_time": "2024-06-11T11:02:55.748Z"
   },
   {
    "duration": 34,
    "start_time": "2024-06-11T11:02:56.802Z"
   },
   {
    "duration": 25,
    "start_time": "2024-06-11T11:02:56.837Z"
   },
   {
    "duration": 11,
    "start_time": "2024-06-11T11:02:56.863Z"
   },
   {
    "duration": 32,
    "start_time": "2024-06-11T11:02:56.876Z"
   },
   {
    "duration": 276,
    "start_time": "2024-06-11T11:02:56.910Z"
   },
   {
    "duration": 14,
    "start_time": "2024-06-11T11:02:57.188Z"
   },
   {
    "duration": 20,
    "start_time": "2024-06-11T11:02:57.206Z"
   },
   {
    "duration": 228,
    "start_time": "2024-06-11T11:02:57.228Z"
   },
   {
    "duration": 215,
    "start_time": "2024-06-11T11:02:57.461Z"
   },
   {
    "duration": 5,
    "start_time": "2024-06-11T11:02:57.678Z"
   },
   {
    "duration": 21,
    "start_time": "2024-06-11T11:02:57.685Z"
   },
   {
    "duration": 89360,
    "start_time": "2024-06-11T11:02:57.708Z"
   },
   {
    "duration": 61,
    "start_time": "2024-06-11T11:04:27.071Z"
   },
   {
    "duration": 32,
    "start_time": "2024-06-11T11:04:27.134Z"
   },
   {
    "duration": 32,
    "start_time": "2024-06-11T11:04:27.168Z"
   },
   {
    "duration": 19,
    "start_time": "2024-06-11T11:04:27.202Z"
   },
   {
    "duration": 72,
    "start_time": "2024-06-11T11:04:27.222Z"
   },
   {
    "duration": 5357,
    "start_time": "2024-06-11T11:04:27.296Z"
   },
   {
    "duration": 7,
    "start_time": "2024-06-11T11:04:32.654Z"
   },
   {
    "duration": 13,
    "start_time": "2024-06-11T11:04:32.662Z"
   },
   {
    "duration": 233533,
    "start_time": "2024-06-11T11:04:32.677Z"
   },
   {
    "duration": 4,
    "start_time": "2024-06-11T11:08:26.213Z"
   },
   {
    "duration": 24,
    "start_time": "2024-06-11T11:08:26.218Z"
   },
   {
    "duration": 32,
    "start_time": "2024-06-11T11:08:26.244Z"
   },
   {
    "duration": 1395,
    "start_time": "2024-06-11T11:08:26.280Z"
   },
   {
    "duration": 3,
    "start_time": "2024-06-11T11:08:27.677Z"
   },
   {
    "duration": 5,
    "start_time": "2024-06-11T11:08:27.682Z"
   },
   {
    "duration": 45559,
    "start_time": "2024-06-11T11:08:27.689Z"
   },
   {
    "duration": 0,
    "start_time": "2024-06-11T11:09:13.249Z"
   },
   {
    "duration": 0,
    "start_time": "2024-06-11T11:09:13.251Z"
   },
   {
    "duration": 0,
    "start_time": "2024-06-11T11:09:13.252Z"
   },
   {
    "duration": 0,
    "start_time": "2024-06-11T11:09:13.253Z"
   },
   {
    "duration": 0,
    "start_time": "2024-06-11T11:09:13.264Z"
   },
   {
    "duration": 0,
    "start_time": "2024-06-11T11:09:13.265Z"
   },
   {
    "duration": 1616,
    "start_time": "2024-06-11T11:12:09.256Z"
   },
   {
    "duration": 259,
    "start_time": "2024-06-11T11:12:10.874Z"
   },
   {
    "duration": 1019,
    "start_time": "2024-06-11T11:12:11.135Z"
   },
   {
    "duration": 35,
    "start_time": "2024-06-11T11:12:12.156Z"
   },
   {
    "duration": 16,
    "start_time": "2024-06-11T11:12:12.194Z"
   },
   {
    "duration": 13,
    "start_time": "2024-06-11T11:12:12.212Z"
   },
   {
    "duration": 5,
    "start_time": "2024-06-11T11:12:12.227Z"
   },
   {
    "duration": 269,
    "start_time": "2024-06-11T11:12:12.261Z"
   },
   {
    "duration": 15,
    "start_time": "2024-06-11T11:12:12.531Z"
   },
   {
    "duration": 5,
    "start_time": "2024-06-11T11:12:12.547Z"
   },
   {
    "duration": 214,
    "start_time": "2024-06-11T11:12:12.562Z"
   },
   {
    "duration": 214,
    "start_time": "2024-06-11T11:12:12.778Z"
   },
   {
    "duration": 5,
    "start_time": "2024-06-11T11:12:12.994Z"
   },
   {
    "duration": 19,
    "start_time": "2024-06-11T11:12:13.003Z"
   },
   {
    "duration": 87470,
    "start_time": "2024-06-11T11:12:13.024Z"
   },
   {
    "duration": 54,
    "start_time": "2024-06-11T11:13:40.495Z"
   },
   {
    "duration": 9,
    "start_time": "2024-06-11T11:13:40.560Z"
   },
   {
    "duration": 4,
    "start_time": "2024-06-11T11:13:40.571Z"
   },
   {
    "duration": 9,
    "start_time": "2024-06-11T11:13:40.576Z"
   },
   {
    "duration": 93,
    "start_time": "2024-06-11T11:13:40.587Z"
   },
   {
    "duration": 5199,
    "start_time": "2024-06-11T11:13:40.682Z"
   },
   {
    "duration": 4,
    "start_time": "2024-06-11T11:13:45.882Z"
   },
   {
    "duration": 33,
    "start_time": "2024-06-11T11:13:45.888Z"
   },
   {
    "duration": 177844,
    "start_time": "2024-06-11T11:13:45.924Z"
   },
   {
    "duration": 3,
    "start_time": "2024-06-11T11:16:43.770Z"
   },
   {
    "duration": 17,
    "start_time": "2024-06-11T11:16:43.775Z"
   },
   {
    "duration": 17,
    "start_time": "2024-06-11T11:16:43.794Z"
   },
   {
    "duration": 1286,
    "start_time": "2024-06-11T11:16:43.813Z"
   },
   {
    "duration": 3,
    "start_time": "2024-06-11T11:16:45.101Z"
   },
   {
    "duration": 13,
    "start_time": "2024-06-11T11:16:45.106Z"
   },
   {
    "duration": 2429308,
    "start_time": "2024-06-11T11:16:45.121Z"
   },
   {
    "duration": 0,
    "start_time": "2024-06-11T11:57:14.431Z"
   },
   {
    "duration": 0,
    "start_time": "2024-06-11T11:57:14.433Z"
   },
   {
    "duration": 0,
    "start_time": "2024-06-11T11:57:14.434Z"
   },
   {
    "duration": 0,
    "start_time": "2024-06-11T11:57:14.435Z"
   },
   {
    "duration": 0,
    "start_time": "2024-06-11T11:57:14.437Z"
   },
   {
    "duration": 0,
    "start_time": "2024-06-11T11:57:14.437Z"
   },
   {
    "duration": 4,
    "start_time": "2024-06-11T11:57:40.467Z"
   },
   {
    "duration": 341870,
    "start_time": "2024-06-11T11:57:43.011Z"
   },
   {
    "duration": 5,
    "start_time": "2024-06-11T12:03:29.098Z"
   },
   {
    "duration": 1657050,
    "start_time": "2024-06-11T12:03:30.137Z"
   },
   {
    "duration": 1659,
    "start_time": "2024-06-11T12:31:14.897Z"
   },
   {
    "duration": 188,
    "start_time": "2024-06-11T12:31:16.558Z"
   },
   {
    "duration": 1049,
    "start_time": "2024-06-11T12:31:16.747Z"
   },
   {
    "duration": 36,
    "start_time": "2024-06-11T12:31:17.798Z"
   },
   {
    "duration": 29,
    "start_time": "2024-06-11T12:31:17.837Z"
   },
   {
    "duration": 12,
    "start_time": "2024-06-11T12:31:17.868Z"
   },
   {
    "duration": 10,
    "start_time": "2024-06-11T12:31:17.882Z"
   },
   {
    "duration": 282,
    "start_time": "2024-06-11T12:31:17.894Z"
   },
   {
    "duration": 14,
    "start_time": "2024-06-11T12:31:18.178Z"
   },
   {
    "duration": 5,
    "start_time": "2024-06-11T12:31:18.193Z"
   },
   {
    "duration": 224,
    "start_time": "2024-06-11T12:31:18.200Z"
   },
   {
    "duration": 220,
    "start_time": "2024-06-11T12:31:18.426Z"
   },
   {
    "duration": 13,
    "start_time": "2024-06-11T12:31:18.648Z"
   },
   {
    "duration": 4,
    "start_time": "2024-06-11T12:31:18.664Z"
   },
   {
    "duration": 88827,
    "start_time": "2024-06-11T12:31:18.670Z"
   },
   {
    "duration": 62,
    "start_time": "2024-06-11T12:32:47.499Z"
   },
   {
    "duration": 9,
    "start_time": "2024-06-11T12:32:47.562Z"
   },
   {
    "duration": 4,
    "start_time": "2024-06-11T12:32:47.573Z"
   },
   {
    "duration": 11,
    "start_time": "2024-06-11T12:32:47.578Z"
   },
   {
    "duration": 96,
    "start_time": "2024-06-11T12:32:47.591Z"
   },
   {
    "duration": 5258,
    "start_time": "2024-06-11T12:32:47.689Z"
   },
   {
    "duration": 13,
    "start_time": "2024-06-11T12:32:52.949Z"
   },
   {
    "duration": 9,
    "start_time": "2024-06-11T12:32:52.964Z"
   },
   {
    "duration": 176390,
    "start_time": "2024-06-11T12:32:52.975Z"
   },
   {
    "duration": 3,
    "start_time": "2024-06-11T12:35:49.367Z"
   },
   {
    "duration": 20,
    "start_time": "2024-06-11T12:35:49.371Z"
   },
   {
    "duration": 24,
    "start_time": "2024-06-11T12:35:49.392Z"
   },
   {
    "duration": 1417,
    "start_time": "2024-06-11T12:35:49.417Z"
   },
   {
    "duration": 3,
    "start_time": "2024-06-11T12:35:50.836Z"
   },
   {
    "duration": 20,
    "start_time": "2024-06-11T12:35:50.842Z"
   },
   {
    "duration": 317588,
    "start_time": "2024-06-11T12:35:50.864Z"
   },
   {
    "duration": 0,
    "start_time": "2024-06-11T12:41:08.454Z"
   },
   {
    "duration": 0,
    "start_time": "2024-06-11T12:41:08.461Z"
   },
   {
    "duration": 0,
    "start_time": "2024-06-11T12:41:08.463Z"
   },
   {
    "duration": 0,
    "start_time": "2024-06-11T12:41:08.464Z"
   },
   {
    "duration": 0,
    "start_time": "2024-06-11T12:41:08.466Z"
   },
   {
    "duration": 0,
    "start_time": "2024-06-11T12:41:08.467Z"
   },
   {
    "duration": 4,
    "start_time": "2024-06-11T12:41:30.399Z"
   },
   {
    "duration": 46820,
    "start_time": "2024-06-11T12:41:31.967Z"
   },
   {
    "duration": 4,
    "start_time": "2024-06-11T12:42:21.489Z"
   },
   {
    "duration": 7048990,
    "start_time": "2024-06-11T12:42:22.206Z"
   },
   {
    "duration": 3,
    "start_time": "2024-06-11T14:39:51.199Z"
   },
   {
    "duration": 81,
    "start_time": "2024-06-11T14:39:51.204Z"
   },
   {
    "duration": 5,
    "start_time": "2024-06-11T15:22:27.145Z"
   },
   {
    "duration": 1871,
    "start_time": "2024-06-11T15:22:32.665Z"
   },
   {
    "duration": 8,
    "start_time": "2024-06-11T15:27:37.933Z"
   },
   {
    "duration": 18,
    "start_time": "2024-06-11T15:27:41.693Z"
   },
   {
    "duration": 1577,
    "start_time": "2024-06-13T19:39:45.579Z"
   },
   {
    "duration": 721,
    "start_time": "2024-06-13T19:40:01.907Z"
   },
   {
    "duration": 3084,
    "start_time": "2024-06-13T19:40:07.108Z"
   },
   {
    "duration": 26,
    "start_time": "2024-06-13T19:40:10.194Z"
   },
   {
    "duration": 10,
    "start_time": "2024-06-13T19:40:10.221Z"
   },
   {
    "duration": 11,
    "start_time": "2024-06-13T19:40:17.042Z"
   },
   {
    "duration": 3,
    "start_time": "2024-06-13T19:40:19.666Z"
   },
   {
    "duration": 256,
    "start_time": "2024-06-13T19:40:22.130Z"
   },
   {
    "duration": 9,
    "start_time": "2024-06-13T19:40:26.435Z"
   },
   {
    "duration": 4,
    "start_time": "2024-06-13T19:40:27.587Z"
   },
   {
    "duration": 193,
    "start_time": "2024-06-13T19:40:28.562Z"
   },
   {
    "duration": 155,
    "start_time": "2024-06-13T19:41:02.804Z"
   },
   {
    "duration": 4,
    "start_time": "2024-06-13T19:41:20.947Z"
   },
   {
    "duration": 3,
    "start_time": "2024-06-13T19:41:45.045Z"
   },
   {
    "duration": 3,
    "start_time": "2024-06-13T19:42:38.693Z"
   },
   {
    "duration": 129,
    "start_time": "2024-06-13T19:44:48.008Z"
   },
   {
    "duration": 6,
    "start_time": "2024-06-13T19:44:55.497Z"
   },
   {
    "duration": 6,
    "start_time": "2024-06-13T19:45:02.519Z"
   },
   {
    "duration": 1199,
    "start_time": "2024-06-13T19:46:14.441Z"
   },
   {
    "duration": 8,
    "start_time": "2024-06-13T19:46:25.793Z"
   },
   {
    "duration": 40,
    "start_time": "2024-06-13T19:48:07.993Z"
   },
   {
    "duration": 8,
    "start_time": "2024-06-13T19:50:39.740Z"
   },
   {
    "duration": 2020,
    "start_time": "2024-06-13T19:50:57.516Z"
   },
   {
    "duration": 424,
    "start_time": "2024-06-13T19:51:05.004Z"
   },
   {
    "duration": 273,
    "start_time": "2024-06-13T19:52:05.790Z"
   },
   {
    "duration": 10,
    "start_time": "2024-06-13T19:52:10.956Z"
   },
   {
    "duration": 2072174,
    "start_time": "2024-06-13T19:55:44.800Z"
   },
   {
    "duration": 37,
    "start_time": "2024-06-13T20:38:29.093Z"
   },
   {
    "duration": 7,
    "start_time": "2024-06-13T20:38:34.405Z"
   },
   {
    "duration": 2,
    "start_time": "2024-06-13T20:38:58.149Z"
   },
   {
    "duration": 4,
    "start_time": "2024-06-13T20:38:58.610Z"
   },
   {
    "duration": 59,
    "start_time": "2024-06-13T20:38:59.219Z"
   },
   {
    "duration": 2,
    "start_time": "2024-06-13T20:39:07.828Z"
   },
   {
    "duration": 187,
    "start_time": "2024-06-13T20:39:11.760Z"
   },
   {
    "duration": 15,
    "start_time": "2024-06-13T20:39:32.787Z"
   },
   {
    "duration": 14,
    "start_time": "2024-06-13T20:40:31.842Z"
   },
   {
    "duration": 4,
    "start_time": "2024-06-13T20:41:51.258Z"
   },
   {
    "duration": 3,
    "start_time": "2024-06-13T20:41:58.131Z"
   },
   {
    "duration": 12,
    "start_time": "2024-06-13T20:42:18.499Z"
   },
   {
    "duration": 319399,
    "start_time": "2024-06-13T20:42:36.932Z"
   },
   {
    "duration": 3,
    "start_time": "2024-06-13T20:53:09.710Z"
   },
   {
    "duration": 3,
    "start_time": "2024-06-13T20:53:12.237Z"
   },
   {
    "duration": 17,
    "start_time": "2024-06-13T20:53:53.501Z"
   },
   {
    "duration": 3,
    "start_time": "2024-06-13T20:54:14.245Z"
   },
   {
    "duration": 18,
    "start_time": "2024-06-13T20:54:53.998Z"
   },
   {
    "duration": 3,
    "start_time": "2024-06-13T20:58:41.698Z"
   },
   {
    "duration": 4,
    "start_time": "2024-06-13T20:58:46.978Z"
   },
   {
    "duration": 3,
    "start_time": "2024-06-13T20:58:57.826Z"
   },
   {
    "duration": 461064,
    "start_time": "2024-06-13T20:59:03.481Z"
   },
   {
    "duration": 3,
    "start_time": "2024-06-13T21:06:51.483Z"
   },
   {
    "duration": 3,
    "start_time": "2024-06-13T21:06:52.475Z"
   },
   {
    "duration": 21,
    "start_time": "2024-06-13T21:06:57.981Z"
   },
   {
    "duration": 3,
    "start_time": "2024-06-13T21:08:31.789Z"
   },
   {
    "duration": 266099,
    "start_time": "2024-06-13T21:08:32.909Z"
   },
   {
    "duration": 3,
    "start_time": "2024-06-13T21:14:04.257Z"
   },
   {
    "duration": 3,
    "start_time": "2024-06-13T21:14:05.905Z"
   },
   {
    "duration": 19,
    "start_time": "2024-06-13T21:14:12.115Z"
   },
   {
    "duration": 3,
    "start_time": "2024-06-13T21:19:00.774Z"
   },
   {
    "duration": 47043,
    "start_time": "2024-06-13T21:19:10.053Z"
   },
   {
    "duration": 2,
    "start_time": "2024-06-13T21:20:00.743Z"
   },
   {
    "duration": 3,
    "start_time": "2024-06-13T21:20:27.398Z"
   },
   {
    "duration": 12,
    "start_time": "2024-06-13T21:20:36.326Z"
   },
   {
    "duration": 4902576,
    "start_time": "2024-06-13T21:21:19.832Z"
   },
   {
    "duration": 3,
    "start_time": "2024-06-13T22:45:01.084Z"
   },
   {
    "duration": 19,
    "start_time": "2024-06-13T22:45:24.142Z"
   },
   {
    "duration": 2,
    "start_time": "2024-06-13T22:46:25.951Z"
   },
   {
    "duration": 4,
    "start_time": "2024-06-13T22:48:36.240Z"
   },
   {
    "duration": 3567,
    "start_time": "2024-06-13T22:50:18.448Z"
   },
   {
    "duration": 719,
    "start_time": "2024-06-13T22:50:34.913Z"
   },
   {
    "duration": 12,
    "start_time": "2024-06-13T22:50:52.065Z"
   },
   {
    "duration": 43,
    "start_time": "2024-06-13T22:51:05.313Z"
   },
   {
    "duration": 43,
    "start_time": "2024-06-13T22:51:49.446Z"
   },
   {
    "duration": 3,
    "start_time": "2024-06-13T23:00:27.194Z"
   },
   {
    "duration": 511436,
    "start_time": "2024-06-13T23:00:34.873Z"
   },
   {
    "duration": 3,
    "start_time": "2024-06-13T23:09:38.017Z"
   },
   {
    "duration": 3,
    "start_time": "2024-06-13T23:09:39.441Z"
   },
   {
    "duration": 22,
    "start_time": "2024-06-13T23:09:49.907Z"
   },
   {
    "duration": 3,
    "start_time": "2024-06-13T23:10:26.018Z"
   },
   {
    "duration": 513067,
    "start_time": "2024-06-13T23:10:26.849Z"
   },
   {
    "duration": 2,
    "start_time": "2024-06-13T23:19:45.465Z"
   },
   {
    "duration": 3,
    "start_time": "2024-06-13T23:19:47.000Z"
   },
   {
    "duration": 22,
    "start_time": "2024-06-13T23:19:50.236Z"
   },
   {
    "duration": 19,
    "start_time": "2024-06-13T23:20:17.402Z"
   },
   {
    "duration": 13,
    "start_time": "2024-06-13T23:26:15.791Z"
   },
   {
    "duration": 12,
    "start_time": "2024-06-13T23:26:26.847Z"
   },
   {
    "duration": 3825,
    "start_time": "2024-06-13T23:29:34.597Z"
   },
   {
    "duration": 1078,
    "start_time": "2024-06-13T23:29:38.424Z"
   },
   {
    "duration": 16,
    "start_time": "2024-06-13T23:29:39.503Z"
   },
   {
    "duration": 8,
    "start_time": "2024-06-13T23:29:39.521Z"
   },
   {
    "duration": 9,
    "start_time": "2024-06-13T23:29:39.530Z"
   },
   {
    "duration": 4,
    "start_time": "2024-06-13T23:29:39.540Z"
   },
   {
    "duration": 256,
    "start_time": "2024-06-13T23:29:39.545Z"
   },
   {
    "duration": 7,
    "start_time": "2024-06-13T23:29:39.803Z"
   },
   {
    "duration": 3,
    "start_time": "2024-06-13T23:29:39.812Z"
   },
   {
    "duration": 206,
    "start_time": "2024-06-13T23:29:39.817Z"
   },
   {
    "duration": 98,
    "start_time": "2024-06-13T23:29:40.024Z"
   },
   {
    "duration": 426,
    "start_time": "2024-06-13T23:29:40.123Z"
   },
   {
    "duration": 6,
    "start_time": "2024-06-13T23:29:40.550Z"
   },
   {
    "duration": 193,
    "start_time": "2024-06-13T23:29:40.557Z"
   },
   {
    "duration": 7,
    "start_time": "2024-06-13T23:29:40.752Z"
   },
   {
    "duration": 1995148,
    "start_time": "2024-06-13T23:29:40.760Z"
   },
   {
    "duration": 35,
    "start_time": "2024-06-14T00:02:55.909Z"
   },
   {
    "duration": 7,
    "start_time": "2024-06-14T00:02:55.945Z"
   },
   {
    "duration": 4,
    "start_time": "2024-06-14T00:02:55.953Z"
   },
   {
    "duration": 5,
    "start_time": "2024-06-14T00:02:55.958Z"
   },
   {
    "duration": 65,
    "start_time": "2024-06-14T00:02:55.964Z"
   },
   {
    "duration": 2,
    "start_time": "2024-06-14T00:02:56.031Z"
   },
   {
    "duration": 10,
    "start_time": "2024-06-14T00:02:56.034Z"
   },
   {
    "duration": 517245,
    "start_time": "2024-06-14T00:02:56.046Z"
   },
   {
    "duration": 2,
    "start_time": "2024-06-14T00:11:33.292Z"
   },
   {
    "duration": 18,
    "start_time": "2024-06-14T00:11:33.295Z"
   },
   {
    "duration": 13,
    "start_time": "2024-06-14T00:11:33.314Z"
   },
   {
    "duration": 3,
    "start_time": "2024-06-14T00:11:33.330Z"
   },
   {
    "duration": 47382,
    "start_time": "2024-06-14T00:11:33.334Z"
   },
   {
    "duration": 3,
    "start_time": "2024-06-14T00:12:20.717Z"
   },
   {
    "duration": 5,
    "start_time": "2024-06-14T00:12:20.721Z"
   },
   {
    "duration": 4911072,
    "start_time": "2024-06-14T00:12:20.727Z"
   },
   {
    "duration": 3,
    "start_time": "2024-06-14T01:34:11.800Z"
   },
   {
    "duration": 30,
    "start_time": "2024-06-14T01:34:11.804Z"
   },
   {
    "duration": 2,
    "start_time": "2024-06-14T01:34:11.835Z"
   },
   {
    "duration": 3827,
    "start_time": "2024-06-14T01:34:11.838Z"
   },
   {
    "duration": 763,
    "start_time": "2024-06-14T01:34:15.666Z"
   },
   {
    "duration": 13,
    "start_time": "2024-06-14T01:34:16.431Z"
   },
   {
    "duration": 52,
    "start_time": "2024-06-14T01:34:16.445Z"
   }
  ],
  "kernelspec": {
   "display_name": "Python 3 (ipykernel)",
   "language": "python",
   "name": "python3"
  },
  "language_info": {
   "codemirror_mode": {
    "name": "ipython",
    "version": 3
   },
   "file_extension": ".py",
   "mimetype": "text/x-python",
   "name": "python",
   "nbconvert_exporter": "python",
   "pygments_lexer": "ipython3",
   "version": "3.11.4"
  },
  "toc": {
   "base_numbering": 1,
   "nav_menu": {},
   "number_sections": true,
   "sideBar": true,
   "skip_h1_title": true,
   "title_cell": "Содержание",
   "title_sidebar": "Contents",
   "toc_cell": true,
   "toc_position": {
    "height": "calc(100% - 180px)",
    "left": "10px",
    "top": "150px",
    "width": "165px"
   },
   "toc_section_display": true,
   "toc_window_display": true
  }
 },
 "nbformat": 4,
 "nbformat_minor": 2
}

{
 "cells": [
  {
   "cell_type": "markdown",
   "metadata": {
    "toc": true
   },
   "source": [
    "<h1>Содержание<span class=\"tocSkip\"></span></h1>\n",
    "<div class=\"toc\"><ul class=\"toc-item\"><li><span><a href=\"#Подготовка\" data-toc-modified-id=\"Подготовка-1\"><span class=\"toc-item-num\">1&nbsp;&nbsp;</span>Подготовка</a></span></li><li><span><a href=\"#Анализ\" data-toc-modified-id=\"Анализ-2\"><span class=\"toc-item-num\">2&nbsp;&nbsp;</span>Анализ</a></span></li><li><span><a href=\"#Обучение\" data-toc-modified-id=\"Обучение-3\"><span class=\"toc-item-num\">3&nbsp;&nbsp;</span>Обучение</a></span></li><li><span><a href=\"#Тестирование\" data-toc-modified-id=\"Тестирование-4\"><span class=\"toc-item-num\">4&nbsp;&nbsp;</span>Тестирование</a></span></li><li><span><a href=\"#Вывод\" data-toc-modified-id=\"Вывод-5\"><span class=\"toc-item-num\">5&nbsp;&nbsp;</span>Вывод</a></span></li></ul></div>"
   ]
  },
  {
   "cell_type": "markdown",
   "metadata": {},
   "source": [
    "#  Прогнозирование заказов такси"
   ]
  },
  {
   "cell_type": "markdown",
   "metadata": {},
   "source": [
    "Компания собрала исторические данные о заказах такси в аэропортах. Чтобы привлекать больше водителей в период пиковой нагрузки, нужно спрогнозировать количество заказов такси на следующий час. Построим модель для такого предсказания.\n",
    "\n",
    "Значение метрики *RMSE* на тестовой выборке должно быть не больше 48.\n",
    "\n",
    "Нам нужно:\n",
    "\n",
    "1. Загрузить данные и выполнить их ресемплирование по одному часу.\n",
    "2. Проанализировать данные.\n",
    "3. Обучить разные модели с различными гиперпараметрами. Сделать тестовую выборку размером 10% от исходных данных.\n",
    "4. Проверить данные на тестовой выборке и сделать выводы.\n",
    "\n",
    "\n",
    "Данные лежат в файле `taxi.csv`. Количество заказов находится в столбце `num_orders` (от англ. *number of orders*, «число заказов»)."
   ]
  },
  {
   "cell_type": "code",
   "execution_count": 1,
   "metadata": {},
   "outputs": [
    {
     "name": "stdout",
     "output_type": "stream",
     "text": [
      "Note: you may need to restart the kernel to use updated packages.\n"
     ]
    }
   ],
   "source": [
    "pip install --upgrade pip -q"
   ]
  },
  {
   "cell_type": "code",
   "execution_count": 2,
   "metadata": {},
   "outputs": [
    {
     "name": "stdout",
     "output_type": "stream",
     "text": [
      "Note: you may need to restart the kernel to use updated packages.\n"
     ]
    }
   ],
   "source": [
    "pip install -U scikit-learn -q"
   ]
  },
  {
   "cell_type": "code",
   "execution_count": 3,
   "metadata": {},
   "outputs": [
    {
     "name": "stdout",
     "output_type": "stream",
     "text": [
      "Note: you may need to restart the kernel to use updated packages.\n"
     ]
    }
   ],
   "source": [
    "pip install --upgrade catboost -q"
   ]
  },
  {
   "cell_type": "code",
   "execution_count": 4,
   "metadata": {},
   "outputs": [],
   "source": [
    "import matplotlib.pyplot as plt\n",
    "import numpy as np\n",
    "import pandas as pd\n",
    "import seaborn as sns\n",
    "import lightgbm as lgb\n",
    "import warnings\n",
    "import os\n",
    "\n",
    "from scipy import stats as st\n",
    "from numpy.random import RandomState\n",
    "\n",
    "from statsmodels.tsa.seasonal import seasonal_decompose\n",
    "from statsmodels.tsa.stattools import adfuller\n",
    "from sklearn.compose import ColumnTransformer\n",
    "from sklearn.linear_model import LinearRegression, ElasticNet\n",
    "from lightgbm import LGBMRegressor\n",
    "from catboost import CatBoostRegressor, Pool, cv\n",
    "from sklearn.tree import DecisionTreeRegressor\n",
    "from sklearn.metrics import (mean_absolute_error, mean_squared_error, make_scorer)\n",
    "from sklearn.model_selection import GridSearchCV, train_test_split, cross_val_score, TimeSeriesSplit\n",
    "from sklearn.pipeline import Pipeline\n",
    "from sklearn.preprocessing import StandardScaler, FunctionTransformer\n",
    "from statsmodels.graphics.tsaplots import plot_acf, plot_pacf"
   ]
  },
  {
   "cell_type": "code",
   "execution_count": 5,
   "metadata": {},
   "outputs": [],
   "source": [
    "warnings.filterwarnings('ignore')"
   ]
  },
  {
   "cell_type": "code",
   "execution_count": 6,
   "metadata": {},
   "outputs": [],
   "source": [
    "RANDOM_STATE = 42"
   ]
  },
  {
   "cell_type": "markdown",
   "metadata": {},
   "source": [
    "## Подготовка"
   ]
  },
  {
   "cell_type": "markdown",
   "metadata": {},
   "source": [
    "Из описания данных, мы уже знаем, что в них содержится два столбца: дата и количество заказов такси. На этапе считывания спарсим дату и зададим ее в качестве индекс-столбца."
   ]
  },
  {
   "cell_type": "code",
   "execution_count": 7,
   "metadata": {},
   "outputs": [],
   "source": [
    "pth_1 = '/datasets/taxi.csv'\n",
    "pth_2 = 'C:/Users/ASUS/Desktop/PRACTICUM/Мои проекты/Taxi/taxi.csv'\n",
    "\n",
    "if os.path.exists(pth_1):\n",
    "    taxi = pd.read_csv(pth_1, index_col=[0], parse_dates=[0])\n",
    "elif os.path.exists(pth_2):\n",
    "    taxi = pd.read_csv(pth_2, index_col=[0], parse_dates=[0])\n",
    "else:\n",
    "    print('Что-то пошло не так..')\n"
   ]
  },
  {
   "cell_type": "code",
   "execution_count": 8,
   "metadata": {},
   "outputs": [
    {
     "data": {
      "text/html": [
       "<div>\n",
       "<style scoped>\n",
       "    .dataframe tbody tr th:only-of-type {\n",
       "        vertical-align: middle;\n",
       "    }\n",
       "\n",
       "    .dataframe tbody tr th {\n",
       "        vertical-align: top;\n",
       "    }\n",
       "\n",
       "    .dataframe thead th {\n",
       "        text-align: right;\n",
       "    }\n",
       "</style>\n",
       "<table border=\"1\" class=\"dataframe\">\n",
       "  <thead>\n",
       "    <tr style=\"text-align: right;\">\n",
       "      <th></th>\n",
       "      <th>num_orders</th>\n",
       "    </tr>\n",
       "    <tr>\n",
       "      <th>datetime</th>\n",
       "      <th></th>\n",
       "    </tr>\n",
       "  </thead>\n",
       "  <tbody>\n",
       "    <tr>\n",
       "      <th>2018-03-01 00:00:00</th>\n",
       "      <td>9</td>\n",
       "    </tr>\n",
       "    <tr>\n",
       "      <th>2018-03-01 00:10:00</th>\n",
       "      <td>14</td>\n",
       "    </tr>\n",
       "    <tr>\n",
       "      <th>2018-03-01 00:20:00</th>\n",
       "      <td>28</td>\n",
       "    </tr>\n",
       "    <tr>\n",
       "      <th>2018-03-01 00:30:00</th>\n",
       "      <td>20</td>\n",
       "    </tr>\n",
       "    <tr>\n",
       "      <th>2018-03-01 00:40:00</th>\n",
       "      <td>32</td>\n",
       "    </tr>\n",
       "  </tbody>\n",
       "</table>\n",
       "</div>"
      ],
      "text/plain": [
       "                     num_orders\n",
       "datetime                       \n",
       "2018-03-01 00:00:00           9\n",
       "2018-03-01 00:10:00          14\n",
       "2018-03-01 00:20:00          28\n",
       "2018-03-01 00:30:00          20\n",
       "2018-03-01 00:40:00          32"
      ]
     },
     "execution_count": 8,
     "metadata": {},
     "output_type": "execute_result"
    }
   ],
   "source": [
    "taxi.head()"
   ]
  },
  {
   "cell_type": "code",
   "execution_count": 9,
   "metadata": {},
   "outputs": [
    {
     "name": "stdout",
     "output_type": "stream",
     "text": [
      "<class 'pandas.core.frame.DataFrame'>\n",
      "DatetimeIndex: 26496 entries, 2018-03-01 00:00:00 to 2018-08-31 23:50:00\n",
      "Data columns (total 1 columns):\n",
      " #   Column      Non-Null Count  Dtype\n",
      "---  ------      --------------  -----\n",
      " 0   num_orders  26496 non-null  int64\n",
      "dtypes: int64(1)\n",
      "memory usage: 414.0 KB\n"
     ]
    }
   ],
   "source": [
    "taxi.info()"
   ]
  },
  {
   "cell_type": "code",
   "execution_count": 10,
   "metadata": {},
   "outputs": [
    {
     "data": {
      "text/plain": [
       "True"
      ]
     },
     "execution_count": 10,
     "metadata": {},
     "output_type": "execute_result"
    }
   ],
   "source": [
    "taxi.index.is_monotonic"
   ]
  },
  {
   "cell_type": "markdown",
   "metadata": {},
   "source": [
    "Данные загружены корректно, даты расположены в хронологическом порядке. В нашем распоряжении информация о поездках в период с марта по август 2018 года."
   ]
  },
  {
   "cell_type": "code",
   "execution_count": 11,
   "metadata": {},
   "outputs": [
    {
     "data": {
      "image/png": "[encoded data removed]",
      "text/plain": [
       "<Figure size 720x360 with 1 Axes>"
      ]
     },
     "metadata": {
      "needs_background": "light"
     },
     "output_type": "display_data"
    }
   ],
   "source": [
    "taxi.plot(figsize=(10, 5))\n",
    "plt.title('График заказа такси (временной шаг 10 минут)')\n",
    "plt.xlabel('Дата')\n",
    "plt.ylabel('Количество заказов')\n",
    "plt.show()"
   ]
  },
  {
   "cell_type": "markdown",
   "metadata": {},
   "source": [
    "Ресеплируем данные по одному часу:"
   ]
  },
  {
   "cell_type": "code",
   "execution_count": 12,
   "metadata": {},
   "outputs": [],
   "source": [
    "taxi = taxi.resample('1H').sum()"
   ]
  },
  {
   "cell_type": "markdown",
   "metadata": {},
   "source": [
    "Теперь с помощью функции создадим новые признаки: месяц, день, день недели, отстающие значения и скользящее среднее. Сразу добавим удаление пустых ячеек, возникающих из-за сдвига значений."
   ]
  },
  {
   "cell_type": "code",
   "execution_count": 13,
   "metadata": {},
   "outputs": [],
   "source": [
    "def make_features(data):\n",
    "     new_data = data.copy()\n",
    "     new_data['hour'] = new_data.index.hour\n",
    "     new_data['dayofweek'] = new_data.index.dayofweek\n",
    "     return new_data\n",
    "data = make_features(taxi)"
   ]
  },
  {
   "cell_type": "markdown",
   "metadata": {},
   "source": [
    "## Анализ"
   ]
  },
  {
   "cell_type": "code",
   "execution_count": 15,
   "metadata": {},
   "outputs": [],
   "source": [
    "def first_step(data):\n",
    "    display(data.head())\n",
    "    display(data.tail())\n",
    "    print('Информация о датафрейме:')\n",
    "    display(data.info())\n",
    "    print(f'\\nКоличество пропущенных значений в каждом столбце:\\n{data.isna().sum()} \\n')\n",
    "    print(f'Количество дубликатов в индексах:\\n{data.index.duplicated().sum()} \\n')\n",
    "    print(f'Количество уникальных значений в каждом столбце:\\n{data.nunique()}')"
   ]
  },
  {
   "cell_type": "code",
   "execution_count": 16,
   "metadata": {},
   "outputs": [
    {
     "data": {
      "text/html": [
       "<div>\n",
       "<style scoped>\n",
       "    .dataframe tbody tr th:only-of-type {\n",
       "        vertical-align: middle;\n",
       "    }\n",
       "\n",
       "    .dataframe tbody tr th {\n",
       "        vertical-align: top;\n",
       "    }\n",
       "\n",
       "    .dataframe thead th {\n",
       "        text-align: right;\n",
       "    }\n",
       "</style>\n",
       "<table border=\"1\" class=\"dataframe\">\n",
       "  <thead>\n",
       "    <tr style=\"text-align: right;\">\n",
       "      <th></th>\n",
       "      <th>num_orders</th>\n",
       "      <th>hour</th>\n",
       "      <th>dayofweek</th>\n",
       "    </tr>\n",
       "    <tr>\n",
       "      <th>datetime</th>\n",
       "      <th></th>\n",
       "      <th></th>\n",
       "      <th></th>\n",
       "    </tr>\n",
       "  </thead>\n",
       "  <tbody>\n",
       "    <tr>\n",
       "      <th>2018-03-01 00:00:00</th>\n",
       "      <td>124</td>\n",
       "      <td>0</td>\n",
       "      <td>3</td>\n",
       "    </tr>\n",
       "    <tr>\n",
       "      <th>2018-03-01 01:00:00</th>\n",
       "      <td>85</td>\n",
       "      <td>1</td>\n",
       "      <td>3</td>\n",
       "    </tr>\n",
       "    <tr>\n",
       "      <th>2018-03-01 02:00:00</th>\n",
       "      <td>71</td>\n",
       "      <td>2</td>\n",
       "      <td>3</td>\n",
       "    </tr>\n",
       "    <tr>\n",
       "      <th>2018-03-01 03:00:00</th>\n",
       "      <td>66</td>\n",
       "      <td>3</td>\n",
       "      <td>3</td>\n",
       "    </tr>\n",
       "    <tr>\n",
       "      <th>2018-03-01 04:00:00</th>\n",
       "      <td>43</td>\n",
       "      <td>4</td>\n",
       "      <td>3</td>\n",
       "    </tr>\n",
       "  </tbody>\n",
       "</table>\n",
       "</div>"
      ],
      "text/plain": [
       "                     num_orders  hour  dayofweek\n",
       "datetime                                        \n",
       "2018-03-01 00:00:00         124     0          3\n",
       "2018-03-01 01:00:00          85     1          3\n",
       "2018-03-01 02:00:00          71     2          3\n",
       "2018-03-01 03:00:00          66     3          3\n",
       "2018-03-01 04:00:00          43     4          3"
      ]
     },
     "metadata": {},
     "output_type": "display_data"
    },
    {
     "data": {
      "text/html": [
       "<div>\n",
       "<style scoped>\n",
       "    .dataframe tbody tr th:only-of-type {\n",
       "        vertical-align: middle;\n",
       "    }\n",
       "\n",
       "    .dataframe tbody tr th {\n",
       "        vertical-align: top;\n",
       "    }\n",
       "\n",
       "    .dataframe thead th {\n",
       "        text-align: right;\n",
       "    }\n",
       "</style>\n",
       "<table border=\"1\" class=\"dataframe\">\n",
       "  <thead>\n",
       "    <tr style=\"text-align: right;\">\n",
       "      <th></th>\n",
       "      <th>num_orders</th>\n",
       "      <th>hour</th>\n",
       "      <th>dayofweek</th>\n",
       "    </tr>\n",
       "    <tr>\n",
       "      <th>datetime</th>\n",
       "      <th></th>\n",
       "      <th></th>\n",
       "      <th></th>\n",
       "    </tr>\n",
       "  </thead>\n",
       "  <tbody>\n",
       "    <tr>\n",
       "      <th>2018-08-31 19:00:00</th>\n",
       "      <td>136</td>\n",
       "      <td>19</td>\n",
       "      <td>4</td>\n",
       "    </tr>\n",
       "    <tr>\n",
       "      <th>2018-08-31 20:00:00</th>\n",
       "      <td>154</td>\n",
       "      <td>20</td>\n",
       "      <td>4</td>\n",
       "    </tr>\n",
       "    <tr>\n",
       "      <th>2018-08-31 21:00:00</th>\n",
       "      <td>159</td>\n",
       "      <td>21</td>\n",
       "      <td>4</td>\n",
       "    </tr>\n",
       "    <tr>\n",
       "      <th>2018-08-31 22:00:00</th>\n",
       "      <td>223</td>\n",
       "      <td>22</td>\n",
       "      <td>4</td>\n",
       "    </tr>\n",
       "    <tr>\n",
       "      <th>2018-08-31 23:00:00</th>\n",
       "      <td>205</td>\n",
       "      <td>23</td>\n",
       "      <td>4</td>\n",
       "    </tr>\n",
       "  </tbody>\n",
       "</table>\n",
       "</div>"
      ],
      "text/plain": [
       "                     num_orders  hour  dayofweek\n",
       "datetime                                        \n",
       "2018-08-31 19:00:00         136    19          4\n",
       "2018-08-31 20:00:00         154    20          4\n",
       "2018-08-31 21:00:00         159    21          4\n",
       "2018-08-31 22:00:00         223    22          4\n",
       "2018-08-31 23:00:00         205    23          4"
      ]
     },
     "metadata": {},
     "output_type": "display_data"
    },
    {
     "name": "stdout",
     "output_type": "stream",
     "text": [
      "Информация о датафрейме:\n",
      "<class 'pandas.core.frame.DataFrame'>\n",
      "DatetimeIndex: 4416 entries, 2018-03-01 00:00:00 to 2018-08-31 23:00:00\n",
      "Freq: H\n",
      "Data columns (total 3 columns):\n",
      " #   Column      Non-Null Count  Dtype\n",
      "---  ------      --------------  -----\n",
      " 0   num_orders  4416 non-null   int64\n",
      " 1   hour        4416 non-null   int64\n",
      " 2   dayofweek   4416 non-null   int64\n",
      "dtypes: int64(3)\n",
      "memory usage: 138.0 KB\n"
     ]
    },
    {
     "data": {
      "text/plain": [
       "None"
      ]
     },
     "metadata": {},
     "output_type": "display_data"
    },
    {
     "name": "stdout",
     "output_type": "stream",
     "text": [
      "\n",
      "Количество пропущенных значений в каждом столбце:\n",
      "num_orders    0\n",
      "hour          0\n",
      "dayofweek     0\n",
      "dtype: int64 \n",
      "\n",
      "Количество дубликатов в индексах:\n",
      "0 \n",
      "\n",
      "Количество уникальных значений в каждом столбце:\n",
      "num_orders    251\n",
      "hour           24\n",
      "dayofweek       7\n",
      "dtype: int64\n"
     ]
    }
   ],
   "source": [
    "first_step(data)"
   ]
  },
  {
   "cell_type": "markdown",
   "metadata": {},
   "source": [
    "Признаки 'dayofweek' и 'hour' можно отнести к дискретным величинам. Пропусков и дубликатов нет."
   ]
  },
  {
   "cell_type": "code",
   "execution_count": 17,
   "metadata": {},
   "outputs": [],
   "source": [
    "def orders(data, period):\n",
    "    \n",
    "    grouped_data = data.groupby(period)['num_orders'].sum()\n",
    "    \n",
    "    ax = grouped_data.plot(kind='bar', figsize=(10, 5))\n",
    "    plt.title(f'Заказы такси по {period}')\n",
    "    plt.xlabel(period)\n",
    "    plt.ylabel('Количество заказов')\n",
    "    ax.set_ylim(grouped_data.max() * 0.3, grouped_data.max() * 1.01)\n",
    "    plt.show()"
   ]
  },
  {
   "cell_type": "code",
   "execution_count": 18,
   "metadata": {},
   "outputs": [
    {
     "data": {
      "image/png": "[encoded data removed]",
      "text/plain": [
       "<Figure size 720x360 with 1 Axes>"
      ]
     },
     "metadata": {
      "needs_background": "light"
     },
     "output_type": "display_data"
    }
   ],
   "source": [
    "orders(data, 'hour')"
   ]
  },
  {
   "cell_type": "code",
   "execution_count": 20,
   "metadata": {},
   "outputs": [
    {
     "data": {
      "image/png": "[encoded data removed]",
      "text/plain": [
       "<Figure size 720x360 with 1 Axes>"
      ]
     },
     "metadata": {
      "needs_background": "light"
     },
     "output_type": "display_data"
    }
   ],
   "source": [
    "orders(data, 'dayofweek')"
   ]
  },
  {
   "cell_type": "code",
   "execution_count": 21,
   "metadata": {},
   "outputs": [
    {
     "data": {
      "image/png": "[encoded data removed]",
      "text/plain": [
       "<Figure size 864x288 with 1 Axes>"
      ]
     },
     "metadata": {
      "needs_background": "light"
     },
     "output_type": "display_data"
    }
   ],
   "source": [
    "fig, ax = plt.subplots(figsize=(12, 4))\n",
    "average_week_demand = data.groupby(['dayofweek', 'hour'])['num_orders'].mean()\n",
    "average_week_demand.plot(ax=ax)\n",
    "_ = ax.set(\n",
    "    title='Среднее количество заказов такси в час в течение недели',\n",
    "    xticks=[i * 24 for i in range(7)],\n",
    "    xticklabels=['Понедельник', 'Вторник', 'Среда', 'Четверг', 'Пятница', 'Cуббота', 'Воскресенье'],\n",
    "    xlabel='День недели',\n",
    "    ylabel='Количество заказов такси'\n",
    ")"
   ]
  },
  {
   "cell_type": "markdown",
   "metadata": {},
   "source": [
    "Немного чаще прочих дней услугами такси пользуются по понедельникам, четвергам и пятницам. Низким спросом такси пользуется утром с 5 до 8 часов, а высоким - в полночь и в 16 часов. Заметно, что в понедельник большое количество людей прилетает (возможно, после выходных) в короткий период после полуночи, а в пятницу - большое количество прилетающих вечером. "
   ]
  },
  {
   "cell_type": "code",
   "execution_count": 22,
   "metadata": {},
   "outputs": [
    {
     "data": {
      "text/plain": [
       "count    4416.000000\n",
       "mean       84.422781\n",
       "std        45.023853\n",
       "min         0.000000\n",
       "25%        54.000000\n",
       "50%        78.000000\n",
       "75%       107.000000\n",
       "max       462.000000\n",
       "Name: num_orders, dtype: float64"
      ]
     },
     "execution_count": 22,
     "metadata": {},
     "output_type": "execute_result"
    }
   ],
   "source": [
    "data['num_orders'].describe()"
   ]
  },
  {
   "cell_type": "markdown",
   "metadata": {},
   "source": [
    "В основном, каждый час сумма заказов не превышает 100. В среднем в час такси заказывают около 84 раз. В редких случаях служба получает свыше 200 заказов, в самый нагруженный час было 462 заказа. Посмотрим на распределение доли количества заказов от максимального количества (гистограмму нормализованных данных).\n"
   ]
  },
  {
   "cell_type": "code",
   "execution_count": 23,
   "metadata": {},
   "outputs": [
    {
     "data": {
      "image/png": "[encoded data removed]",
      "text/plain": [
       "<Figure size 864x288 with 1 Axes>"
      ]
     },
     "metadata": {
      "needs_background": "light"
     },
     "output_type": "display_data"
    }
   ],
   "source": [
    "fig, ax = plt.subplots(figsize=(12, 4))\n",
    "(data['num_orders']/data['num_orders'].max()).hist(bins=50, ax=ax)\n",
    "_ = ax.set(\n",
    "    xlabel='Доля заказов от максимального количества',\n",
    "    ylabel='Частота',\n",
    "    title='Распределение долей заказов относительно максимума',\n",
    ")"
   ]
  },
  {
   "cell_type": "markdown",
   "metadata": {},
   "source": [
    "Большинство заказов сосредоточено около 0,18 доли от максимального количества заказов, это значит, что около 80 заказов в час - это наиболее типичное (или характерное) количество. График распределения скошен влево, это значит, что более 200 заказов случаются крайне редко."
   ]
  },
  {
   "cell_type": "markdown",
   "metadata": {},
   "source": [
    "Разложим временной ряд на три составляющие: тренд, сезонность и остаток."
   ]
  },
  {
   "cell_type": "code",
   "execution_count": 24,
   "metadata": {},
   "outputs": [
    {
     "data": {
      "image/png": "[encoded data removed]",
      "text/plain": [
       "<Figure size 1008x576 with 3 Axes>"
      ]
     },
     "metadata": {
      "needs_background": "light"
     },
     "output_type": "display_data"
    }
   ],
   "source": [
    "decomposed = seasonal_decompose(data['num_orders'])\n",
    "plt.figure(figsize=(14, 8))\n",
    "plt.subplot(311)\n",
    "decomposed.trend.plot(ax=plt.gca())\n",
    "plt.title('Тренд')\n",
    "plt.subplot(312)\n",
    "decomposed.seasonal['2018-03-01':'2018-03-03'].plot(ax=plt.gca())\n",
    "plt.title('Сезонная составляющая')\n",
    "plt.subplot(313)\n",
    "decomposed.resid.plot(ax=plt.gca())\n",
    "plt.title('Остатки')\n",
    "plt.tight_layout()"
   ]
  },
  {
   "cell_type": "markdown",
   "metadata": {},
   "source": [
    "Тренд представляет собой долгосрочное изменение в данных: мы наблюдаем рост количества заказов такси. Сезонность — это циклические изменения данных, которые повторяются с постоянным интервалом времени: мы наблюдаем одинаковые пиковые спросы на такси в полночь, спад ранним утром и новый пик около 16 часов. Ошибки представляют собой случайные колебания данных, которые не подчиняются определенным закономерностям. Это может быть вызвано различными факторами, такими как случайные события или ошибки измерения."
   ]
  },
  {
   "cell_type": "code",
   "execution_count": 25,
   "metadata": {},
   "outputs": [],
   "source": [
    "def make_new_features(data, max_lag, rolling_mean_size):\n",
    "    new_data = data.copy()\n",
    "    \n",
    "    for lag in range(1, max_lag + 1):\n",
    "        new_data['lag_{}'.format(lag)] = new_data['num_orders'].shift(lag)\n",
    "    \n",
    "    new_data['rolling_mean'] = new_data['num_orders'].shift().rolling(rolling_mean_size).mean()\n",
    "    return new_data.dropna()"
   ]
  },
  {
   "cell_type": "markdown",
   "metadata": {},
   "source": [
    "Зададим 24 столбца с отстающими значениями и установим размер окна скользящего среднего равным суткам (24 часа)."
   ]
  },
  {
   "cell_type": "code",
   "execution_count": 26,
   "metadata": {},
   "outputs": [],
   "source": [
    "data = make_new_features(data, 24, 24)"
   ]
  },
  {
   "cell_type": "code",
   "execution_count": 27,
   "metadata": {},
   "outputs": [
    {
     "data": {
      "image/png": "[encoded data removed]",
      "text/plain": [
       "<Figure size 720x360 with 1 Axes>"
      ]
     },
     "metadata": {
      "needs_background": "light"
     },
     "output_type": "display_data"
    }
   ],
   "source": [
    "plt.figure(figsize=(10, 5))\n",
    "plt.title('График заказа такси (временной шаг 1 час)')\n",
    "data['num_orders'].plot(label='Исходные данные', color='lightblue', alpha=0.8)\n",
    "data['num_orders'].rolling(168).mean().plot(label='Скользящее среднее (1 неделя)', color='orange', alpha=0.5)\n",
    "data['num_orders'].rolling(168).std().plot(label='Скользящее стандартное отклонение (1 неделя)', color='green', alpha=0.5)\n",
    "plt.xlabel('Дата')\n",
    "plt.ylabel('Количество заказов')\n",
    "plt.legend()\n",
    "plt.show()"
   ]
  },
  {
   "cell_type": "markdown",
   "metadata": {},
   "source": [
    "Скользящее среднее меняется со временем, и есть общий тренд на увеличение количества заказов такси, что может говорить о нестационарности временного ряда, но мы определили повторяющиеся циклы активности в течение каждого дня, что может говорить о том, что статистические свойства остаются постоянными и не изменяются с течением времени.\n",
    "\n",
    "Рассмотрим графики автокорреляции (ACF) и частичной автокорреляции (PACF)"
   ]
  },
  {
   "cell_type": "code",
   "execution_count": 28,
   "metadata": {},
   "outputs": [
    {
     "data": {
      "image/png": "[encoded data removed]",
      "text/plain": [
       "<Figure size 864x576 with 2 Axes>"
      ]
     },
     "metadata": {
      "needs_background": "light"
     },
     "output_type": "display_data"
    }
   ],
   "source": [
    "fig, ax = plt.subplots(2, 1, figsize=(12, 8))\n",
    "\n",
    "plot_acf(data['num_orders'], ax=ax[0], lags=24)\n",
    "ax[0].set_title('Автокорреляционная функция (ACF)')\n",
    "ax[0].set_xlabel('Сдвиг')\n",
    "ax[0].set_ylabel('Автокорреляция')\n",
    "\n",
    "plot_pacf(data['num_orders'], ax=ax[1], lags=24)\n",
    "ax[1].set_title('Частичная автокорреляционная функция (PACF)')\n",
    "ax[1].set_xlabel('Сдвиг')\n",
    "ax[1].set_ylabel('Частичная автокорреляция')\n",
    "\n",
    "plt.tight_layout()\n",
    "plt.show()"
   ]
  },
  {
   "cell_type": "markdown",
   "metadata": {},
   "source": [
    "На графике ACF мы видим, что текущее значение временного ряда сильнее всего коррелирует с предыдущим значением ряда, а также со значениями 23 и 24-часовой давности, наименьшая связь со значениями 5 и 19 часов назад. Все значения находятся за пределами доверительных интервалов, что делает корреляцию значимой.\n",
    "\n",
    "Исключив влияние промежуточных значений (график PACF), мы видим, что значимая частичная автокорреляция имеется со значениями 2 часов, 22, 23, и 24 часов, т.е. они имеют прямое влияние на текущее значение.\n",
    "\n",
    "Для проверки стационарности ряда проведем тест Дики-Фуллера, который реализован в модуле statsmodels. Основная идея теста заключается в подтверждении или отклонении двух гипотез:\n",
    "\n",
    "Нулевая гипотеза (H0): Временной ряд имеет единичный корень и нестационарен (такси вызываются в случайном порядке).\n",
    "\n",
    "Альтернативная гипотеза (H1): предполагает, что временной ряд не имеет единичного корня, то есть он является стационарным. Если эта гипотеза верна, то в заказах такси сохраняется закономерность."
   ]
  },
  {
   "cell_type": "code",
   "execution_count": 29,
   "metadata": {},
   "outputs": [
    {
     "name": "stdout",
     "output_type": "stream",
     "text": [
      "p-value: 0.032563\n",
      "Временной ряд не стационарен\n"
     ]
    }
   ],
   "source": [
    "result = adfuller(data['num_orders'])\n",
    "print('p-value: %f' % result[1])\n",
    "\n",
    "if result[1] > 0.01:\n",
    "    print('Временной ряд не стационарен')\n",
    "else:\n",
    "    print('Временной ряд стационарен')"
   ]
  },
  {
   "cell_type": "markdown",
   "metadata": {},
   "source": [
    "**Вывод:** \n",
    "\n",
    "Предварительный анализ данных позволил нам выявить несколько интересных деталей:\n",
    "\n",
    "- чаще всего услугами такси пользуются по понедельникам и пятницам, меньше всего - по вторникам,\n",
    "- каждый месяц количество заказов такси растет, достигая пика в августе,\n",
    "- повторяющиеся циклы активности в течение каждого дня: с пиками заказов в полночь и около 16 часов, а также спадом в ранние утренние часы,\n",
    "- наиболее тесная взаимосвязь у количества заказов наблюдается с предыдущим значением ряда, а также со значениями 23 и 24-часовой давности.\n",
    "- наблюдаемый временной ряд скорее всего не стационарный, это подтверждается тестом Дики-Фуллера, мы не смогли отвергнуть нулевую гипотезу о его нестационарности."
   ]
  },
  {
   "cell_type": "markdown",
   "metadata": {},
   "source": [
    "## Обучение"
   ]
  },
  {
   "cell_type": "markdown",
   "metadata": {},
   "source": [
    "Для прогноза количества заказов обучим четыре модели с различными гиперпараметрами и на кросс-валидации найдем лучшую модель, исходя из значения метрики RMSE. Выбирать будет среди следующих моделей: DecisionTreeRegressor, ElasticNet, CatBoostRegressor и LGBMRegressor.\n",
    "\n",
    "Для начала разделим наши наблюдения на тренировочную и тестовую выборки, выделим целевой признак."
   ]
  },
  {
   "cell_type": "code",
   "execution_count": 30,
   "metadata": {
    "scrolled": false
   },
   "outputs": [
    {
     "name": "stdout",
     "output_type": "stream",
     "text": [
      "Размер обучающей выборки: (3952, 27), размер тестовой выборки: (440, 27)\n",
      "Диапазон тренировочной выборки - начало: 2018-03-02 00:00:00, конец: 2018-08-13 15:00:00\n",
      "Диапазон тестовой выборки - начало: 2018-08-13 16:00:00, конец: 2018-08-31 23:00:00\n"
     ]
    }
   ],
   "source": [
    "train, test = train_test_split(data, shuffle=False, test_size=0.1)\n",
    "\n",
    "y_train = train['num_orders']\n",
    "y_test = test['num_orders']\n",
    "train = train.drop('num_orders', axis=1)\n",
    "test = test.drop('num_orders', axis=1)\n",
    "\n",
    "print(f'Размер обучающей выборки: {train.shape}, размер тестовой выборки: {test.shape}')\n",
    "print(f'Диапазон тренировочной выборки - начало: {train.index[0]}, конец: {train.index[-1]}')\n",
    "print(f'Диапазон тестовой выборки - начало: {test.index[0]}, конец: {test.index[-1]}')"
   ]
  },
  {
   "cell_type": "code",
   "execution_count": 31,
   "metadata": {},
   "outputs": [],
   "source": [
    "def rmse(y_true, y_pred):\n",
    "    return np.sqrt(mean_squared_error(y_true, y_pred))"
   ]
  },
  {
   "cell_type": "code",
   "execution_count": 32,
   "metadata": {},
   "outputs": [],
   "source": [
    "tscv = TimeSeriesSplit(n_splits=5)"
   ]
  },
  {
   "cell_type": "code",
   "execution_count": 33,
   "metadata": {},
   "outputs": [],
   "source": [
    "def sin_transformer(period):\n",
    "    return FunctionTransformer(lambda x: np.sin(x / period * 2 * np.pi))\n",
    "\n",
    "\n",
    "def cos_transformer(period):\n",
    "    return FunctionTransformer(lambda x: np.cos(x / period * 2 * np.pi))"
   ]
  },
  {
   "cell_type": "code",
   "execution_count": 34,
   "metadata": {},
   "outputs": [],
   "source": [
    "cyclic_cossin_transformer = ColumnTransformer(\n",
    "    transformers=[\n",
    "        ('day_of_week_sin', sin_transformer(7), ['dayofweek']),\n",
    "        ('day_of_week_cos', cos_transformer(7), ['dayofweek']),\n",
    "        ('hour_sin', sin_transformer(24), ['hour']),\n",
    "        ('hour_cos', cos_transformer(24), ['hour']),\n",
    "    ],\n",
    "    remainder='passthrough',\n",
    ")"
   ]
  },
  {
   "cell_type": "code",
   "execution_count": 35,
   "metadata": {},
   "outputs": [],
   "source": [
    "pipeline_elasticnet = Pipeline([\n",
    "    ('preprocessor', cyclic_cossin_transformer),\n",
    "    ('scaler', StandardScaler()),\n",
    "    ('model', ElasticNet(random_state=RANDOM_STATE))\n",
    "])"
   ]
  },
  {
   "cell_type": "code",
   "execution_count": 36,
   "metadata": {},
   "outputs": [],
   "source": [
    "pipeline = Pipeline([\n",
    "    ('model', None)  \n",
    "])"
   ]
  },
  {
   "cell_type": "code",
   "execution_count": 37,
   "metadata": {},
   "outputs": [],
   "source": [
    "param_grid = [\n",
    "    {\n",
    "        'model': [DecisionTreeRegressor(random_state=42)],\n",
    "        'model__max_depth': range(2, 8),\n",
    "        'model__min_samples_split': range(2, 12),\n",
    "        'model__min_samples_leaf': range(2, 5),\n",
    "    },\n",
    "    {\n",
    "        'model': [pipeline_elasticnet],\n",
    "        'model__model__alpha': [0.01, 0.1, 1.0],  # Correct parameter addressing\n",
    "        'model__model__l1_ratio': [0.1, 0.5, 0.9],\n",
    "        'model__model__fit_intercept': [True, False]\n",
    "    },\n",
    "    {\n",
    "        'model': [CatBoostRegressor(logging_level='Silent')],\n",
    "        'model__depth': [5, 6],\n",
    "        'model__learning_rate': [0.03, 0.05],\n",
    "        'model__iterations': [500, 600]\n",
    "    },\n",
    "    {\n",
    "        'model': [LGBMRegressor(n_jobs=1)],\n",
    "        'model__max_depth': [5, 7],\n",
    "        'model__learning_rate': [0.01, 0.03],\n",
    "        'model__n_estimators': [500, 600]\n",
    "    }\n",
    "]"
   ]
  },
  {
   "cell_type": "code",
   "execution_count": 38,
   "metadata": {},
   "outputs": [],
   "source": [
    "gs = GridSearchCV(\n",
    "    pipeline,\n",
    "    param_grid,\n",
    "    cv=tscv,\n",
    "    scoring='neg_root_mean_squared_error',\n",
    "    n_jobs=-1\n",
    ")"
   ]
  },
  {
   "cell_type": "code",
   "execution_count": 39,
   "metadata": {},
   "outputs": [
    {
     "name": "stdout",
     "output_type": "stream",
     "text": [
      "Лучшие параметры: {'model': <catboost.core.CatBoostRegressor object at 0x7f17d9ac0f40>, 'model__depth': 6, 'model__iterations': 600, 'model__learning_rate': 0.05}\n",
      "Лучшая метрика RMSE на кросс-валидации: 24.263359371145615\n"
     ]
    }
   ],
   "source": [
    "gs.fit(train, y_train)\n",
    "\n",
    "print(f'Лучшие параметры: {gs.best_params_}')\n",
    "print(f'Лучшая метрика RMSE на кросс-валидации: {gs.best_score_*-1}')"
   ]
  },
  {
   "cell_type": "code",
   "execution_count": 40,
   "metadata": {},
   "outputs": [
    {
     "data": {
      "text/html": [
       "<div>\n",
       "<style scoped>\n",
       "    .dataframe tbody tr th:only-of-type {\n",
       "        vertical-align: middle;\n",
       "    }\n",
       "\n",
       "    .dataframe tbody tr th {\n",
       "        vertical-align: top;\n",
       "    }\n",
       "\n",
       "    .dataframe thead th {\n",
       "        text-align: right;\n",
       "    }\n",
       "</style>\n",
       "<table border=\"1\" class=\"dataframe\">\n",
       "  <thead>\n",
       "    <tr style=\"text-align: right;\">\n",
       "      <th></th>\n",
       "      <th>rank_test_score</th>\n",
       "      <th>name</th>\n",
       "      <th>params</th>\n",
       "      <th>mean_test_score</th>\n",
       "      <th>mean_fit_time</th>\n",
       "      <th>mean_score_time</th>\n",
       "    </tr>\n",
       "  </thead>\n",
       "  <tbody>\n",
       "    <tr>\n",
       "      <th>205</th>\n",
       "      <td>1</td>\n",
       "      <td>CatBoostRegressor</td>\n",
       "      <td>{'model': &lt;catboost.core.CatBoostRegressor object at 0x7f17d9ac0f40&gt;, 'model__depth': 6, 'model__iterations': 600, 'model__learning_rate': 0.05}</td>\n",
       "      <td>24.263359</td>\n",
       "      <td>3.175301</td>\n",
       "      <td>0.003466</td>\n",
       "    </tr>\n",
       "    <tr>\n",
       "      <th>210</th>\n",
       "      <td>9</td>\n",
       "      <td>LGBMRegressor</td>\n",
       "      <td>{'model': LGBMRegressor(n_jobs=1), 'model__learning_rate': 0.03, 'model__max_depth': 5, 'model__n_estimators': 500}</td>\n",
       "      <td>24.670869</td>\n",
       "      <td>0.340230</td>\n",
       "      <td>0.019769</td>\n",
       "    </tr>\n",
       "    <tr>\n",
       "      <th>188</th>\n",
       "      <td>17</td>\n",
       "      <td>Pipeline</td>\n",
       "      <td>{'model': (ColumnTransformer(remainder='passthrough',\n",
       "                  transformers=[('day_of_week_sin',\n",
       "                                 FunctionTransformer(func=&lt;function sin_transformer.&lt;locals&gt;.&lt;lambda&gt; at 0x7f17d9b218b0&gt;),\n",
       "                                 ['dayofweek']),\n",
       "                                ('day_of_week_cos',\n",
       "                                 FunctionTransformer(func=&lt;function cos_transformer.&lt;locals&gt;.&lt;lambda&gt; at 0x7f17d9b219d0&gt;),\n",
       "                                 ['dayofweek']),\n",
       "                                ('hour_sin',\n",
       "                                 FunctionTransformer(func=&lt;function sin_transformer.&lt;locals&gt;.&lt;lambda&gt; at 0x7f17d9b21a60&gt;),\n",
       "                                 ['hour']),\n",
       "                                ('hour_cos',\n",
       "                                 FunctionTransformer(func=&lt;function cos_transformer.&lt;locals&gt;.&lt;lambda&gt; at 0x7f17d9b21af0&gt;),\n",
       "                                 ['hour'])]), StandardScaler(), ElasticNet(random_state=42)), 'model__model__alpha': 0.1, 'model__model__fit_intercept': True, 'model__model__l1_ratio': 0.9}</td>\n",
       "      <td>26.491020</td>\n",
       "      <td>0.176627</td>\n",
       "      <td>0.101805</td>\n",
       "    </tr>\n",
       "    <tr>\n",
       "      <th>107</th>\n",
       "      <td>26</td>\n",
       "      <td>DecisionTreeRegressor</td>\n",
       "      <td>{'model': DecisionTreeRegressor(random_state=42), 'model__max_depth': 5, 'model__min_samples_leaf': 3, 'model__min_samples_split': 9}</td>\n",
       "      <td>29.522046</td>\n",
       "      <td>0.017584</td>\n",
       "      <td>0.002304</td>\n",
       "    </tr>\n",
       "  </tbody>\n",
       "</table>\n",
       "</div>"
      ],
      "text/plain": [
       "     rank_test_score                   name  \\\n",
       "205                1      CatBoostRegressor   \n",
       "210                9          LGBMRegressor   \n",
       "188               17               Pipeline   \n",
       "107               26  DecisionTreeRegressor   \n",
       "\n",
       "                                                                                                                                                                                                                                                                                                                                                                                                                                                                                                                                                                                                                                                                                                                                                                                                                                                                                                                                                                                                                                                                                                              params  \\\n",
       "205                                                                                                                                                                                                                                                                                                                                                                                                                                                                                                                                                                                                                                                                                                                                                                                                                                                                                                                                                                 {'model': <catboost.core.CatBoostRegressor object at 0x7f17d9ac0f40>, 'model__depth': 6, 'model__iterations': 600, 'model__learning_rate': 0.05}   \n",
       "210                                                                                                                                                                                                                                                                                                                                                                                                                                                                                                                                                                                                                                                                                                                                                                                                                                                                                                                                                                                              {'model': LGBMRegressor(n_jobs=1), 'model__learning_rate': 0.03, 'model__max_depth': 5, 'model__n_estimators': 500}   \n",
       "188  {'model': (ColumnTransformer(remainder='passthrough',\n",
       "                  transformers=[('day_of_week_sin',\n",
       "                                 FunctionTransformer(func=<function sin_transformer.<locals>.<lambda> at 0x7f17d9b218b0>),\n",
       "                                 ['dayofweek']),\n",
       "                                ('day_of_week_cos',\n",
       "                                 FunctionTransformer(func=<function cos_transformer.<locals>.<lambda> at 0x7f17d9b219d0>),\n",
       "                                 ['dayofweek']),\n",
       "                                ('hour_sin',\n",
       "                                 FunctionTransformer(func=<function sin_transformer.<locals>.<lambda> at 0x7f17d9b21a60>),\n",
       "                                 ['hour']),\n",
       "                                ('hour_cos',\n",
       "                                 FunctionTransformer(func=<function cos_transformer.<locals>.<lambda> at 0x7f17d9b21af0>),\n",
       "                                 ['hour'])]), StandardScaler(), ElasticNet(random_state=42)), 'model__model__alpha': 0.1, 'model__model__fit_intercept': True, 'model__model__l1_ratio': 0.9}   \n",
       "107                                                                                                                                                                                                                                                                                                                                                                                                                                                                                                                                                                                                                                                                                                                                                                                                                                                                                                                                                                            {'model': DecisionTreeRegressor(random_state=42), 'model__max_depth': 5, 'model__min_samples_leaf': 3, 'model__min_samples_split': 9}   \n",
       "\n",
       "     mean_test_score  mean_fit_time  mean_score_time  \n",
       "205        24.263359       3.175301         0.003466  \n",
       "210        24.670869       0.340230         0.019769  \n",
       "188        26.491020       0.176627         0.101805  \n",
       "107        29.522046       0.017584         0.002304  "
      ]
     },
     "execution_count": 40,
     "metadata": {},
     "output_type": "execute_result"
    }
   ],
   "source": [
    "pd.set_option('display.max_colwidth', None)\n",
    "result = pd.DataFrame(gs.cv_results_) \n",
    "result['mean_test_score'] = result['mean_test_score']*-1\n",
    "result['name'] = result['param_model'].apply(lambda x: x.__class__.__name__ if hasattr(x, '__class__') else str(x))\n",
    "best_results = (result\n",
    "                .loc[result.groupby('name')['mean_test_score'].idxmin()]\n",
    "                [['rank_test_score', 'name', 'params', 'mean_test_score', 'mean_fit_time', 'mean_score_time']]\n",
    "                .sort_values('rank_test_score'))\n",
    "best_results"
   ]
  },
  {
   "cell_type": "code",
   "execution_count": 41,
   "metadata": {},
   "outputs": [],
   "source": [
    "best_model = gs.best_estimator_"
   ]
  },
  {
   "cell_type": "markdown",
   "metadata": {},
   "source": [
    "Модель, показавшая лучшую метрику RMSE на кросс-валидации, - CatBoostRegressor, на втором месте находится LGBMRegressor с небольшим отрывом по метрике, но его показатель времени обучения гораздо лучше, чем у победителя. Если бы перед нами стояла задача найти оптимальный баланс производительности модели, то мы предложили бы использовать LGBMRegressor, но цель исследования - найти модель с лучшей точностью, поэтому в качестве лучшей модели будем рассматривать CatBoostRegressor с параметрами скорости обучения 0,05, максимальной глубиной дерева решений в модели - 6 и количеством деревьев в ансамбле 600."
   ]
  },
  {
   "cell_type": "code",
   "execution_count": 42,
   "metadata": {
    "scrolled": false
   },
   "outputs": [
    {
     "data": {
      "image/png": "[encoded data removed]",
      "text/plain": [
       "<Figure size 576x432 with 1 Axes>"
      ]
     },
     "metadata": {
      "needs_background": "light"
     },
     "output_type": "display_data"
    }
   ],
   "source": [
    "model = gs.best_estimator_.named_steps['model']\n",
    "importance = model.feature_importances_\n",
    "feature_names = train.columns\n",
    "importance_df = pd.DataFrame({\n",
    "    'Признак': feature_names,\n",
    "    'Важность': importance\n",
    "}).sort_values(by='Важность', ascending=False)\n",
    "\n",
    "plt.figure(figsize=(8, 6))\n",
    "plt.barh(importance_df['Признак'], importance_df['Важность'])\n",
    "plt.xlabel('Ценность признаков')\n",
    "plt.ylabel('Признаки')\n",
    "plt.title('Важность признаков для модели CatBoostRegressor()')\n",
    "plt.gca().invert_yaxis()\n",
    "plt.show()"
   ]
  },
  {
   "cell_type": "markdown",
   "metadata": {},
   "source": [
    "Самыми важными признаками для предсказания является временной сдвиг на сутки, час, сдвиги на один и семь часов, день недели, а остальные признаки оказывают влияние в меньшем объеме. "
   ]
  },
  {
   "cell_type": "markdown",
   "metadata": {},
   "source": [
    "## Тестирование"
   ]
  },
  {
   "cell_type": "code",
   "execution_count": 43,
   "metadata": {},
   "outputs": [],
   "source": [
    "y_pred = best_model.predict(test)"
   ]
  },
  {
   "cell_type": "code",
   "execution_count": 44,
   "metadata": {},
   "outputs": [
    {
     "name": "stdout",
     "output_type": "stream",
     "text": [
      "Метрика RMSE на тестовой выборке: 41.018257103446686\n"
     ]
    }
   ],
   "source": [
    "print(f'Метрика RMSE на тестовой выборке: {rmse(y_test, y_pred)}')"
   ]
  },
  {
   "cell_type": "code",
   "execution_count": 45,
   "metadata": {},
   "outputs": [
    {
     "data": {
      "image/png": "[encoded data removed]",
      "text/plain": [
       "<Figure size 1152x576 with 1 Axes>"
      ]
     },
     "metadata": {
      "needs_background": "light"
     },
     "output_type": "display_data"
    }
   ],
   "source": [
    "pred = pd.DataFrame({\n",
    "    'pred': y_pred,\n",
    "    'real': y_test})\n",
    "fig, ax = plt.subplots(figsize=(16, 8))\n",
    "pred['real'].plot(ax=ax, color='orange', label='Реальные значения')\n",
    "pred['pred'].plot(ax=ax, color='purple', label='Предсказанные')\n",
    "ax.set_title('Сравнение реальных и предсказанных значений')\n",
    "ax.set_xlabel('Время')\n",
    "ax.set_ylabel('Значение')\n",
    "ax.legend()\n",
    "plt.show()"
   ]
  },
  {
   "cell_type": "markdown",
   "metadata": {},
   "source": [
    "Судя по графику, некоторые часы пикового спроса модель предсказывает недостаточно точно, но это скорее связано с их нетипичностью, но в целом, модель достаточно хорошо распознала закономерности. \n",
    "Оценим модель базовым способом — предыдущим значением ряда."
   ]
  },
  {
   "cell_type": "code",
   "execution_count": 46,
   "metadata": {},
   "outputs": [
    {
     "name": "stdout",
     "output_type": "stream",
     "text": [
      "Метрика RMSE на основе предсказания предыдущими значениями: 58.881776776551476\n"
     ]
    }
   ],
   "source": [
    "pred_previous = y_test.shift(1)\n",
    "pred_previous.iloc[0] = y_train.iloc[-1]\n",
    "print(f'Метрика RMSE на основе предсказания предыдущими значениями: {rmse(y_test, pred_previous)}')"
   ]
  },
  {
   "cell_type": "markdown",
   "metadata": {},
   "source": [
    "Точность предсказания модели гораздо лучше, чем прогноз предыдущим значением ряда."
   ]
  },
  {
   "cell_type": "markdown",
   "metadata": {},
   "source": [
    "## Вывод"
   ]
  },
  {
   "cell_type": "markdown",
   "metadata": {},
   "source": [
    "Для подготовки данных к обучению моделей мы провели ресемплирование по одному часу и создали новые признаки: признаки, основанные на времени (час и день недели), а также 24 столбца с отстающими значениями, что соответствует суткам, чтобы модель могла учитывать предыдущие часы при прогнозировании, и установим размер окна скользящего среднего равным 24 часам.\n",
    "\n",
    "Сравнив результаты моделей, мы определили, что CatBoostRegressor с параметрами скорости обучения 0,05, максимальной глубиной дерева решений в модели - 6 и количеством деревьев в ансамбле 600 показала наилучшую производительность по метрике RMSE на тренирочных данных. Вторым по качеству предсказания с незначительным отставанием оказался LGBMRegressor, однако его время обучения оказалось значительно ниже.\n",
    "\n",
    "Метрика RMSE на тестовой выборке для модели CatBoostRegressor составила 41.02, что значительно лучше, чем прогнозирование предыдущими значениями ряда (58.88).\n",
    "\n",
    "Наиболее важным признаком для прогноза оказался времнные сдвиги на один и двадцать четыре часа, час, что вполне логично, учитывая цикличность заказов в течение дня. \n",
    "\n"
   ]
  }
 ],
 "metadata": {
  "ExecuteTimeLog": [
   {
    "duration": 5424,
    "start_time": "2024-05-23T09:52:06.818Z"
   },
   {
    "duration": 6758,
    "start_time": "2024-05-23T09:52:25.904Z"
   },
   {
    "duration": 4110,
    "start_time": "2024-05-23T09:52:39.969Z"
   },
   {
    "duration": 3725,
    "start_time": "2024-05-23T09:53:00.770Z"
   },
   {
    "duration": 8672,
    "start_time": "2024-05-23T09:53:07.427Z"
   },
   {
    "duration": 2396,
    "start_time": "2024-05-23T09:54:14.211Z"
   },
   {
    "duration": 4,
    "start_time": "2024-05-23T09:54:34.338Z"
   },
   {
    "duration": 2,
    "start_time": "2024-05-23T09:54:44.548Z"
   },
   {
    "duration": 6,
    "start_time": "2024-05-23T09:55:12.997Z"
   },
   {
    "duration": 96,
    "start_time": "2024-05-23T09:58:25.488Z"
   },
   {
    "duration": 15,
    "start_time": "2024-05-23T09:58:58.538Z"
   },
   {
    "duration": 59,
    "start_time": "2024-05-23T10:00:04.596Z"
   },
   {
    "duration": 9,
    "start_time": "2024-05-23T10:00:05.775Z"
   },
   {
    "duration": 50,
    "start_time": "2024-05-23T10:00:57.917Z"
   },
   {
    "duration": 7,
    "start_time": "2024-05-23T10:01:06.917Z"
   },
   {
    "duration": 50,
    "start_time": "2024-05-23T10:01:35.438Z"
   },
   {
    "duration": 8,
    "start_time": "2024-05-23T10:01:36.865Z"
   },
   {
    "duration": 11,
    "start_time": "2024-05-23T10:02:12.351Z"
   },
   {
    "duration": 148,
    "start_time": "2024-05-23T10:02:53.688Z"
   },
   {
    "duration": 12,
    "start_time": "2024-05-23T10:03:00.656Z"
   },
   {
    "duration": 10,
    "start_time": "2024-05-23T10:03:23.585Z"
   },
   {
    "duration": 10,
    "start_time": "2024-05-23T10:07:46.247Z"
   },
   {
    "duration": 763,
    "start_time": "2024-05-23T10:07:51.094Z"
   },
   {
    "duration": 673,
    "start_time": "2024-05-23T10:10:06.009Z"
   },
   {
    "duration": 659,
    "start_time": "2024-05-23T10:10:15.610Z"
   },
   {
    "duration": 739,
    "start_time": "2024-05-23T10:10:19.436Z"
   },
   {
    "duration": 791,
    "start_time": "2024-05-23T10:10:40.681Z"
   },
   {
    "duration": 753,
    "start_time": "2024-05-23T10:11:19.067Z"
   },
   {
    "duration": 771,
    "start_time": "2024-05-23T10:12:53.388Z"
   },
   {
    "duration": 657,
    "start_time": "2024-05-23T10:13:03.453Z"
   },
   {
    "duration": 13,
    "start_time": "2024-05-23T10:19:28.179Z"
   },
   {
    "duration": 11,
    "start_time": "2024-05-23T10:19:37.686Z"
   },
   {
    "duration": 7,
    "start_time": "2024-05-23T10:19:54.698Z"
   },
   {
    "duration": 3,
    "start_time": "2024-05-23T10:20:02.692Z"
   },
   {
    "duration": 11,
    "start_time": "2024-05-23T10:20:14.389Z"
   },
   {
    "duration": 9,
    "start_time": "2024-05-23T10:29:32.620Z"
   },
   {
    "duration": 383,
    "start_time": "2024-05-23T10:29:43.420Z"
   },
   {
    "duration": 251,
    "start_time": "2024-05-23T10:29:56.747Z"
   },
   {
    "duration": 5,
    "start_time": "2024-05-23T10:42:18.840Z"
   },
   {
    "duration": 4,
    "start_time": "2024-05-23T10:43:16.148Z"
   },
   {
    "duration": 20,
    "start_time": "2024-05-23T10:43:32.274Z"
   },
   {
    "duration": 16,
    "start_time": "2024-05-23T10:43:58.307Z"
   },
   {
    "duration": 6,
    "start_time": "2024-05-23T10:44:03.002Z"
   },
   {
    "duration": 15,
    "start_time": "2024-05-23T10:44:03.858Z"
   },
   {
    "duration": 7,
    "start_time": "2024-05-23T10:44:09.220Z"
   },
   {
    "duration": 13,
    "start_time": "2024-05-23T10:44:09.538Z"
   },
   {
    "duration": 3222,
    "start_time": "2024-05-23T11:02:50.288Z"
   },
   {
    "duration": 3197,
    "start_time": "2024-05-23T11:02:53.512Z"
   },
   {
    "duration": 2887,
    "start_time": "2024-05-23T11:02:56.711Z"
   },
   {
    "duration": 3595,
    "start_time": "2024-05-23T11:02:59.600Z"
   },
   {
    "duration": 3269,
    "start_time": "2024-05-23T11:03:03.198Z"
   },
   {
    "duration": 2375,
    "start_time": "2024-05-23T11:03:06.469Z"
   },
   {
    "duration": 4,
    "start_time": "2024-05-23T11:03:08.845Z"
   },
   {
    "duration": 15,
    "start_time": "2024-05-23T11:03:08.850Z"
   },
   {
    "duration": 61,
    "start_time": "2024-05-23T11:03:08.867Z"
   },
   {
    "duration": 11,
    "start_time": "2024-05-23T11:03:08.930Z"
   },
   {
    "duration": 26,
    "start_time": "2024-05-23T11:03:08.943Z"
   },
   {
    "duration": 4,
    "start_time": "2024-05-23T11:03:08.971Z"
   },
   {
    "duration": 848,
    "start_time": "2024-05-23T11:03:08.977Z"
   },
   {
    "duration": 9,
    "start_time": "2024-05-23T11:03:09.829Z"
   },
   {
    "duration": 5,
    "start_time": "2024-05-23T11:03:09.839Z"
   },
   {
    "duration": 21,
    "start_time": "2024-05-23T11:03:09.846Z"
   },
   {
    "duration": 22,
    "start_time": "2024-05-23T11:03:09.882Z"
   },
   {
    "duration": 496,
    "start_time": "2024-05-23T11:03:09.906Z"
   },
   {
    "duration": 3014,
    "start_time": "2024-05-23T15:10:24.420Z"
   },
   {
    "duration": 3101,
    "start_time": "2024-05-23T15:10:27.436Z"
   },
   {
    "duration": 2798,
    "start_time": "2024-05-23T15:10:30.539Z"
   },
   {
    "duration": 2779,
    "start_time": "2024-05-23T15:10:33.339Z"
   },
   {
    "duration": 3056,
    "start_time": "2024-05-23T15:10:36.121Z"
   },
   {
    "duration": 2182,
    "start_time": "2024-05-23T15:10:39.179Z"
   },
   {
    "duration": 3,
    "start_time": "2024-05-23T15:10:41.363Z"
   },
   {
    "duration": 7,
    "start_time": "2024-05-23T15:10:41.368Z"
   },
   {
    "duration": 56,
    "start_time": "2024-05-23T15:10:41.377Z"
   },
   {
    "duration": 11,
    "start_time": "2024-05-23T15:10:41.435Z"
   },
   {
    "duration": 11,
    "start_time": "2024-05-23T15:10:41.447Z"
   },
   {
    "duration": 4,
    "start_time": "2024-05-23T15:10:41.460Z"
   },
   {
    "duration": 827,
    "start_time": "2024-05-23T15:10:41.466Z"
   },
   {
    "duration": 9,
    "start_time": "2024-05-23T15:10:42.297Z"
   },
   {
    "duration": 5,
    "start_time": "2024-05-23T15:10:42.308Z"
   },
   {
    "duration": 10,
    "start_time": "2024-05-23T15:10:42.315Z"
   },
   {
    "duration": 12,
    "start_time": "2024-05-23T15:10:42.327Z"
   },
   {
    "duration": 488,
    "start_time": "2024-05-23T15:10:42.341Z"
   },
   {
    "duration": 153,
    "start_time": "2024-05-23T15:10:50.433Z"
   },
   {
    "duration": 5,
    "start_time": "2024-05-23T15:11:37.841Z"
   },
   {
    "duration": 6,
    "start_time": "2024-05-23T15:11:38.194Z"
   },
   {
    "duration": 11,
    "start_time": "2024-05-23T15:11:40.593Z"
   },
   {
    "duration": 2913,
    "start_time": "2024-05-23T15:11:48.854Z"
   },
   {
    "duration": 3037,
    "start_time": "2024-05-23T15:11:51.769Z"
   },
   {
    "duration": 2752,
    "start_time": "2024-05-23T15:11:54.808Z"
   },
   {
    "duration": 2791,
    "start_time": "2024-05-23T15:11:57.562Z"
   },
   {
    "duration": 3250,
    "start_time": "2024-05-23T15:12:00.356Z"
   },
   {
    "duration": 2136,
    "start_time": "2024-05-23T15:12:03.608Z"
   },
   {
    "duration": 3,
    "start_time": "2024-05-23T15:12:05.746Z"
   },
   {
    "duration": 30,
    "start_time": "2024-05-23T15:12:05.750Z"
   },
   {
    "duration": 75,
    "start_time": "2024-05-23T15:12:05.782Z"
   },
   {
    "duration": 10,
    "start_time": "2024-05-23T15:12:05.859Z"
   },
   {
    "duration": 18,
    "start_time": "2024-05-23T15:12:05.871Z"
   },
   {
    "duration": 20,
    "start_time": "2024-05-23T15:12:05.891Z"
   },
   {
    "duration": 812,
    "start_time": "2024-05-23T15:12:05.913Z"
   },
   {
    "duration": 8,
    "start_time": "2024-05-23T15:12:06.728Z"
   },
   {
    "duration": 5,
    "start_time": "2024-05-23T15:12:06.738Z"
   },
   {
    "duration": 29,
    "start_time": "2024-05-23T15:12:06.744Z"
   },
   {
    "duration": 21,
    "start_time": "2024-05-23T15:12:06.774Z"
   },
   {
    "duration": 435,
    "start_time": "2024-05-23T15:12:06.796Z"
   },
   {
    "duration": 8,
    "start_time": "2024-05-23T15:19:30.025Z"
   },
   {
    "duration": 14,
    "start_time": "2024-05-23T15:19:31.129Z"
   },
   {
    "duration": 2987,
    "start_time": "2024-05-23T15:22:32.917Z"
   },
   {
    "duration": 3152,
    "start_time": "2024-05-23T15:22:35.908Z"
   },
   {
    "duration": 2816,
    "start_time": "2024-05-23T15:22:39.063Z"
   },
   {
    "duration": 2877,
    "start_time": "2024-05-23T15:22:41.881Z"
   },
   {
    "duration": 3143,
    "start_time": "2024-05-23T15:22:44.761Z"
   },
   {
    "duration": 7,
    "start_time": "2024-05-23T15:22:47.906Z"
   },
   {
    "duration": 4,
    "start_time": "2024-05-23T15:22:47.915Z"
   },
   {
    "duration": 9,
    "start_time": "2024-05-23T15:22:47.921Z"
   },
   {
    "duration": 59,
    "start_time": "2024-05-23T15:22:47.931Z"
   },
   {
    "duration": 8,
    "start_time": "2024-05-23T15:22:47.992Z"
   },
   {
    "duration": 21,
    "start_time": "2024-05-23T15:22:48.002Z"
   },
   {
    "duration": 4,
    "start_time": "2024-05-23T15:22:48.025Z"
   },
   {
    "duration": 817,
    "start_time": "2024-05-23T15:22:48.030Z"
   },
   {
    "duration": 6,
    "start_time": "2024-05-23T15:22:48.850Z"
   },
   {
    "duration": 5,
    "start_time": "2024-05-23T15:22:48.858Z"
   },
   {
    "duration": 18,
    "start_time": "2024-05-23T15:22:48.864Z"
   },
   {
    "duration": 12,
    "start_time": "2024-05-23T15:22:48.884Z"
   },
   {
    "duration": 67,
    "start_time": "2024-05-23T15:22:48.897Z"
   },
   {
    "duration": 0,
    "start_time": "2024-05-23T15:22:48.967Z"
   },
   {
    "duration": 8,
    "start_time": "2024-05-23T15:23:17.997Z"
   },
   {
    "duration": 14599,
    "start_time": "2024-05-23T15:23:19.150Z"
   },
   {
    "duration": 3085,
    "start_time": "2024-05-23T15:26:16.761Z"
   },
   {
    "duration": 3105,
    "start_time": "2024-05-23T15:26:19.849Z"
   },
   {
    "duration": 2823,
    "start_time": "2024-05-23T15:26:22.957Z"
   },
   {
    "duration": 2772,
    "start_time": "2024-05-23T15:26:25.783Z"
   },
   {
    "duration": 3202,
    "start_time": "2024-05-23T15:26:28.559Z"
   },
   {
    "duration": 2308,
    "start_time": "2024-05-23T15:26:31.764Z"
   },
   {
    "duration": 3,
    "start_time": "2024-05-23T15:26:34.074Z"
   },
   {
    "duration": 20,
    "start_time": "2024-05-23T15:26:34.078Z"
   },
   {
    "duration": 83,
    "start_time": "2024-05-23T15:26:34.099Z"
   },
   {
    "duration": 14,
    "start_time": "2024-05-23T15:26:34.185Z"
   },
   {
    "duration": 16,
    "start_time": "2024-05-23T15:26:34.201Z"
   },
   {
    "duration": 8,
    "start_time": "2024-05-23T15:26:34.219Z"
   },
   {
    "duration": 839,
    "start_time": "2024-05-23T15:26:34.228Z"
   },
   {
    "duration": 18,
    "start_time": "2024-05-23T15:26:35.070Z"
   },
   {
    "duration": 8,
    "start_time": "2024-05-23T15:26:35.090Z"
   },
   {
    "duration": 193,
    "start_time": "2024-05-23T15:26:35.099Z"
   },
   {
    "duration": 0,
    "start_time": "2024-05-23T15:26:35.293Z"
   },
   {
    "duration": 0,
    "start_time": "2024-05-23T15:26:35.295Z"
   },
   {
    "duration": 0,
    "start_time": "2024-05-23T15:26:35.296Z"
   },
   {
    "duration": 10,
    "start_time": "2024-05-23T15:26:44.657Z"
   },
   {
    "duration": 13,
    "start_time": "2024-05-23T15:26:45.650Z"
   },
   {
    "duration": 8,
    "start_time": "2024-05-23T15:26:50.001Z"
   },
   {
    "duration": 11766,
    "start_time": "2024-05-23T15:26:50.850Z"
   },
   {
    "duration": 11,
    "start_time": "2024-05-23T15:29:38.740Z"
   },
   {
    "duration": 4,
    "start_time": "2024-05-23T15:31:42.038Z"
   },
   {
    "duration": 9,
    "start_time": "2024-05-23T15:31:42.501Z"
   },
   {
    "duration": 11,
    "start_time": "2024-05-23T15:31:43.574Z"
   },
   {
    "duration": 3018,
    "start_time": "2024-05-23T15:31:46.907Z"
   },
   {
    "duration": 3033,
    "start_time": "2024-05-23T15:31:49.929Z"
   },
   {
    "duration": 2808,
    "start_time": "2024-05-23T15:31:52.964Z"
   },
   {
    "duration": 2792,
    "start_time": "2024-05-23T15:31:55.774Z"
   },
   {
    "duration": 3098,
    "start_time": "2024-05-23T15:31:58.570Z"
   },
   {
    "duration": 7,
    "start_time": "2024-05-23T15:32:01.670Z"
   },
   {
    "duration": 48,
    "start_time": "2024-05-23T15:32:01.679Z"
   },
   {
    "duration": 26,
    "start_time": "2024-05-23T15:32:01.728Z"
   },
   {
    "duration": 100,
    "start_time": "2024-05-23T15:32:01.756Z"
   },
   {
    "duration": 9,
    "start_time": "2024-05-23T15:32:01.857Z"
   },
   {
    "duration": 77,
    "start_time": "2024-05-23T15:32:01.867Z"
   },
   {
    "duration": 40,
    "start_time": "2024-05-23T15:32:01.945Z"
   },
   {
    "duration": 733,
    "start_time": "2024-05-23T15:32:01.987Z"
   },
   {
    "duration": 7,
    "start_time": "2024-05-23T15:32:02.723Z"
   },
   {
    "duration": 34,
    "start_time": "2024-05-23T15:32:02.731Z"
   },
   {
    "duration": 33,
    "start_time": "2024-05-23T15:32:02.767Z"
   },
   {
    "duration": 28,
    "start_time": "2024-05-23T15:32:02.801Z"
   },
   {
    "duration": 19,
    "start_time": "2024-05-23T15:32:02.831Z"
   },
   {
    "duration": 12158,
    "start_time": "2024-05-23T15:32:02.852Z"
   },
   {
    "duration": 4,
    "start_time": "2024-05-23T15:33:18.054Z"
   },
   {
    "duration": 27,
    "start_time": "2024-05-23T15:33:38.327Z"
   },
   {
    "duration": 5,
    "start_time": "2024-05-23T15:36:35.321Z"
   },
   {
    "duration": 12,
    "start_time": "2024-05-23T15:36:36.922Z"
   },
   {
    "duration": 4,
    "start_time": "2024-05-23T15:36:38.650Z"
   },
   {
    "duration": 24,
    "start_time": "2024-05-23T15:36:39.322Z"
   },
   {
    "duration": 16,
    "start_time": "2024-05-23T15:37:31.084Z"
   },
   {
    "duration": 13,
    "start_time": "2024-05-23T15:37:34.285Z"
   },
   {
    "duration": 5,
    "start_time": "2024-05-23T15:39:56.587Z"
   },
   {
    "duration": 13,
    "start_time": "2024-05-23T15:39:57.131Z"
   },
   {
    "duration": 4,
    "start_time": "2024-05-23T15:39:58.139Z"
   },
   {
    "duration": 27,
    "start_time": "2024-05-23T15:39:58.652Z"
   },
   {
    "duration": 12,
    "start_time": "2024-05-23T15:39:59.171Z"
   },
   {
    "duration": 12,
    "start_time": "2024-05-23T15:40:03.019Z"
   },
   {
    "duration": 4,
    "start_time": "2024-05-23T15:40:28.987Z"
   },
   {
    "duration": 13,
    "start_time": "2024-05-23T15:40:29.467Z"
   },
   {
    "duration": 3,
    "start_time": "2024-05-23T15:40:30.076Z"
   },
   {
    "duration": 24,
    "start_time": "2024-05-23T15:40:30.283Z"
   },
   {
    "duration": 10,
    "start_time": "2024-05-23T15:40:30.492Z"
   },
   {
    "duration": 7,
    "start_time": "2024-05-23T15:40:30.699Z"
   },
   {
    "duration": 14668,
    "start_time": "2024-05-23T15:40:30.874Z"
   },
   {
    "duration": 8,
    "start_time": "2024-05-23T16:41:19.537Z"
   },
   {
    "duration": 58,
    "start_time": "2024-05-23T16:49:24.427Z"
   },
   {
    "duration": 7,
    "start_time": "2024-05-23T16:49:28.632Z"
   },
   {
    "duration": 133,
    "start_time": "2024-05-23T16:49:40.121Z"
   },
   {
    "duration": 153,
    "start_time": "2024-05-23T16:50:10.377Z"
   },
   {
    "duration": 202,
    "start_time": "2024-05-23T16:55:07.713Z"
   },
   {
    "duration": 146,
    "start_time": "2024-05-23T16:56:45.332Z"
   },
   {
    "duration": 151,
    "start_time": "2024-05-23T17:00:08.954Z"
   },
   {
    "duration": 147,
    "start_time": "2024-05-23T17:01:21.380Z"
   },
   {
    "duration": 150,
    "start_time": "2024-05-23T17:04:33.337Z"
   },
   {
    "duration": 150,
    "start_time": "2024-05-23T17:05:44.015Z"
   },
   {
    "duration": 180,
    "start_time": "2024-05-23T17:06:07.817Z"
   },
   {
    "duration": 244,
    "start_time": "2024-05-23T17:06:17.624Z"
   },
   {
    "duration": 6,
    "start_time": "2024-05-23T17:12:12.527Z"
   },
   {
    "duration": 481,
    "start_time": "2024-05-23T17:12:51.328Z"
   },
   {
    "duration": 4,
    "start_time": "2024-05-23T17:14:24.625Z"
   },
   {
    "duration": 155,
    "start_time": "2024-05-23T17:14:25.183Z"
   },
   {
    "duration": 4,
    "start_time": "2024-05-23T17:14:37.702Z"
   },
   {
    "duration": 146,
    "start_time": "2024-05-23T17:14:41.410Z"
   },
   {
    "duration": 4,
    "start_time": "2024-05-23T17:14:48.937Z"
   },
   {
    "duration": 172,
    "start_time": "2024-05-23T17:14:49.744Z"
   },
   {
    "duration": 4,
    "start_time": "2024-05-23T17:15:19.799Z"
   },
   {
    "duration": 164,
    "start_time": "2024-05-23T17:15:20.184Z"
   },
   {
    "duration": 155,
    "start_time": "2024-05-23T17:15:53.361Z"
   },
   {
    "duration": 6,
    "start_time": "2024-05-23T17:16:03.090Z"
   },
   {
    "duration": 6,
    "start_time": "2024-05-23T17:16:51.925Z"
   },
   {
    "duration": 165,
    "start_time": "2024-05-23T17:16:53.794Z"
   },
   {
    "duration": 294,
    "start_time": "2024-05-23T17:17:14.699Z"
   },
   {
    "duration": 141,
    "start_time": "2024-05-23T17:17:37.668Z"
   },
   {
    "duration": 5,
    "start_time": "2024-05-23T17:17:52.067Z"
   },
   {
    "duration": 178,
    "start_time": "2024-05-23T17:17:52.482Z"
   },
   {
    "duration": 278,
    "start_time": "2024-05-23T17:17:56.243Z"
   },
   {
    "duration": 130,
    "start_time": "2024-05-23T17:18:00.443Z"
   },
   {
    "duration": 5,
    "start_time": "2024-05-23T17:18:30.435Z"
   },
   {
    "duration": 143,
    "start_time": "2024-05-23T17:18:32.230Z"
   },
   {
    "duration": 385,
    "start_time": "2024-05-23T17:18:43.268Z"
   },
   {
    "duration": 131,
    "start_time": "2024-05-23T17:18:44.967Z"
   },
   {
    "duration": 4,
    "start_time": "2024-05-23T17:18:59.343Z"
   },
   {
    "duration": 158,
    "start_time": "2024-05-23T17:18:59.645Z"
   },
   {
    "duration": 282,
    "start_time": "2024-05-23T17:18:59.891Z"
   },
   {
    "duration": 142,
    "start_time": "2024-05-23T17:19:00.196Z"
   },
   {
    "duration": 149,
    "start_time": "2024-05-23T17:19:01.636Z"
   },
   {
    "duration": 233,
    "start_time": "2024-05-23T17:24:05.352Z"
   },
   {
    "duration": 3061,
    "start_time": "2024-05-23T19:14:57.541Z"
   },
   {
    "duration": 3776,
    "start_time": "2024-05-23T19:15:00.605Z"
   },
   {
    "duration": 2858,
    "start_time": "2024-05-23T19:15:04.383Z"
   },
   {
    "duration": 2845,
    "start_time": "2024-05-23T19:15:07.244Z"
   },
   {
    "duration": 3136,
    "start_time": "2024-05-23T19:15:10.091Z"
   },
   {
    "duration": 7,
    "start_time": "2024-05-23T19:15:13.229Z"
   },
   {
    "duration": 15,
    "start_time": "2024-05-23T19:15:13.238Z"
   },
   {
    "duration": 5,
    "start_time": "2024-05-23T19:15:13.254Z"
   },
   {
    "duration": 58,
    "start_time": "2024-05-23T19:15:13.261Z"
   },
   {
    "duration": 10,
    "start_time": "2024-05-23T19:15:13.322Z"
   },
   {
    "duration": 17,
    "start_time": "2024-05-23T19:15:13.333Z"
   },
   {
    "duration": 7,
    "start_time": "2024-05-23T19:15:13.351Z"
   },
   {
    "duration": 901,
    "start_time": "2024-05-23T19:15:13.359Z"
   },
   {
    "duration": 7,
    "start_time": "2024-05-23T19:15:14.262Z"
   },
   {
    "duration": 14,
    "start_time": "2024-05-23T19:15:14.270Z"
   },
   {
    "duration": 17,
    "start_time": "2024-05-23T19:15:14.285Z"
   },
   {
    "duration": 4,
    "start_time": "2024-05-23T19:15:14.304Z"
   },
   {
    "duration": 26,
    "start_time": "2024-05-23T19:15:14.309Z"
   },
   {
    "duration": 4,
    "start_time": "2024-05-23T19:15:14.337Z"
   },
   {
    "duration": 266,
    "start_time": "2024-05-23T19:15:14.343Z"
   },
   {
    "duration": 276,
    "start_time": "2024-05-23T19:15:14.612Z"
   },
   {
    "duration": 166,
    "start_time": "2024-05-23T19:15:14.890Z"
   },
   {
    "duration": 166,
    "start_time": "2024-05-23T19:15:15.058Z"
   },
   {
    "duration": 7,
    "start_time": "2024-05-23T19:15:15.226Z"
   },
   {
    "duration": 18215,
    "start_time": "2024-05-23T19:15:15.235Z"
   },
   {
    "duration": 14,
    "start_time": "2024-05-23T19:18:48.995Z"
   },
   {
    "duration": 356,
    "start_time": "2024-05-23T19:19:14.147Z"
   },
   {
    "duration": 8,
    "start_time": "2024-05-23T19:19:21.412Z"
   },
   {
    "duration": 30,
    "start_time": "2024-05-23T19:20:11.734Z"
   },
   {
    "duration": 23,
    "start_time": "2024-05-23T19:20:17.972Z"
   },
   {
    "duration": 770,
    "start_time": "2024-05-23T19:20:43.750Z"
   },
   {
    "duration": 781,
    "start_time": "2024-05-23T19:21:20.677Z"
   },
   {
    "duration": 880,
    "start_time": "2024-05-23T19:21:26.151Z"
   },
   {
    "duration": 838,
    "start_time": "2024-05-23T19:21:41.461Z"
   },
   {
    "duration": 363,
    "start_time": "2024-05-23T19:25:34.120Z"
   },
   {
    "duration": 898,
    "start_time": "2024-05-23T19:26:04.347Z"
   },
   {
    "duration": 697,
    "start_time": "2024-05-23T19:26:26.536Z"
   },
   {
    "duration": 676,
    "start_time": "2024-05-23T19:26:40.945Z"
   },
   {
    "duration": 678,
    "start_time": "2024-05-23T19:27:26.667Z"
   },
   {
    "duration": 799,
    "start_time": "2024-05-23T19:35:50.194Z"
   },
   {
    "duration": 239,
    "start_time": "2024-05-23T19:38:51.705Z"
   },
   {
    "duration": 357,
    "start_time": "2024-05-23T19:43:40.944Z"
   },
   {
    "duration": 436,
    "start_time": "2024-05-23T19:44:47.729Z"
   },
   {
    "duration": 484,
    "start_time": "2024-05-23T19:45:13.233Z"
   },
   {
    "duration": 341,
    "start_time": "2024-05-23T19:45:28.292Z"
   },
   {
    "duration": 400,
    "start_time": "2024-05-23T19:46:06.787Z"
   },
   {
    "duration": 367,
    "start_time": "2024-05-23T19:46:21.587Z"
   },
   {
    "duration": 506,
    "start_time": "2024-05-23T19:46:52.260Z"
   },
   {
    "duration": 392,
    "start_time": "2024-05-23T19:47:03.011Z"
   },
   {
    "duration": 343,
    "start_time": "2024-05-23T19:47:14.091Z"
   },
   {
    "duration": 345,
    "start_time": "2024-05-23T19:47:29.028Z"
   },
   {
    "duration": 534,
    "start_time": "2024-05-23T19:47:34.676Z"
   },
   {
    "duration": 372,
    "start_time": "2024-05-23T19:48:07.925Z"
   },
   {
    "duration": 354,
    "start_time": "2024-05-23T19:49:22.054Z"
   },
   {
    "duration": 348,
    "start_time": "2024-05-23T19:54:40.989Z"
   },
   {
    "duration": 469,
    "start_time": "2024-05-23T19:54:58.797Z"
   },
   {
    "duration": 32,
    "start_time": "2024-05-23T20:03:01.717Z"
   },
   {
    "duration": 1877,
    "start_time": "2024-05-23T20:31:38.106Z"
   },
   {
    "duration": 1550,
    "start_time": "2024-05-23T20:31:54.841Z"
   },
   {
    "duration": 4,
    "start_time": "2024-05-23T20:32:19.064Z"
   },
   {
    "duration": 361,
    "start_time": "2024-05-23T20:33:09.370Z"
   },
   {
    "duration": 334,
    "start_time": "2024-05-23T20:33:32.730Z"
   },
   {
    "duration": 2545,
    "start_time": "2024-05-23T20:41:00.145Z"
   },
   {
    "duration": 360,
    "start_time": "2024-05-23T20:48:31.177Z"
   },
   {
    "duration": 529,
    "start_time": "2024-05-23T20:48:37.574Z"
   },
   {
    "duration": 369,
    "start_time": "2024-05-23T20:52:51.625Z"
   },
   {
    "duration": 335,
    "start_time": "2024-05-23T20:53:07.049Z"
   },
   {
    "duration": 342,
    "start_time": "2024-05-23T20:55:58.458Z"
   },
   {
    "duration": 480,
    "start_time": "2024-05-23T20:56:03.369Z"
   },
   {
    "duration": 1709,
    "start_time": "2024-05-23T20:56:10.073Z"
   },
   {
    "duration": 1642,
    "start_time": "2024-05-23T20:56:16.841Z"
   },
   {
    "duration": 12,
    "start_time": "2024-05-23T21:02:41.216Z"
   },
   {
    "duration": 17,
    "start_time": "2024-05-23T21:03:47.702Z"
   },
   {
    "duration": 13,
    "start_time": "2024-05-23T21:03:54.816Z"
   },
   {
    "duration": 5,
    "start_time": "2024-05-23T21:04:56.643Z"
   },
   {
    "duration": 428,
    "start_time": "2024-05-23T21:05:00.751Z"
   },
   {
    "duration": 26,
    "start_time": "2024-05-23T21:06:21.889Z"
   },
   {
    "duration": 3169,
    "start_time": "2024-05-23T21:06:44.917Z"
   },
   {
    "duration": 3049,
    "start_time": "2024-05-23T21:06:48.089Z"
   },
   {
    "duration": 2754,
    "start_time": "2024-05-23T21:06:51.141Z"
   },
   {
    "duration": 2764,
    "start_time": "2024-05-23T21:06:53.898Z"
   },
   {
    "duration": 3054,
    "start_time": "2024-05-23T21:06:56.665Z"
   },
   {
    "duration": 6,
    "start_time": "2024-05-23T21:06:59.722Z"
   },
   {
    "duration": 14,
    "start_time": "2024-05-23T21:06:59.732Z"
   },
   {
    "duration": 8,
    "start_time": "2024-05-23T21:06:59.749Z"
   },
   {
    "duration": 56,
    "start_time": "2024-05-23T21:06:59.759Z"
   },
   {
    "duration": 9,
    "start_time": "2024-05-23T21:06:59.817Z"
   },
   {
    "duration": 19,
    "start_time": "2024-05-23T21:06:59.827Z"
   },
   {
    "duration": 4,
    "start_time": "2024-05-23T21:06:59.848Z"
   },
   {
    "duration": 714,
    "start_time": "2024-05-23T21:06:59.854Z"
   },
   {
    "duration": 11,
    "start_time": "2024-05-23T21:07:00.571Z"
   },
   {
    "duration": 58,
    "start_time": "2024-05-23T21:07:00.583Z"
   },
   {
    "duration": 113,
    "start_time": "2024-05-23T21:07:00.642Z"
   },
   {
    "duration": 99,
    "start_time": "2024-05-23T21:07:00.757Z"
   },
   {
    "duration": 78,
    "start_time": "2024-05-23T21:07:00.858Z"
   },
   {
    "duration": 39,
    "start_time": "2024-05-23T21:07:00.938Z"
   },
   {
    "duration": 278,
    "start_time": "2024-05-23T21:07:00.979Z"
   },
   {
    "duration": 295,
    "start_time": "2024-05-23T21:07:01.259Z"
   },
   {
    "duration": 163,
    "start_time": "2024-05-23T21:07:01.555Z"
   },
   {
    "duration": 156,
    "start_time": "2024-05-23T21:07:01.720Z"
   },
   {
    "duration": 7,
    "start_time": "2024-05-23T21:07:01.881Z"
   },
   {
    "duration": 18285,
    "start_time": "2024-05-23T21:07:01.890Z"
   },
   {
    "duration": 717,
    "start_time": "2024-05-23T21:07:20.181Z"
   },
   {
    "duration": 382,
    "start_time": "2024-05-23T21:07:20.900Z"
   },
   {
    "duration": 1902,
    "start_time": "2024-05-23T21:07:21.283Z"
   },
   {
    "duration": 707,
    "start_time": "2024-05-23T21:26:17.929Z"
   },
   {
    "duration": 1052,
    "start_time": "2024-05-23T21:26:33.178Z"
   },
   {
    "duration": 804,
    "start_time": "2024-05-23T21:26:51.706Z"
   },
   {
    "duration": 700,
    "start_time": "2024-05-23T21:27:11.497Z"
   },
   {
    "duration": 8,
    "start_time": "2024-05-23T21:39:45.552Z"
   },
   {
    "duration": 11,
    "start_time": "2024-05-23T21:40:13.151Z"
   },
   {
    "duration": 12,
    "start_time": "2024-05-23T21:43:07.797Z"
   },
   {
    "duration": 68,
    "start_time": "2024-05-23T21:44:16.303Z"
   },
   {
    "duration": 9,
    "start_time": "2024-05-23T21:44:21.186Z"
   },
   {
    "duration": 8,
    "start_time": "2024-05-23T21:46:19.780Z"
   },
   {
    "duration": 10,
    "start_time": "2024-05-23T21:46:45.412Z"
   },
   {
    "duration": 33,
    "start_time": "2024-05-23T21:58:20.304Z"
   },
   {
    "duration": 5,
    "start_time": "2024-05-23T21:58:53.970Z"
   },
   {
    "duration": 27251,
    "start_time": "2024-05-23T21:58:59.139Z"
   },
   {
    "duration": 27227,
    "start_time": "2024-05-23T22:03:44.557Z"
   },
   {
    "duration": 3,
    "start_time": "2024-05-23T22:06:35.527Z"
   },
   {
    "duration": 22606,
    "start_time": "2024-05-23T22:09:12.299Z"
   },
   {
    "duration": 17,
    "start_time": "2024-05-23T22:12:27.629Z"
   },
   {
    "duration": 14,
    "start_time": "2024-05-23T22:12:56.189Z"
   },
   {
    "duration": 5,
    "start_time": "2024-05-23T22:14:07.373Z"
   },
   {
    "duration": 19,
    "start_time": "2024-05-23T22:14:11.837Z"
   },
   {
    "duration": 14,
    "start_time": "2024-05-23T22:14:20.493Z"
   },
   {
    "duration": 3,
    "start_time": "2024-05-23T22:15:14.878Z"
   },
   {
    "duration": 3,
    "start_time": "2024-05-23T22:15:53.311Z"
   },
   {
    "duration": 4,
    "start_time": "2024-05-23T22:15:54.111Z"
   },
   {
    "duration": 8,
    "start_time": "2024-05-23T22:15:55.926Z"
   },
   {
    "duration": 38,
    "start_time": "2024-05-23T22:17:29.392Z"
   },
   {
    "duration": 29,
    "start_time": "2024-05-23T22:18:18.289Z"
   },
   {
    "duration": 908,
    "start_time": "2024-05-23T22:18:42.401Z"
   },
   {
    "duration": 8540,
    "start_time": "2024-05-23T22:20:31.637Z"
   },
   {
    "duration": 4,
    "start_time": "2024-05-23T22:22:18.581Z"
   },
   {
    "duration": 21,
    "start_time": "2024-05-23T22:23:17.333Z"
   },
   {
    "duration": 9,
    "start_time": "2024-05-23T22:23:32.196Z"
   },
   {
    "duration": 18,
    "start_time": "2024-05-23T22:23:35.830Z"
   },
   {
    "duration": 11,
    "start_time": "2024-05-23T22:24:21.429Z"
   },
   {
    "duration": 9,
    "start_time": "2024-05-23T22:24:36.117Z"
   },
   {
    "duration": 12,
    "start_time": "2024-05-23T22:24:36.596Z"
   },
   {
    "duration": 3,
    "start_time": "2024-05-23T22:25:39.199Z"
   },
   {
    "duration": 5,
    "start_time": "2024-05-23T22:25:42.696Z"
   },
   {
    "duration": 6,
    "start_time": "2024-05-23T22:26:19.595Z"
   },
   {
    "duration": 1858,
    "start_time": "2024-05-23T22:33:50.725Z"
   },
   {
    "duration": 2082,
    "start_time": "2024-05-23T22:34:01.400Z"
   },
   {
    "duration": 1803,
    "start_time": "2024-05-23T22:37:18.090Z"
   },
   {
    "duration": 16,
    "start_time": "2024-05-23T22:43:58.130Z"
   },
   {
    "duration": 2,
    "start_time": "2024-05-23T22:44:04.307Z"
   },
   {
    "duration": 12,
    "start_time": "2024-05-23T22:44:04.946Z"
   },
   {
    "duration": 25341,
    "start_time": "2024-05-23T22:44:18.225Z"
   },
   {
    "duration": 3,
    "start_time": "2024-05-23T22:46:02.004Z"
   },
   {
    "duration": 3,
    "start_time": "2024-05-23T22:47:35.877Z"
   },
   {
    "duration": 6,
    "start_time": "2024-05-23T22:47:44.566Z"
   },
   {
    "duration": 6,
    "start_time": "2024-05-23T22:48:04.133Z"
   },
   {
    "duration": 3,
    "start_time": "2024-05-23T22:50:41.016Z"
   },
   {
    "duration": 3,
    "start_time": "2024-05-23T22:50:41.593Z"
   },
   {
    "duration": 22199,
    "start_time": "2024-05-23T22:50:42.681Z"
   },
   {
    "duration": 4,
    "start_time": "2024-05-23T22:51:13.544Z"
   },
   {
    "duration": 5,
    "start_time": "2024-05-23T22:51:17.959Z"
   },
   {
    "duration": 5,
    "start_time": "2024-05-23T22:51:19.451Z"
   },
   {
    "duration": 51209,
    "start_time": "2024-05-23T22:52:17.801Z"
   },
   {
    "duration": 3114,
    "start_time": "2024-05-23T22:54:22.121Z"
   },
   {
    "duration": 3060,
    "start_time": "2024-05-23T22:54:25.238Z"
   },
   {
    "duration": 2803,
    "start_time": "2024-05-23T22:54:28.300Z"
   },
   {
    "duration": 2865,
    "start_time": "2024-05-23T22:54:31.105Z"
   },
   {
    "duration": 3190,
    "start_time": "2024-05-23T22:54:33.973Z"
   },
   {
    "duration": 6,
    "start_time": "2024-05-23T22:54:37.165Z"
   },
   {
    "duration": 5,
    "start_time": "2024-05-23T22:54:37.172Z"
   },
   {
    "duration": 5,
    "start_time": "2024-05-23T22:54:37.178Z"
   },
   {
    "duration": 55,
    "start_time": "2024-05-23T22:54:37.184Z"
   },
   {
    "duration": 7,
    "start_time": "2024-05-23T22:54:37.241Z"
   },
   {
    "duration": 12,
    "start_time": "2024-05-23T22:54:37.249Z"
   },
   {
    "duration": 5,
    "start_time": "2024-05-23T22:54:37.262Z"
   },
   {
    "duration": 921,
    "start_time": "2024-05-23T22:54:37.268Z"
   },
   {
    "duration": 7,
    "start_time": "2024-05-23T22:54:38.192Z"
   },
   {
    "duration": 5,
    "start_time": "2024-05-23T22:54:38.200Z"
   },
   {
    "duration": 24,
    "start_time": "2024-05-23T22:54:38.207Z"
   },
   {
    "duration": 4,
    "start_time": "2024-05-23T22:54:38.232Z"
   },
   {
    "duration": 61,
    "start_time": "2024-05-23T22:54:38.237Z"
   },
   {
    "duration": 4,
    "start_time": "2024-05-23T22:54:38.300Z"
   },
   {
    "duration": 259,
    "start_time": "2024-05-23T22:54:38.306Z"
   },
   {
    "duration": 280,
    "start_time": "2024-05-23T22:54:38.567Z"
   },
   {
    "duration": 167,
    "start_time": "2024-05-23T22:54:38.849Z"
   },
   {
    "duration": 161,
    "start_time": "2024-05-23T22:54:39.018Z"
   },
   {
    "duration": 8,
    "start_time": "2024-05-23T22:54:39.181Z"
   },
   {
    "duration": 54580,
    "start_time": "2024-05-23T22:54:39.191Z"
   },
   {
    "duration": 858,
    "start_time": "2024-05-23T22:55:33.773Z"
   },
   {
    "duration": 386,
    "start_time": "2024-05-23T22:55:34.632Z"
   },
   {
    "duration": 1767,
    "start_time": "2024-05-23T22:55:35.020Z"
   },
   {
    "duration": 95,
    "start_time": "2024-05-23T22:55:36.789Z"
   },
   {
    "duration": 5,
    "start_time": "2024-05-23T22:55:36.886Z"
   },
   {
    "duration": 4,
    "start_time": "2024-05-23T22:55:36.983Z"
   },
   {
    "duration": 5,
    "start_time": "2024-05-23T22:55:36.988Z"
   },
   {
    "duration": 88893,
    "start_time": "2024-05-23T22:55:36.995Z"
   },
   {
    "duration": 4,
    "start_time": "2024-05-23T22:57:05.890Z"
   },
   {
    "duration": 27,
    "start_time": "2024-05-23T22:57:05.895Z"
   },
   {
    "duration": 67,
    "start_time": "2024-05-23T22:57:05.924Z"
   },
   {
    "duration": 6,
    "start_time": "2024-05-23T22:57:06.082Z"
   },
   {
    "duration": 9,
    "start_time": "2024-05-23T22:57:06.089Z"
   },
   {
    "duration": 5,
    "start_time": "2024-05-23T22:58:44.480Z"
   },
   {
    "duration": 5,
    "start_time": "2024-05-23T22:58:56.544Z"
   },
   {
    "duration": 4,
    "start_time": "2024-05-23T23:04:36.094Z"
   },
   {
    "duration": 18,
    "start_time": "2024-05-23T23:06:08.223Z"
   },
   {
    "duration": 11,
    "start_time": "2024-05-23T23:06:17.695Z"
   },
   {
    "duration": 11,
    "start_time": "2024-05-23T23:07:46.207Z"
   },
   {
    "duration": 3,
    "start_time": "2024-05-23T23:07:50.943Z"
   },
   {
    "duration": 3,
    "start_time": "2024-05-23T23:07:53.567Z"
   },
   {
    "duration": 88671,
    "start_time": "2024-05-23T23:08:43.360Z"
   },
   {
    "duration": 84,
    "start_time": "2024-05-23T23:11:21.332Z"
   },
   {
    "duration": 93,
    "start_time": "2024-05-23T23:11:34.034Z"
   },
   {
    "duration": 4,
    "start_time": "2024-05-23T23:13:21.889Z"
   },
   {
    "duration": 4,
    "start_time": "2024-05-23T23:13:26.313Z"
   },
   {
    "duration": 50842,
    "start_time": "2024-05-23T23:13:27.649Z"
   },
   {
    "duration": 45,
    "start_time": "2024-05-23T23:14:24.809Z"
   },
   {
    "duration": 4,
    "start_time": "2024-05-23T23:15:08.098Z"
   },
   {
    "duration": 17,
    "start_time": "2024-05-23T23:22:16.631Z"
   },
   {
    "duration": 4,
    "start_time": "2024-05-23T23:22:36.299Z"
   },
   {
    "duration": 4,
    "start_time": "2024-05-23T23:22:47.292Z"
   },
   {
    "duration": 44511,
    "start_time": "2024-05-23T23:22:57.688Z"
   },
   {
    "duration": 4,
    "start_time": "2024-05-23T23:25:23.770Z"
   },
   {
    "duration": 4,
    "start_time": "2024-05-23T23:25:39.178Z"
   },
   {
    "duration": 3,
    "start_time": "2024-05-23T23:25:39.610Z"
   },
   {
    "duration": 396581,
    "start_time": "2024-05-23T23:25:43.676Z"
   },
   {
    "duration": 51,
    "start_time": "2024-05-23T23:33:41.912Z"
   },
   {
    "duration": 38,
    "start_time": "2024-05-23T23:34:57.092Z"
   },
   {
    "duration": 40,
    "start_time": "2024-05-23T23:36:09.861Z"
   },
   {
    "duration": 57143,
    "start_time": "2024-05-23T23:37:40.264Z"
   },
   {
    "duration": 173114,
    "start_time": "2024-05-23T23:39:36.987Z"
   },
   {
    "duration": 21,
    "start_time": "2024-05-23T23:45:38.137Z"
   },
   {
    "duration": 15,
    "start_time": "2024-05-23T23:47:11.763Z"
   },
   {
    "duration": 659941,
    "start_time": "2024-05-23T23:47:27.651Z"
   },
   {
    "duration": 367617,
    "start_time": "2024-05-24T00:00:06.178Z"
   },
   {
    "duration": 69,
    "start_time": "2024-05-24T00:07:04.550Z"
   },
   {
    "duration": 3095,
    "start_time": "2024-05-24T00:09:58.888Z"
   },
   {
    "duration": 3056,
    "start_time": "2024-05-24T00:10:01.985Z"
   },
   {
    "duration": 2727,
    "start_time": "2024-05-24T00:10:05.043Z"
   },
   {
    "duration": 2762,
    "start_time": "2024-05-24T00:10:07.772Z"
   },
   {
    "duration": 3117,
    "start_time": "2024-05-24T00:10:10.537Z"
   },
   {
    "duration": 2404,
    "start_time": "2024-05-24T00:10:13.655Z"
   },
   {
    "duration": 4,
    "start_time": "2024-05-24T00:10:16.060Z"
   },
   {
    "duration": 13,
    "start_time": "2024-05-24T00:10:16.065Z"
   },
   {
    "duration": 60,
    "start_time": "2024-05-24T00:10:16.080Z"
   },
   {
    "duration": 12,
    "start_time": "2024-05-24T00:10:16.142Z"
   },
   {
    "duration": 12,
    "start_time": "2024-05-24T00:10:16.156Z"
   },
   {
    "duration": 15,
    "start_time": "2024-05-24T00:10:16.170Z"
   },
   {
    "duration": 806,
    "start_time": "2024-05-24T00:10:16.187Z"
   },
   {
    "duration": 8,
    "start_time": "2024-05-24T00:10:16.997Z"
   },
   {
    "duration": 4,
    "start_time": "2024-05-24T00:10:17.007Z"
   },
   {
    "duration": 20,
    "start_time": "2024-05-24T00:10:17.013Z"
   },
   {
    "duration": 4,
    "start_time": "2024-05-24T00:10:17.034Z"
   },
   {
    "duration": 65,
    "start_time": "2024-05-24T00:10:17.039Z"
   },
   {
    "duration": 3,
    "start_time": "2024-05-24T00:10:17.106Z"
   },
   {
    "duration": 237,
    "start_time": "2024-05-24T00:10:17.111Z"
   },
   {
    "duration": 267,
    "start_time": "2024-05-24T00:10:17.350Z"
   },
   {
    "duration": 162,
    "start_time": "2024-05-24T00:10:17.618Z"
   },
   {
    "duration": 178,
    "start_time": "2024-05-24T00:10:17.782Z"
   },
   {
    "duration": 7,
    "start_time": "2024-05-24T00:10:17.962Z"
   },
   {
    "duration": 53195,
    "start_time": "2024-05-24T00:10:17.971Z"
   },
   {
    "duration": 840,
    "start_time": "2024-05-24T00:11:11.168Z"
   },
   {
    "duration": 358,
    "start_time": "2024-05-24T00:11:12.010Z"
   },
   {
    "duration": 2013,
    "start_time": "2024-05-24T00:11:12.369Z"
   },
   {
    "duration": 99,
    "start_time": "2024-05-24T00:11:14.390Z"
   },
   {
    "duration": 13,
    "start_time": "2024-05-24T00:11:14.491Z"
   },
   {
    "duration": 9,
    "start_time": "2024-05-24T00:11:14.505Z"
   },
   {
    "duration": 5,
    "start_time": "2024-05-24T00:11:14.516Z"
   },
   {
    "duration": 6,
    "start_time": "2024-05-24T00:11:14.522Z"
   },
   {
    "duration": 8,
    "start_time": "2024-05-24T00:11:14.529Z"
   },
   {
    "duration": 204788,
    "start_time": "2024-05-24T00:11:14.538Z"
   },
   {
    "duration": 0,
    "start_time": "2024-05-24T00:14:39.328Z"
   },
   {
    "duration": 0,
    "start_time": "2024-05-24T00:14:39.329Z"
   },
   {
    "duration": 6,
    "start_time": "2024-05-24T00:15:33.109Z"
   },
   {
    "duration": 3,
    "start_time": "2024-05-24T00:15:34.811Z"
   },
   {
    "duration": 492242,
    "start_time": "2024-05-24T00:15:36.348Z"
   },
   {
    "duration": 22,
    "start_time": "2024-05-24T00:24:47.379Z"
   },
   {
    "duration": 53,
    "start_time": "2024-05-24T00:25:09.588Z"
   },
   {
    "duration": 47,
    "start_time": "2024-05-24T00:25:31.403Z"
   },
   {
    "duration": 4,
    "start_time": "2024-05-24T00:29:00.182Z"
   },
   {
    "duration": 15,
    "start_time": "2024-05-24T00:31:59.081Z"
   },
   {
    "duration": 3020,
    "start_time": "2024-05-24T00:44:06.862Z"
   },
   {
    "duration": 3066,
    "start_time": "2024-05-24T00:44:09.885Z"
   },
   {
    "duration": 2745,
    "start_time": "2024-05-24T00:44:12.953Z"
   },
   {
    "duration": 2742,
    "start_time": "2024-05-24T00:44:15.701Z"
   },
   {
    "duration": 3093,
    "start_time": "2024-05-24T00:44:18.447Z"
   },
   {
    "duration": 2198,
    "start_time": "2024-05-24T00:44:21.542Z"
   },
   {
    "duration": 3,
    "start_time": "2024-05-24T00:44:23.742Z"
   },
   {
    "duration": 4,
    "start_time": "2024-05-24T00:44:23.746Z"
   },
   {
    "duration": 69,
    "start_time": "2024-05-24T00:44:23.752Z"
   },
   {
    "duration": 11,
    "start_time": "2024-05-24T00:44:23.823Z"
   },
   {
    "duration": 14,
    "start_time": "2024-05-24T00:44:23.836Z"
   },
   {
    "duration": 4,
    "start_time": "2024-05-24T00:44:23.852Z"
   },
   {
    "duration": 842,
    "start_time": "2024-05-24T00:44:23.857Z"
   },
   {
    "duration": 9,
    "start_time": "2024-05-24T00:44:24.702Z"
   },
   {
    "duration": 4,
    "start_time": "2024-05-24T00:44:24.712Z"
   },
   {
    "duration": 18,
    "start_time": "2024-05-24T00:44:24.718Z"
   },
   {
    "duration": 3,
    "start_time": "2024-05-24T00:44:24.737Z"
   },
   {
    "duration": 56,
    "start_time": "2024-05-24T00:44:24.741Z"
   },
   {
    "duration": 4,
    "start_time": "2024-05-24T00:44:24.798Z"
   },
   {
    "duration": 242,
    "start_time": "2024-05-24T00:44:24.804Z"
   },
   {
    "duration": 276,
    "start_time": "2024-05-24T00:44:25.048Z"
   },
   {
    "duration": 168,
    "start_time": "2024-05-24T00:44:25.326Z"
   },
   {
    "duration": 161,
    "start_time": "2024-05-24T00:44:25.496Z"
   },
   {
    "duration": 7,
    "start_time": "2024-05-24T00:44:25.659Z"
   },
   {
    "duration": 35460,
    "start_time": "2024-05-24T00:44:25.668Z"
   },
   {
    "duration": 786,
    "start_time": "2024-05-24T00:45:01.130Z"
   },
   {
    "duration": 356,
    "start_time": "2024-05-24T00:45:01.918Z"
   },
   {
    "duration": 2006,
    "start_time": "2024-05-24T00:45:02.282Z"
   },
   {
    "duration": 191,
    "start_time": "2024-05-24T00:45:04.292Z"
   },
   {
    "duration": 3,
    "start_time": "2024-05-24T00:45:04.485Z"
   },
   {
    "duration": 5,
    "start_time": "2024-05-24T00:45:04.490Z"
   },
   {
    "duration": 4,
    "start_time": "2024-05-24T00:45:04.497Z"
   },
   {
    "duration": 6,
    "start_time": "2024-05-24T00:45:04.503Z"
   },
   {
    "duration": 5,
    "start_time": "2024-05-24T00:45:04.510Z"
   },
   {
    "duration": 273713,
    "start_time": "2024-05-24T00:45:04.516Z"
   },
   {
    "duration": 23,
    "start_time": "2024-05-24T00:49:38.231Z"
   },
   {
    "duration": 3,
    "start_time": "2024-05-24T00:49:38.255Z"
   },
   {
    "duration": 197,
    "start_time": "2024-05-24T00:49:38.260Z"
   },
   {
    "duration": 0,
    "start_time": "2024-05-24T00:49:38.458Z"
   },
   {
    "duration": 0,
    "start_time": "2024-05-24T00:49:38.460Z"
   },
   {
    "duration": 0,
    "start_time": "2024-05-24T00:49:38.461Z"
   },
   {
    "duration": 0,
    "start_time": "2024-05-24T00:49:38.462Z"
   },
   {
    "duration": 4,
    "start_time": "2024-05-24T00:52:20.069Z"
   },
   {
    "duration": 5,
    "start_time": "2024-05-24T00:52:21.651Z"
   },
   {
    "duration": 1411,
    "start_time": "2024-05-24T00:52:24.564Z"
   },
   {
    "duration": 7,
    "start_time": "2024-05-24T00:52:39.956Z"
   },
   {
    "duration": 2936,
    "start_time": "2024-05-24T00:53:27.911Z"
   },
   {
    "duration": 3076,
    "start_time": "2024-05-24T00:53:30.850Z"
   },
   {
    "duration": 2831,
    "start_time": "2024-05-24T00:53:33.929Z"
   },
   {
    "duration": 2788,
    "start_time": "2024-05-24T00:53:36.762Z"
   },
   {
    "duration": 3065,
    "start_time": "2024-05-24T00:53:39.553Z"
   },
   {
    "duration": 2248,
    "start_time": "2024-05-24T00:53:42.620Z"
   },
   {
    "duration": 4,
    "start_time": "2024-05-24T00:53:44.870Z"
   },
   {
    "duration": 8,
    "start_time": "2024-05-24T00:53:44.875Z"
   },
   {
    "duration": 65,
    "start_time": "2024-05-24T00:53:44.885Z"
   },
   {
    "duration": 12,
    "start_time": "2024-05-24T00:53:44.951Z"
   },
   {
    "duration": 15,
    "start_time": "2024-05-24T00:53:44.965Z"
   },
   {
    "duration": 4,
    "start_time": "2024-05-24T00:53:44.982Z"
   },
   {
    "duration": 823,
    "start_time": "2024-05-24T00:53:44.988Z"
   },
   {
    "duration": 8,
    "start_time": "2024-05-24T00:53:45.815Z"
   },
   {
    "duration": 8,
    "start_time": "2024-05-24T00:53:45.825Z"
   },
   {
    "duration": 20,
    "start_time": "2024-05-24T00:53:45.835Z"
   },
   {
    "duration": 4,
    "start_time": "2024-05-24T00:53:45.856Z"
   },
   {
    "duration": 63,
    "start_time": "2024-05-24T00:53:45.862Z"
   },
   {
    "duration": 4,
    "start_time": "2024-05-24T00:53:45.927Z"
   },
   {
    "duration": 260,
    "start_time": "2024-05-24T00:53:45.933Z"
   },
   {
    "duration": 288,
    "start_time": "2024-05-24T00:53:46.195Z"
   },
   {
    "duration": 165,
    "start_time": "2024-05-24T00:53:46.485Z"
   },
   {
    "duration": 155,
    "start_time": "2024-05-24T00:53:46.652Z"
   },
   {
    "duration": 7,
    "start_time": "2024-05-24T00:53:46.808Z"
   },
   {
    "duration": 34800,
    "start_time": "2024-05-24T00:53:46.816Z"
   },
   {
    "duration": 789,
    "start_time": "2024-05-24T00:54:21.618Z"
   },
   {
    "duration": 380,
    "start_time": "2024-05-24T00:54:22.409Z"
   },
   {
    "duration": 2093,
    "start_time": "2024-05-24T00:54:22.790Z"
   },
   {
    "duration": 100,
    "start_time": "2024-05-24T00:54:24.885Z"
   },
   {
    "duration": 10,
    "start_time": "2024-05-24T00:54:24.986Z"
   },
   {
    "duration": 4,
    "start_time": "2024-05-24T00:54:24.998Z"
   },
   {
    "duration": 4,
    "start_time": "2024-05-24T00:54:25.003Z"
   },
   {
    "duration": 5,
    "start_time": "2024-05-24T00:54:25.008Z"
   },
   {
    "duration": 8,
    "start_time": "2024-05-24T00:54:25.014Z"
   },
   {
    "duration": 269419,
    "start_time": "2024-05-24T00:54:25.024Z"
   },
   {
    "duration": 23,
    "start_time": "2024-05-24T00:58:54.445Z"
   },
   {
    "duration": 3,
    "start_time": "2024-05-24T00:58:54.469Z"
   },
   {
    "duration": 6,
    "start_time": "2024-05-24T00:58:54.474Z"
   },
   {
    "duration": 5,
    "start_time": "2024-05-24T00:58:54.481Z"
   },
   {
    "duration": 6,
    "start_time": "2024-05-24T00:58:54.488Z"
   },
   {
    "duration": 158,
    "start_time": "2024-05-24T01:04:05.644Z"
   },
   {
    "duration": 17,
    "start_time": "2024-05-24T01:06:23.153Z"
   },
   {
    "duration": 13,
    "start_time": "2024-05-24T01:07:17.456Z"
   },
   {
    "duration": 205,
    "start_time": "2024-05-24T01:07:43.758Z"
   },
   {
    "duration": 2961,
    "start_time": "2024-05-24T01:15:38.091Z"
   },
   {
    "duration": 3623,
    "start_time": "2024-05-24T01:15:41.055Z"
   },
   {
    "duration": 2821,
    "start_time": "2024-05-24T01:15:44.679Z"
   },
   {
    "duration": 3153,
    "start_time": "2024-05-24T01:15:47.503Z"
   },
   {
    "duration": 2284,
    "start_time": "2024-05-24T01:15:50.659Z"
   },
   {
    "duration": 3,
    "start_time": "2024-05-24T01:15:52.945Z"
   },
   {
    "duration": 16,
    "start_time": "2024-05-24T01:15:52.949Z"
   },
   {
    "duration": 62,
    "start_time": "2024-05-24T01:15:52.967Z"
   },
   {
    "duration": 11,
    "start_time": "2024-05-24T01:15:53.031Z"
   },
   {
    "duration": 15,
    "start_time": "2024-05-24T01:15:53.043Z"
   },
   {
    "duration": 5,
    "start_time": "2024-05-24T01:15:53.060Z"
   },
   {
    "duration": 833,
    "start_time": "2024-05-24T01:15:53.066Z"
   },
   {
    "duration": 10,
    "start_time": "2024-05-24T01:15:53.901Z"
   },
   {
    "duration": 6,
    "start_time": "2024-05-24T01:15:53.916Z"
   },
   {
    "duration": 19,
    "start_time": "2024-05-24T01:15:53.924Z"
   },
   {
    "duration": 4,
    "start_time": "2024-05-24T01:15:53.945Z"
   },
   {
    "duration": 63,
    "start_time": "2024-05-24T01:15:53.951Z"
   },
   {
    "duration": 4,
    "start_time": "2024-05-24T01:15:54.015Z"
   },
   {
    "duration": 251,
    "start_time": "2024-05-24T01:15:54.021Z"
   },
   {
    "duration": 275,
    "start_time": "2024-05-24T01:15:54.274Z"
   },
   {
    "duration": 167,
    "start_time": "2024-05-24T01:15:54.550Z"
   },
   {
    "duration": 149,
    "start_time": "2024-05-24T01:15:54.719Z"
   },
   {
    "duration": 14,
    "start_time": "2024-05-24T01:15:54.872Z"
   },
   {
    "duration": 34779,
    "start_time": "2024-05-24T01:15:54.888Z"
   },
   {
    "duration": 743,
    "start_time": "2024-05-24T01:16:29.669Z"
   },
   {
    "duration": 388,
    "start_time": "2024-05-24T01:16:30.414Z"
   },
   {
    "duration": 1885,
    "start_time": "2024-05-24T01:16:30.804Z"
   },
   {
    "duration": 98,
    "start_time": "2024-05-24T01:16:32.693Z"
   },
   {
    "duration": 3,
    "start_time": "2024-05-24T01:16:32.883Z"
   },
   {
    "duration": 4,
    "start_time": "2024-05-24T01:16:32.887Z"
   },
   {
    "duration": 16,
    "start_time": "2024-05-24T01:16:32.892Z"
   },
   {
    "duration": 5,
    "start_time": "2024-05-24T01:16:32.910Z"
   },
   {
    "duration": 13,
    "start_time": "2024-05-24T01:16:32.916Z"
   },
   {
    "duration": 283868,
    "start_time": "2024-05-24T01:16:32.931Z"
   },
   {
    "duration": 93,
    "start_time": "2024-05-24T01:21:16.801Z"
   },
   {
    "duration": 2,
    "start_time": "2024-05-24T01:21:16.895Z"
   },
   {
    "duration": 179,
    "start_time": "2024-05-24T01:21:16.899Z"
   },
   {
    "duration": 0,
    "start_time": "2024-05-24T01:21:17.080Z"
   },
   {
    "duration": 0,
    "start_time": "2024-05-24T01:21:17.082Z"
   },
   {
    "duration": 0,
    "start_time": "2024-05-24T01:21:17.083Z"
   },
   {
    "duration": 19,
    "start_time": "2024-05-24T01:22:03.843Z"
   },
   {
    "duration": 5,
    "start_time": "2024-05-24T01:22:04.418Z"
   },
   {
    "duration": 13,
    "start_time": "2024-05-24T01:24:45.785Z"
   },
   {
    "duration": 13,
    "start_time": "2024-05-24T01:24:54.966Z"
   },
   {
    "duration": 13,
    "start_time": "2024-05-24T01:25:23.544Z"
   },
   {
    "duration": 14,
    "start_time": "2024-05-24T01:26:29.977Z"
   },
   {
    "duration": 190,
    "start_time": "2024-05-24T01:27:33.258Z"
   },
   {
    "duration": 171,
    "start_time": "2024-05-24T01:27:44.588Z"
   },
   {
    "duration": 20,
    "start_time": "2024-05-24T01:31:09.664Z"
   },
   {
    "duration": 4,
    "start_time": "2024-05-24T01:31:10.262Z"
   },
   {
    "duration": 6,
    "start_time": "2024-05-24T01:31:11.680Z"
   },
   {
    "duration": 3075,
    "start_time": "2024-05-24T01:52:30.375Z"
   },
   {
    "duration": 3016,
    "start_time": "2024-05-24T01:52:33.452Z"
   },
   {
    "duration": 2722,
    "start_time": "2024-05-24T01:52:36.470Z"
   },
   {
    "duration": 3003,
    "start_time": "2024-05-24T01:52:39.194Z"
   },
   {
    "duration": 2233,
    "start_time": "2024-05-24T01:52:42.200Z"
   },
   {
    "duration": 3,
    "start_time": "2024-05-24T01:52:44.435Z"
   },
   {
    "duration": 12,
    "start_time": "2024-05-24T01:52:44.439Z"
   },
   {
    "duration": 56,
    "start_time": "2024-05-24T01:52:44.452Z"
   },
   {
    "duration": 11,
    "start_time": "2024-05-24T01:52:44.510Z"
   },
   {
    "duration": 11,
    "start_time": "2024-05-24T01:52:44.523Z"
   },
   {
    "duration": 10,
    "start_time": "2024-05-24T01:52:44.536Z"
   },
   {
    "duration": 830,
    "start_time": "2024-05-24T01:52:44.548Z"
   },
   {
    "duration": 8,
    "start_time": "2024-05-24T01:52:45.382Z"
   },
   {
    "duration": 19,
    "start_time": "2024-05-24T01:52:45.393Z"
   },
   {
    "duration": 25,
    "start_time": "2024-05-24T01:52:45.414Z"
   },
   {
    "duration": 4,
    "start_time": "2024-05-24T01:52:45.441Z"
   },
   {
    "duration": 35,
    "start_time": "2024-05-24T01:52:45.447Z"
   },
   {
    "duration": 5,
    "start_time": "2024-05-24T01:52:45.483Z"
   },
   {
    "duration": 247,
    "start_time": "2024-05-24T01:52:45.489Z"
   },
   {
    "duration": 321,
    "start_time": "2024-05-24T01:52:45.738Z"
   },
   {
    "duration": 165,
    "start_time": "2024-05-24T01:52:46.061Z"
   },
   {
    "duration": 163,
    "start_time": "2024-05-24T01:52:46.228Z"
   },
   {
    "duration": 11,
    "start_time": "2024-05-24T01:52:46.393Z"
   },
   {
    "duration": 34839,
    "start_time": "2024-05-24T01:52:46.406Z"
   },
   {
    "duration": 763,
    "start_time": "2024-05-24T01:53:21.247Z"
   },
   {
    "duration": 370,
    "start_time": "2024-05-24T01:53:22.012Z"
   },
   {
    "duration": 2000,
    "start_time": "2024-05-24T01:53:22.384Z"
   },
   {
    "duration": 97,
    "start_time": "2024-05-24T01:53:24.387Z"
   },
   {
    "duration": 3,
    "start_time": "2024-05-24T01:53:24.485Z"
   },
   {
    "duration": 3,
    "start_time": "2024-05-24T01:53:24.490Z"
   },
   {
    "duration": 4,
    "start_time": "2024-05-24T01:53:24.494Z"
   },
   {
    "duration": 5,
    "start_time": "2024-05-24T01:53:24.499Z"
   },
   {
    "duration": 5,
    "start_time": "2024-05-24T01:53:24.505Z"
   },
   {
    "duration": 278480,
    "start_time": "2024-05-24T01:53:24.511Z"
   },
   {
    "duration": 21,
    "start_time": "2024-05-24T01:58:02.992Z"
   },
   {
    "duration": 3,
    "start_time": "2024-05-24T01:58:03.015Z"
   },
   {
    "duration": 255,
    "start_time": "2024-05-24T01:58:03.019Z"
   },
   {
    "duration": 16,
    "start_time": "2024-05-24T01:58:03.282Z"
   },
   {
    "duration": 5,
    "start_time": "2024-05-24T01:58:03.383Z"
   },
   {
    "duration": 7,
    "start_time": "2024-05-24T01:58:03.390Z"
   },
   {
    "duration": 5033,
    "start_time": "2024-05-24T12:18:45.892Z"
   },
   {
    "duration": 7209,
    "start_time": "2024-05-24T12:18:50.927Z"
   },
   {
    "duration": 4566,
    "start_time": "2024-05-24T12:18:58.137Z"
   },
   {
    "duration": 21393,
    "start_time": "2024-05-24T12:19:02.706Z"
   },
   {
    "duration": 1762,
    "start_time": "2024-05-24T12:19:24.102Z"
   },
   {
    "duration": 0,
    "start_time": "2024-05-24T12:19:25.866Z"
   },
   {
    "duration": 0,
    "start_time": "2024-05-24T12:19:25.868Z"
   },
   {
    "duration": 0,
    "start_time": "2024-05-24T12:19:25.869Z"
   },
   {
    "duration": 0,
    "start_time": "2024-05-24T12:19:25.870Z"
   },
   {
    "duration": 0,
    "start_time": "2024-05-24T12:19:25.871Z"
   },
   {
    "duration": 0,
    "start_time": "2024-05-24T12:19:25.872Z"
   },
   {
    "duration": 0,
    "start_time": "2024-05-24T12:19:25.873Z"
   },
   {
    "duration": 0,
    "start_time": "2024-05-24T12:19:25.874Z"
   },
   {
    "duration": 0,
    "start_time": "2024-05-24T12:19:25.875Z"
   },
   {
    "duration": 0,
    "start_time": "2024-05-24T12:19:25.877Z"
   },
   {
    "duration": 0,
    "start_time": "2024-05-24T12:19:25.878Z"
   },
   {
    "duration": 0,
    "start_time": "2024-05-24T12:19:25.879Z"
   },
   {
    "duration": 0,
    "start_time": "2024-05-24T12:19:25.880Z"
   },
   {
    "duration": 0,
    "start_time": "2024-05-24T12:19:25.881Z"
   },
   {
    "duration": 0,
    "start_time": "2024-05-24T12:19:25.882Z"
   },
   {
    "duration": 0,
    "start_time": "2024-05-24T12:19:25.883Z"
   },
   {
    "duration": 0,
    "start_time": "2024-05-24T12:19:25.884Z"
   },
   {
    "duration": 0,
    "start_time": "2024-05-24T12:19:25.885Z"
   },
   {
    "duration": 0,
    "start_time": "2024-05-24T12:19:25.886Z"
   },
   {
    "duration": 0,
    "start_time": "2024-05-24T12:19:25.888Z"
   },
   {
    "duration": 0,
    "start_time": "2024-05-24T12:19:25.889Z"
   },
   {
    "duration": 0,
    "start_time": "2024-05-24T12:19:25.890Z"
   },
   {
    "duration": 0,
    "start_time": "2024-05-24T12:19:25.891Z"
   },
   {
    "duration": 0,
    "start_time": "2024-05-24T12:19:25.892Z"
   },
   {
    "duration": 0,
    "start_time": "2024-05-24T12:19:25.893Z"
   },
   {
    "duration": 0,
    "start_time": "2024-05-24T12:19:25.894Z"
   },
   {
    "duration": 0,
    "start_time": "2024-05-24T12:19:25.895Z"
   },
   {
    "duration": 0,
    "start_time": "2024-05-24T12:19:25.946Z"
   },
   {
    "duration": 0,
    "start_time": "2024-05-24T12:19:25.947Z"
   },
   {
    "duration": 0,
    "start_time": "2024-05-24T12:19:25.948Z"
   },
   {
    "duration": 0,
    "start_time": "2024-05-24T12:19:25.949Z"
   },
   {
    "duration": 0,
    "start_time": "2024-05-24T12:19:25.951Z"
   },
   {
    "duration": 0,
    "start_time": "2024-05-24T12:19:25.952Z"
   },
   {
    "duration": 0,
    "start_time": "2024-05-24T12:19:25.953Z"
   },
   {
    "duration": 0,
    "start_time": "2024-05-24T12:19:25.955Z"
   },
   {
    "duration": 2097,
    "start_time": "2024-05-24T12:21:13.953Z"
   },
   {
    "duration": 2,
    "start_time": "2024-05-24T12:21:58.055Z"
   },
   {
    "duration": 2,
    "start_time": "2024-05-24T12:21:58.439Z"
   },
   {
    "duration": 41,
    "start_time": "2024-05-24T12:21:59.455Z"
   },
   {
    "duration": 11,
    "start_time": "2024-05-24T12:21:59.982Z"
   },
   {
    "duration": 11,
    "start_time": "2024-05-24T12:22:00.559Z"
   },
   {
    "duration": 3,
    "start_time": "2024-05-24T12:22:00.906Z"
   },
   {
    "duration": 722,
    "start_time": "2024-05-24T12:22:01.565Z"
   },
   {
    "duration": 9,
    "start_time": "2024-05-24T12:22:02.725Z"
   },
   {
    "duration": 4,
    "start_time": "2024-05-24T12:22:03.311Z"
   },
   {
    "duration": 15,
    "start_time": "2024-05-24T12:22:03.935Z"
   },
   {
    "duration": 4,
    "start_time": "2024-05-24T12:22:05.069Z"
   },
   {
    "duration": 29,
    "start_time": "2024-05-24T12:22:05.574Z"
   },
   {
    "duration": 3,
    "start_time": "2024-05-24T12:22:06.430Z"
   },
   {
    "duration": 216,
    "start_time": "2024-05-24T12:22:06.741Z"
   },
   {
    "duration": 247,
    "start_time": "2024-05-24T12:22:07.022Z"
   },
   {
    "duration": 141,
    "start_time": "2024-05-24T12:22:07.369Z"
   },
   {
    "duration": 142,
    "start_time": "2024-05-24T12:22:07.678Z"
   },
   {
    "duration": 7,
    "start_time": "2024-05-24T12:22:08.351Z"
   },
   {
    "duration": 31700,
    "start_time": "2024-05-24T12:22:08.839Z"
   },
   {
    "duration": 693,
    "start_time": "2024-05-24T12:22:40.544Z"
   },
   {
    "duration": 323,
    "start_time": "2024-05-24T12:22:41.238Z"
   },
   {
    "duration": 1783,
    "start_time": "2024-05-24T12:22:41.563Z"
   },
   {
    "duration": 98,
    "start_time": "2024-05-24T12:22:43.349Z"
   },
   {
    "duration": 3,
    "start_time": "2024-05-24T12:22:43.449Z"
   },
   {
    "duration": 17,
    "start_time": "2024-05-24T12:22:43.453Z"
   },
   {
    "duration": 13,
    "start_time": "2024-05-24T12:22:43.471Z"
   },
   {
    "duration": 17,
    "start_time": "2024-05-24T12:22:43.486Z"
   },
   {
    "duration": 28,
    "start_time": "2024-05-24T12:22:43.506Z"
   },
   {
    "duration": 285823,
    "start_time": "2024-05-24T12:22:43.536Z"
   },
   {
    "duration": 87,
    "start_time": "2024-05-24T12:27:29.361Z"
   },
   {
    "duration": 3,
    "start_time": "2024-05-24T12:27:29.449Z"
   },
   {
    "duration": 162,
    "start_time": "2024-05-24T12:27:29.453Z"
   },
   {
    "duration": 37,
    "start_time": "2024-05-24T12:27:29.617Z"
   },
   {
    "duration": 5,
    "start_time": "2024-05-24T12:27:29.656Z"
   },
   {
    "duration": 5,
    "start_time": "2024-05-24T12:27:29.662Z"
   },
   {
    "duration": 5530,
    "start_time": "2024-05-24T14:58:13.216Z"
   },
   {
    "duration": 7697,
    "start_time": "2024-05-24T14:58:18.749Z"
   },
   {
    "duration": 18029,
    "start_time": "2024-05-24T14:58:26.449Z"
   },
   {
    "duration": 1453,
    "start_time": "2024-05-24T14:58:44.480Z"
   },
   {
    "duration": 0,
    "start_time": "2024-05-24T14:58:45.936Z"
   },
   {
    "duration": 0,
    "start_time": "2024-05-24T14:58:45.937Z"
   },
   {
    "duration": 0,
    "start_time": "2024-05-24T14:58:45.938Z"
   },
   {
    "duration": 0,
    "start_time": "2024-05-24T14:58:45.939Z"
   },
   {
    "duration": 0,
    "start_time": "2024-05-24T14:58:45.940Z"
   },
   {
    "duration": 0,
    "start_time": "2024-05-24T14:58:45.941Z"
   },
   {
    "duration": 0,
    "start_time": "2024-05-24T14:58:45.942Z"
   },
   {
    "duration": 0,
    "start_time": "2024-05-24T14:58:45.943Z"
   },
   {
    "duration": 0,
    "start_time": "2024-05-24T14:58:45.945Z"
   },
   {
    "duration": 0,
    "start_time": "2024-05-24T14:58:45.946Z"
   },
   {
    "duration": 0,
    "start_time": "2024-05-24T14:58:45.960Z"
   },
   {
    "duration": 0,
    "start_time": "2024-05-24T14:58:45.963Z"
   },
   {
    "duration": 0,
    "start_time": "2024-05-24T14:58:45.965Z"
   },
   {
    "duration": 0,
    "start_time": "2024-05-24T14:58:45.966Z"
   },
   {
    "duration": 0,
    "start_time": "2024-05-24T14:58:45.967Z"
   },
   {
    "duration": 0,
    "start_time": "2024-05-24T14:58:45.968Z"
   },
   {
    "duration": 0,
    "start_time": "2024-05-24T14:58:45.969Z"
   },
   {
    "duration": 0,
    "start_time": "2024-05-24T14:58:45.971Z"
   },
   {
    "duration": 0,
    "start_time": "2024-05-24T14:58:45.972Z"
   },
   {
    "duration": 0,
    "start_time": "2024-05-24T14:58:45.973Z"
   },
   {
    "duration": 0,
    "start_time": "2024-05-24T14:58:45.974Z"
   },
   {
    "duration": 1,
    "start_time": "2024-05-24T14:58:45.975Z"
   },
   {
    "duration": 0,
    "start_time": "2024-05-24T14:58:45.977Z"
   },
   {
    "duration": 0,
    "start_time": "2024-05-24T14:58:45.978Z"
   },
   {
    "duration": 0,
    "start_time": "2024-05-24T14:58:45.979Z"
   },
   {
    "duration": 0,
    "start_time": "2024-05-24T14:58:45.980Z"
   },
   {
    "duration": 0,
    "start_time": "2024-05-24T14:58:45.982Z"
   },
   {
    "duration": 0,
    "start_time": "2024-05-24T14:58:45.983Z"
   },
   {
    "duration": 0,
    "start_time": "2024-05-24T14:58:45.984Z"
   },
   {
    "duration": 0,
    "start_time": "2024-05-24T14:58:45.985Z"
   },
   {
    "duration": 0,
    "start_time": "2024-05-24T14:58:45.987Z"
   },
   {
    "duration": 0,
    "start_time": "2024-05-24T14:58:45.987Z"
   },
   {
    "duration": 0,
    "start_time": "2024-05-24T14:58:45.989Z"
   },
   {
    "duration": 0,
    "start_time": "2024-05-24T14:58:45.990Z"
   },
   {
    "duration": 0,
    "start_time": "2024-05-24T14:58:45.991Z"
   },
   {
    "duration": 0,
    "start_time": "2024-05-24T14:58:45.993Z"
   },
   {
    "duration": 2866,
    "start_time": "2024-05-24T15:00:52.144Z"
   },
   {
    "duration": 694,
    "start_time": "2024-05-24T15:00:55.013Z"
   },
   {
    "duration": 2,
    "start_time": "2024-05-24T15:00:55.709Z"
   },
   {
    "duration": 13,
    "start_time": "2024-05-24T15:00:55.713Z"
   },
   {
    "duration": 107,
    "start_time": "2024-05-24T15:00:55.727Z"
   },
   {
    "duration": 10,
    "start_time": "2024-05-24T15:00:55.836Z"
   },
   {
    "duration": 10,
    "start_time": "2024-05-24T15:00:55.848Z"
   },
   {
    "duration": 4,
    "start_time": "2024-05-24T15:00:55.859Z"
   },
   {
    "duration": 718,
    "start_time": "2024-05-24T15:00:55.864Z"
   },
   {
    "duration": 9,
    "start_time": "2024-05-24T15:00:56.585Z"
   },
   {
    "duration": 19,
    "start_time": "2024-05-24T15:00:56.595Z"
   },
   {
    "duration": 43,
    "start_time": "2024-05-24T15:00:56.615Z"
   },
   {
    "duration": 5,
    "start_time": "2024-05-24T15:00:56.660Z"
   },
   {
    "duration": 39,
    "start_time": "2024-05-24T15:00:56.667Z"
   },
   {
    "duration": 4,
    "start_time": "2024-05-24T15:00:56.708Z"
   },
   {
    "duration": 233,
    "start_time": "2024-05-24T15:00:56.714Z"
   },
   {
    "duration": 61,
    "start_time": "2024-05-24T15:00:56.949Z"
   },
   {
    "duration": 0,
    "start_time": "2024-05-24T15:00:57.012Z"
   },
   {
    "duration": 0,
    "start_time": "2024-05-24T15:00:57.015Z"
   },
   {
    "duration": 0,
    "start_time": "2024-05-24T15:00:57.017Z"
   },
   {
    "duration": 0,
    "start_time": "2024-05-24T15:00:57.018Z"
   },
   {
    "duration": 0,
    "start_time": "2024-05-24T15:00:57.019Z"
   },
   {
    "duration": 0,
    "start_time": "2024-05-24T15:00:57.020Z"
   },
   {
    "duration": 0,
    "start_time": "2024-05-24T15:00:57.021Z"
   },
   {
    "duration": 0,
    "start_time": "2024-05-24T15:00:57.023Z"
   },
   {
    "duration": 0,
    "start_time": "2024-05-24T15:00:57.024Z"
   },
   {
    "duration": 0,
    "start_time": "2024-05-24T15:00:57.026Z"
   },
   {
    "duration": 0,
    "start_time": "2024-05-24T15:00:57.027Z"
   },
   {
    "duration": 0,
    "start_time": "2024-05-24T15:00:57.028Z"
   },
   {
    "duration": 0,
    "start_time": "2024-05-24T15:00:57.060Z"
   },
   {
    "duration": 0,
    "start_time": "2024-05-24T15:00:57.062Z"
   },
   {
    "duration": 0,
    "start_time": "2024-05-24T15:00:57.063Z"
   },
   {
    "duration": 0,
    "start_time": "2024-05-24T15:00:57.064Z"
   },
   {
    "duration": 0,
    "start_time": "2024-05-24T15:00:57.065Z"
   },
   {
    "duration": 0,
    "start_time": "2024-05-24T15:00:57.067Z"
   },
   {
    "duration": 0,
    "start_time": "2024-05-24T15:00:57.068Z"
   },
   {
    "duration": 0,
    "start_time": "2024-05-24T15:00:57.069Z"
   },
   {
    "duration": 0,
    "start_time": "2024-05-24T15:00:57.070Z"
   },
   {
    "duration": 2,
    "start_time": "2024-05-24T15:02:09.616Z"
   },
   {
    "duration": 2,
    "start_time": "2024-05-24T15:02:16.929Z"
   },
   {
    "duration": 148,
    "start_time": "2024-05-24T15:02:22.993Z"
   },
   {
    "duration": 3,
    "start_time": "2024-05-24T15:02:30.755Z"
   },
   {
    "duration": 7,
    "start_time": "2024-05-24T15:02:32.338Z"
   },
   {
    "duration": 23696,
    "start_time": "2024-05-24T15:02:36.560Z"
   },
   {
    "duration": 992,
    "start_time": "2024-05-24T15:03:17.458Z"
   },
   {
    "duration": 364,
    "start_time": "2024-05-24T15:03:51.745Z"
   },
   {
    "duration": 354,
    "start_time": "2024-05-24T15:04:26.147Z"
   },
   {
    "duration": 1735,
    "start_time": "2024-05-24T15:04:35.426Z"
   },
   {
    "duration": 10,
    "start_time": "2024-05-24T15:04:42.994Z"
   },
   {
    "duration": 2,
    "start_time": "2024-05-24T15:04:44.850Z"
   },
   {
    "duration": 2,
    "start_time": "2024-05-24T15:04:46.466Z"
   },
   {
    "duration": 3,
    "start_time": "2024-05-24T15:04:48.914Z"
   },
   {
    "duration": 4,
    "start_time": "2024-05-24T15:04:50.616Z"
   },
   {
    "duration": 3,
    "start_time": "2024-05-24T15:04:55.939Z"
   },
   {
    "duration": 285668,
    "start_time": "2024-05-24T15:04:56.993Z"
   },
   {
    "duration": 22,
    "start_time": "2024-05-24T15:09:42.663Z"
   },
   {
    "duration": 3,
    "start_time": "2024-05-24T15:09:42.687Z"
   },
   {
    "duration": 170,
    "start_time": "2024-05-24T15:09:42.692Z"
   },
   {
    "duration": 5,
    "start_time": "2024-05-24T15:09:42.864Z"
   },
   {
    "duration": 12,
    "start_time": "2024-05-24T15:09:42.871Z"
   },
   {
    "duration": 15,
    "start_time": "2024-05-24T15:09:42.885Z"
   },
   {
    "duration": 334,
    "start_time": "2024-05-24T15:09:42.902Z"
   },
   {
    "duration": 264,
    "start_time": "2024-05-24T15:11:24.563Z"
   },
   {
    "duration": 279,
    "start_time": "2024-05-24T15:11:41.347Z"
   },
   {
    "duration": 297,
    "start_time": "2024-05-24T15:11:46.903Z"
   },
   {
    "duration": 697,
    "start_time": "2024-05-24T15:54:48.394Z"
   },
   {
    "duration": 627,
    "start_time": "2024-05-24T15:55:00.826Z"
   },
   {
    "duration": 4,
    "start_time": "2024-05-24T15:59:58.840Z"
   },
   {
    "duration": 3,
    "start_time": "2024-05-24T16:00:35.834Z"
   },
   {
    "duration": 4,
    "start_time": "2024-05-24T16:00:36.874Z"
   },
   {
    "duration": 3,
    "start_time": "2024-05-24T16:00:39.210Z"
   },
   {
    "duration": 9441,
    "start_time": "2024-05-24T16:00:40.857Z"
   },
   {
    "duration": 3,
    "start_time": "2024-05-24T16:06:13.519Z"
   },
   {
    "duration": 3,
    "start_time": "2024-05-24T16:06:14.237Z"
   },
   {
    "duration": 5,
    "start_time": "2024-05-24T16:06:14.766Z"
   },
   {
    "duration": 3,
    "start_time": "2024-05-24T16:06:21.280Z"
   },
   {
    "duration": 9362,
    "start_time": "2024-05-24T16:06:22.031Z"
   },
   {
    "duration": 3,
    "start_time": "2024-05-24T16:07:56.303Z"
   },
   {
    "duration": 3,
    "start_time": "2024-05-24T16:07:56.689Z"
   },
   {
    "duration": 4,
    "start_time": "2024-05-24T16:07:56.977Z"
   },
   {
    "duration": 3,
    "start_time": "2024-05-24T16:07:58.000Z"
   },
   {
    "duration": 9151,
    "start_time": "2024-05-24T16:07:59.295Z"
   },
   {
    "duration": 3,
    "start_time": "2024-05-24T16:09:40.017Z"
   },
   {
    "duration": 2,
    "start_time": "2024-05-24T16:09:40.242Z"
   },
   {
    "duration": 5,
    "start_time": "2024-05-24T16:09:40.463Z"
   },
   {
    "duration": 2,
    "start_time": "2024-05-24T16:09:44.930Z"
   },
   {
    "duration": 20,
    "start_time": "2024-05-24T16:09:45.365Z"
   },
   {
    "duration": 3,
    "start_time": "2024-05-24T16:10:53.507Z"
   },
   {
    "duration": 3,
    "start_time": "2024-05-24T16:10:53.841Z"
   },
   {
    "duration": 5,
    "start_time": "2024-05-24T16:10:54.162Z"
   },
   {
    "duration": 3,
    "start_time": "2024-05-24T16:10:55.379Z"
   },
   {
    "duration": 90996,
    "start_time": "2024-05-24T16:11:03.699Z"
   },
   {
    "duration": 886,
    "start_time": "2024-05-24T16:12:51.692Z"
   },
   {
    "duration": 23,
    "start_time": "2024-05-24T16:13:04.723Z"
   },
   {
    "duration": 7,
    "start_time": "2024-05-24T16:25:32.960Z"
   },
   {
    "duration": 4,
    "start_time": "2024-05-24T16:26:36.049Z"
   },
   {
    "duration": 25,
    "start_time": "2024-05-24T16:26:44.225Z"
   },
   {
    "duration": 310,
    "start_time": "2024-05-24T16:26:44.993Z"
   },
   {
    "duration": 347,
    "start_time": "2024-05-24T16:27:16.402Z"
   },
   {
    "duration": 9,
    "start_time": "2024-05-24T16:27:47.186Z"
   },
   {
    "duration": 3,
    "start_time": "2024-05-24T16:27:48.017Z"
   },
   {
    "duration": 3,
    "start_time": "2024-05-24T16:27:48.225Z"
   },
   {
    "duration": 3,
    "start_time": "2024-05-24T16:27:48.609Z"
   },
   {
    "duration": 2,
    "start_time": "2024-05-24T16:27:48.786Z"
   },
   {
    "duration": 5,
    "start_time": "2024-05-24T16:27:48.962Z"
   },
   {
    "duration": 4,
    "start_time": "2024-05-24T16:27:50.561Z"
   },
   {
    "duration": 173786,
    "start_time": "2024-05-24T16:27:51.090Z"
   },
   {
    "duration": 23,
    "start_time": "2024-05-24T16:32:29.530Z"
   },
   {
    "duration": 6,
    "start_time": "2024-05-24T16:33:09.616Z"
   },
   {
    "duration": 4,
    "start_time": "2024-05-24T16:33:10.160Z"
   },
   {
    "duration": 4,
    "start_time": "2024-05-24T16:33:23.777Z"
   },
   {
    "duration": 5,
    "start_time": "2024-05-24T16:33:27.602Z"
   },
   {
    "duration": 5,
    "start_time": "2024-05-24T16:33:28.049Z"
   },
   {
    "duration": 259,
    "start_time": "2024-05-24T16:33:34.336Z"
   },
   {
    "duration": 128,
    "start_time": "2024-05-24T16:41:03.382Z"
   },
   {
    "duration": 128,
    "start_time": "2024-05-24T16:41:10.437Z"
   },
   {
    "duration": 157,
    "start_time": "2024-05-24T16:41:44.103Z"
   },
   {
    "duration": 4,
    "start_time": "2024-05-24T16:48:13.263Z"
   },
   {
    "duration": 16,
    "start_time": "2024-05-24T16:52:30.155Z"
   },
   {
    "duration": 5,
    "start_time": "2024-05-24T16:53:13.786Z"
   },
   {
    "duration": 4,
    "start_time": "2024-05-24T16:53:23.890Z"
   },
   {
    "duration": 2,
    "start_time": "2024-05-24T16:53:24.987Z"
   },
   {
    "duration": 2,
    "start_time": "2024-05-24T16:53:25.755Z"
   },
   {
    "duration": 4,
    "start_time": "2024-05-24T16:53:29.195Z"
   },
   {
    "duration": 3,
    "start_time": "2024-05-24T16:53:32.603Z"
   },
   {
    "duration": 179402,
    "start_time": "2024-05-24T16:53:34.299Z"
   },
   {
    "duration": 30,
    "start_time": "2024-05-24T16:58:39.014Z"
   },
   {
    "duration": 3,
    "start_time": "2024-05-24T16:58:47.648Z"
   },
   {
    "duration": 4,
    "start_time": "2024-05-24T16:58:54.991Z"
   },
   {
    "duration": 5,
    "start_time": "2024-05-24T16:58:56.718Z"
   },
   {
    "duration": 256,
    "start_time": "2024-05-24T17:00:01.217Z"
   },
   {
    "duration": 154,
    "start_time": "2024-05-24T17:00:06.656Z"
   },
   {
    "duration": 346,
    "start_time": "2024-05-24T17:01:46.915Z"
   },
   {
    "duration": 313,
    "start_time": "2024-05-24T17:02:01.010Z"
   },
   {
    "duration": 310,
    "start_time": "2024-05-24T17:02:30.570Z"
   },
   {
    "duration": 278,
    "start_time": "2024-05-24T17:08:21.657Z"
   },
   {
    "duration": 161,
    "start_time": "2024-05-24T17:09:55.261Z"
   },
   {
    "duration": 174,
    "start_time": "2024-05-24T17:10:26.941Z"
   },
   {
    "duration": 163,
    "start_time": "2024-05-24T17:10:40.973Z"
   },
   {
    "duration": 155,
    "start_time": "2024-05-24T17:12:37.487Z"
   },
   {
    "duration": 174,
    "start_time": "2024-05-24T17:12:52.416Z"
   },
   {
    "duration": 4,
    "start_time": "2024-05-24T17:15:53.458Z"
   },
   {
    "duration": 82,
    "start_time": "2024-05-24T17:15:54.114Z"
   },
   {
    "duration": 82,
    "start_time": "2024-05-24T17:27:33.568Z"
   },
   {
    "duration": 9,
    "start_time": "2024-05-24T17:39:05.512Z"
   },
   {
    "duration": 163,
    "start_time": "2024-05-24T17:40:53.115Z"
   },
   {
    "duration": 173,
    "start_time": "2024-05-24T17:44:30.508Z"
   },
   {
    "duration": 177,
    "start_time": "2024-05-24T17:46:24.671Z"
   },
   {
    "duration": 193,
    "start_time": "2024-05-24T17:52:05.891Z"
   },
   {
    "duration": 199,
    "start_time": "2024-05-24T17:52:33.892Z"
   },
   {
    "duration": 8,
    "start_time": "2024-05-24T17:55:06.438Z"
   },
   {
    "duration": 15,
    "start_time": "2024-05-24T17:55:41.767Z"
   },
   {
    "duration": 12,
    "start_time": "2024-05-24T17:56:08.568Z"
   },
   {
    "duration": 15,
    "start_time": "2024-05-24T17:56:29.865Z"
   },
   {
    "duration": 16,
    "start_time": "2024-05-24T17:56:45.769Z"
   },
   {
    "duration": 6,
    "start_time": "2024-05-24T17:59:32.075Z"
   },
   {
    "duration": 12,
    "start_time": "2024-05-24T17:59:33.306Z"
   },
   {
    "duration": 5,
    "start_time": "2024-05-24T18:00:36.747Z"
   },
   {
    "duration": 580,
    "start_time": "2024-05-24T18:00:40.460Z"
   },
   {
    "duration": 827,
    "start_time": "2024-05-24T18:00:52.459Z"
   },
   {
    "duration": 1662,
    "start_time": "2024-05-24T18:06:27.008Z"
   },
   {
    "duration": 62,
    "start_time": "2024-05-24T18:08:22.339Z"
   },
   {
    "duration": 286,
    "start_time": "2024-05-24T18:12:10.260Z"
   },
   {
    "duration": 288,
    "start_time": "2024-05-24T18:12:29.924Z"
   },
   {
    "duration": 284,
    "start_time": "2024-05-24T18:12:40.452Z"
   },
   {
    "duration": 300,
    "start_time": "2024-05-24T18:12:46.572Z"
   },
   {
    "duration": 287,
    "start_time": "2024-05-24T18:13:06.374Z"
   },
   {
    "duration": 290,
    "start_time": "2024-05-24T18:13:14.085Z"
   },
   {
    "duration": 291,
    "start_time": "2024-05-24T18:14:42.678Z"
   },
   {
    "duration": 2794,
    "start_time": "2024-05-24T18:15:37.103Z"
   },
   {
    "duration": 2849,
    "start_time": "2024-05-24T18:15:39.899Z"
   },
   {
    "duration": 2869,
    "start_time": "2024-05-24T18:15:42.749Z"
   },
   {
    "duration": 1742,
    "start_time": "2024-05-24T18:15:45.620Z"
   },
   {
    "duration": 3,
    "start_time": "2024-05-24T18:15:47.364Z"
   },
   {
    "duration": 5,
    "start_time": "2024-05-24T18:15:47.368Z"
   },
   {
    "duration": 70,
    "start_time": "2024-05-24T18:15:47.375Z"
   },
   {
    "duration": 10,
    "start_time": "2024-05-24T18:15:47.446Z"
   },
   {
    "duration": 12,
    "start_time": "2024-05-24T18:15:47.458Z"
   },
   {
    "duration": 4,
    "start_time": "2024-05-24T18:15:47.473Z"
   },
   {
    "duration": 698,
    "start_time": "2024-05-24T18:15:47.478Z"
   },
   {
    "duration": 8,
    "start_time": "2024-05-24T18:15:48.177Z"
   },
   {
    "duration": 2,
    "start_time": "2024-05-24T18:15:48.187Z"
   },
   {
    "duration": 6,
    "start_time": "2024-05-24T18:15:48.190Z"
   },
   {
    "duration": 3,
    "start_time": "2024-05-24T18:15:48.197Z"
   },
   {
    "duration": 143,
    "start_time": "2024-05-24T18:15:48.202Z"
   },
   {
    "duration": 0,
    "start_time": "2024-05-24T18:15:48.347Z"
   },
   {
    "duration": 0,
    "start_time": "2024-05-24T18:15:48.348Z"
   },
   {
    "duration": 0,
    "start_time": "2024-05-24T18:15:48.349Z"
   },
   {
    "duration": 0,
    "start_time": "2024-05-24T18:15:48.350Z"
   },
   {
    "duration": 0,
    "start_time": "2024-05-24T18:15:48.351Z"
   },
   {
    "duration": 0,
    "start_time": "2024-05-24T18:15:48.361Z"
   },
   {
    "duration": 0,
    "start_time": "2024-05-24T18:15:48.362Z"
   },
   {
    "duration": 0,
    "start_time": "2024-05-24T18:15:48.363Z"
   },
   {
    "duration": 0,
    "start_time": "2024-05-24T18:15:48.364Z"
   },
   {
    "duration": 0,
    "start_time": "2024-05-24T18:15:48.366Z"
   },
   {
    "duration": 0,
    "start_time": "2024-05-24T18:15:48.367Z"
   },
   {
    "duration": 0,
    "start_time": "2024-05-24T18:15:48.368Z"
   },
   {
    "duration": 0,
    "start_time": "2024-05-24T18:15:48.369Z"
   },
   {
    "duration": 0,
    "start_time": "2024-05-24T18:15:48.370Z"
   },
   {
    "duration": 0,
    "start_time": "2024-05-24T18:15:48.371Z"
   },
   {
    "duration": 0,
    "start_time": "2024-05-24T18:15:48.372Z"
   },
   {
    "duration": 0,
    "start_time": "2024-05-24T18:15:48.373Z"
   },
   {
    "duration": 0,
    "start_time": "2024-05-24T18:15:48.374Z"
   },
   {
    "duration": 0,
    "start_time": "2024-05-24T18:15:48.375Z"
   },
   {
    "duration": 0,
    "start_time": "2024-05-24T18:15:48.376Z"
   },
   {
    "duration": 0,
    "start_time": "2024-05-24T18:15:48.377Z"
   },
   {
    "duration": 0,
    "start_time": "2024-05-24T18:15:48.378Z"
   },
   {
    "duration": 0,
    "start_time": "2024-05-24T18:15:48.379Z"
   },
   {
    "duration": 0,
    "start_time": "2024-05-24T18:15:48.380Z"
   },
   {
    "duration": 0,
    "start_time": "2024-05-24T18:15:48.381Z"
   },
   {
    "duration": 0,
    "start_time": "2024-05-24T18:15:48.383Z"
   },
   {
    "duration": 0,
    "start_time": "2024-05-24T18:15:48.384Z"
   },
   {
    "duration": 0,
    "start_time": "2024-05-24T18:15:48.385Z"
   },
   {
    "duration": 0,
    "start_time": "2024-05-24T18:15:48.386Z"
   },
   {
    "duration": 6,
    "start_time": "2024-05-24T18:17:55.640Z"
   },
   {
    "duration": 4,
    "start_time": "2024-05-24T18:18:04.340Z"
   },
   {
    "duration": 23,
    "start_time": "2024-05-24T18:18:04.346Z"
   },
   {
    "duration": 11,
    "start_time": "2024-05-24T18:18:04.370Z"
   },
   {
    "duration": 26,
    "start_time": "2024-05-24T18:18:04.382Z"
   },
   {
    "duration": 0,
    "start_time": "2024-05-24T18:18:04.410Z"
   },
   {
    "duration": 0,
    "start_time": "2024-05-24T18:18:04.411Z"
   },
   {
    "duration": 0,
    "start_time": "2024-05-24T18:18:04.412Z"
   },
   {
    "duration": 0,
    "start_time": "2024-05-24T18:18:04.413Z"
   },
   {
    "duration": 0,
    "start_time": "2024-05-24T18:18:04.414Z"
   },
   {
    "duration": 0,
    "start_time": "2024-05-24T18:18:04.415Z"
   },
   {
    "duration": 0,
    "start_time": "2024-05-24T18:18:04.416Z"
   },
   {
    "duration": 0,
    "start_time": "2024-05-24T18:18:04.418Z"
   },
   {
    "duration": 0,
    "start_time": "2024-05-24T18:18:04.418Z"
   },
   {
    "duration": 0,
    "start_time": "2024-05-24T18:18:04.420Z"
   },
   {
    "duration": 0,
    "start_time": "2024-05-24T18:18:04.421Z"
   },
   {
    "duration": 0,
    "start_time": "2024-05-24T18:18:04.422Z"
   },
   {
    "duration": 0,
    "start_time": "2024-05-24T18:18:04.423Z"
   },
   {
    "duration": 0,
    "start_time": "2024-05-24T18:18:04.423Z"
   },
   {
    "duration": 0,
    "start_time": "2024-05-24T18:18:04.424Z"
   },
   {
    "duration": 0,
    "start_time": "2024-05-24T18:18:04.460Z"
   },
   {
    "duration": 0,
    "start_time": "2024-05-24T18:18:04.462Z"
   },
   {
    "duration": 0,
    "start_time": "2024-05-24T18:18:04.462Z"
   },
   {
    "duration": 0,
    "start_time": "2024-05-24T18:18:04.464Z"
   },
   {
    "duration": 0,
    "start_time": "2024-05-24T18:18:04.464Z"
   },
   {
    "duration": 0,
    "start_time": "2024-05-24T18:18:04.466Z"
   },
   {
    "duration": 0,
    "start_time": "2024-05-24T18:18:04.467Z"
   },
   {
    "duration": 0,
    "start_time": "2024-05-24T18:18:04.468Z"
   },
   {
    "duration": 0,
    "start_time": "2024-05-24T18:18:04.468Z"
   },
   {
    "duration": 0,
    "start_time": "2024-05-24T18:18:04.470Z"
   },
   {
    "duration": 0,
    "start_time": "2024-05-24T18:18:04.471Z"
   },
   {
    "duration": 12,
    "start_time": "2024-05-24T18:18:04.474Z"
   },
   {
    "duration": 3,
    "start_time": "2024-05-24T18:20:48.958Z"
   },
   {
    "duration": 7,
    "start_time": "2024-05-24T18:23:14.479Z"
   },
   {
    "duration": 75,
    "start_time": "2024-05-24T18:24:16.945Z"
   },
   {
    "duration": 4,
    "start_time": "2024-05-24T18:24:26.288Z"
   },
   {
    "duration": 2803,
    "start_time": "2024-05-24T18:25:02.414Z"
   },
   {
    "duration": 2865,
    "start_time": "2024-05-24T18:25:05.219Z"
   },
   {
    "duration": 2801,
    "start_time": "2024-05-24T18:25:08.086Z"
   },
   {
    "duration": 1690,
    "start_time": "2024-05-24T18:25:10.889Z"
   },
   {
    "duration": 3,
    "start_time": "2024-05-24T18:25:12.581Z"
   },
   {
    "duration": 4,
    "start_time": "2024-05-24T18:25:12.585Z"
   },
   {
    "duration": 51,
    "start_time": "2024-05-24T18:25:12.590Z"
   },
   {
    "duration": 10,
    "start_time": "2024-05-24T18:25:12.643Z"
   },
   {
    "duration": 12,
    "start_time": "2024-05-24T18:25:12.655Z"
   },
   {
    "duration": 5,
    "start_time": "2024-05-24T18:25:12.669Z"
   },
   {
    "duration": 683,
    "start_time": "2024-05-24T18:25:12.675Z"
   },
   {
    "duration": 8,
    "start_time": "2024-05-24T18:25:13.360Z"
   },
   {
    "duration": 8,
    "start_time": "2024-05-24T18:25:13.369Z"
   },
   {
    "duration": 2,
    "start_time": "2024-05-24T18:25:13.379Z"
   },
   {
    "duration": 4,
    "start_time": "2024-05-24T18:25:13.382Z"
   },
   {
    "duration": 40,
    "start_time": "2024-05-24T18:25:13.388Z"
   },
   {
    "duration": 4,
    "start_time": "2024-05-24T18:25:13.429Z"
   },
   {
    "duration": 253,
    "start_time": "2024-05-24T18:25:13.435Z"
   },
   {
    "duration": 3,
    "start_time": "2024-05-24T18:25:13.689Z"
   },
   {
    "duration": 170,
    "start_time": "2024-05-24T18:25:13.693Z"
   },
   {
    "duration": 179,
    "start_time": "2024-05-24T18:25:13.865Z"
   },
   {
    "duration": 16,
    "start_time": "2024-05-24T18:25:14.046Z"
   },
   {
    "duration": 192,
    "start_time": "2024-05-24T18:25:14.064Z"
   },
   {
    "duration": 841,
    "start_time": "2024-05-24T18:25:14.261Z"
   },
   {
    "duration": 3,
    "start_time": "2024-05-24T18:25:15.104Z"
   },
   {
    "duration": 59,
    "start_time": "2024-05-24T18:25:15.109Z"
   },
   {
    "duration": 331,
    "start_time": "2024-05-24T18:25:15.170Z"
   },
   {
    "duration": 1766,
    "start_time": "2024-05-24T18:25:15.504Z"
   },
   {
    "duration": 100,
    "start_time": "2024-05-24T18:25:17.362Z"
   },
   {
    "duration": 3,
    "start_time": "2024-05-24T18:25:17.464Z"
   },
   {
    "duration": 4,
    "start_time": "2024-05-24T18:25:17.468Z"
   },
   {
    "duration": 4,
    "start_time": "2024-05-24T18:25:17.473Z"
   },
   {
    "duration": 4,
    "start_time": "2024-05-24T18:25:17.478Z"
   },
   {
    "duration": 3,
    "start_time": "2024-05-24T18:25:17.483Z"
   },
   {
    "duration": 7,
    "start_time": "2024-05-24T18:25:17.488Z"
   },
   {
    "duration": 19,
    "start_time": "2024-05-24T18:25:17.496Z"
   },
   {
    "duration": 7,
    "start_time": "2024-05-24T18:25:17.517Z"
   },
   {
    "duration": 179774,
    "start_time": "2024-05-24T18:25:17.526Z"
   },
   {
    "duration": 30,
    "start_time": "2024-05-24T18:28:17.302Z"
   },
   {
    "duration": 3,
    "start_time": "2024-05-24T18:28:17.333Z"
   },
   {
    "duration": 142,
    "start_time": "2024-05-24T18:28:17.338Z"
   },
   {
    "duration": 0,
    "start_time": "2024-05-24T18:28:17.481Z"
   },
   {
    "duration": 0,
    "start_time": "2024-05-24T18:28:17.483Z"
   },
   {
    "duration": 0,
    "start_time": "2024-05-24T18:28:17.484Z"
   },
   {
    "duration": 0,
    "start_time": "2024-05-24T18:28:17.486Z"
   },
   {
    "duration": 250,
    "start_time": "2024-05-24T18:29:49.604Z"
   },
   {
    "duration": 249,
    "start_time": "2024-05-24T18:32:07.335Z"
   },
   {
    "duration": 5,
    "start_time": "2024-05-24T18:34:08.696Z"
   },
   {
    "duration": 4,
    "start_time": "2024-05-24T18:34:09.415Z"
   },
   {
    "duration": 286,
    "start_time": "2024-05-24T18:34:14.279Z"
   },
   {
    "duration": 5,
    "start_time": "2024-05-24T18:40:27.565Z"
   },
   {
    "duration": 860,
    "start_time": "2024-05-24T18:44:51.265Z"
   },
   {
    "duration": 611,
    "start_time": "2024-05-24T18:45:37.216Z"
   },
   {
    "duration": 780,
    "start_time": "2024-05-24T18:49:48.052Z"
   },
   {
    "duration": 697,
    "start_time": "2024-05-24T18:50:08.010Z"
   },
   {
    "duration": 4,
    "start_time": "2024-05-24T19:07:36.995Z"
   },
   {
    "duration": 85,
    "start_time": "2024-05-24T19:07:37.937Z"
   },
   {
    "duration": 2755,
    "start_time": "2024-05-24T19:08:47.416Z"
   },
   {
    "duration": 2825,
    "start_time": "2024-05-24T19:08:50.173Z"
   },
   {
    "duration": 2760,
    "start_time": "2024-05-24T19:08:53.000Z"
   },
   {
    "duration": 1803,
    "start_time": "2024-05-24T19:08:55.763Z"
   },
   {
    "duration": 2,
    "start_time": "2024-05-24T19:08:57.569Z"
   },
   {
    "duration": 4,
    "start_time": "2024-05-24T19:08:57.573Z"
   },
   {
    "duration": 52,
    "start_time": "2024-05-24T19:08:57.578Z"
   },
   {
    "duration": 10,
    "start_time": "2024-05-24T19:08:57.632Z"
   },
   {
    "duration": 10,
    "start_time": "2024-05-24T19:08:57.643Z"
   },
   {
    "duration": 8,
    "start_time": "2024-05-24T19:08:57.654Z"
   },
   {
    "duration": 664,
    "start_time": "2024-05-24T19:08:57.663Z"
   },
   {
    "duration": 9,
    "start_time": "2024-05-24T19:08:58.328Z"
   },
   {
    "duration": 7,
    "start_time": "2024-05-24T19:08:58.339Z"
   },
   {
    "duration": 2,
    "start_time": "2024-05-24T19:08:58.360Z"
   },
   {
    "duration": 18,
    "start_time": "2024-05-24T19:08:58.364Z"
   },
   {
    "duration": 26,
    "start_time": "2024-05-24T19:08:58.384Z"
   },
   {
    "duration": 3,
    "start_time": "2024-05-24T19:08:58.412Z"
   },
   {
    "duration": 246,
    "start_time": "2024-05-24T19:08:58.417Z"
   },
   {
    "duration": 3,
    "start_time": "2024-05-24T19:08:58.664Z"
   },
   {
    "duration": 176,
    "start_time": "2024-05-24T19:08:58.668Z"
   },
   {
    "duration": 176,
    "start_time": "2024-05-24T19:08:58.847Z"
   },
   {
    "duration": 9,
    "start_time": "2024-05-24T19:08:59.025Z"
   },
   {
    "duration": 213,
    "start_time": "2024-05-24T19:08:59.035Z"
   },
   {
    "duration": 769,
    "start_time": "2024-05-24T19:08:59.249Z"
   },
   {
    "duration": 3,
    "start_time": "2024-05-24T19:09:00.020Z"
   },
   {
    "duration": 53,
    "start_time": "2024-05-24T19:09:00.025Z"
   },
   {
    "duration": 353,
    "start_time": "2024-05-24T19:09:00.079Z"
   },
   {
    "duration": 687,
    "start_time": "2024-05-24T19:09:00.434Z"
   },
   {
    "duration": 1939,
    "start_time": "2024-05-24T19:09:01.122Z"
   },
   {
    "duration": 99,
    "start_time": "2024-05-24T19:09:03.063Z"
   },
   {
    "duration": 4,
    "start_time": "2024-05-24T19:09:03.163Z"
   },
   {
    "duration": 10,
    "start_time": "2024-05-24T19:09:03.168Z"
   },
   {
    "duration": 6,
    "start_time": "2024-05-24T19:09:03.179Z"
   },
   {
    "duration": 6,
    "start_time": "2024-05-24T19:09:03.186Z"
   },
   {
    "duration": 5,
    "start_time": "2024-05-24T19:09:03.194Z"
   },
   {
    "duration": 6,
    "start_time": "2024-05-24T19:09:03.201Z"
   },
   {
    "duration": 16,
    "start_time": "2024-05-24T19:09:03.208Z"
   },
   {
    "duration": 10,
    "start_time": "2024-05-24T19:09:03.225Z"
   },
   {
    "duration": 176816,
    "start_time": "2024-05-24T19:09:03.236Z"
   },
   {
    "duration": 29,
    "start_time": "2024-05-24T19:12:00.053Z"
   },
   {
    "duration": 47,
    "start_time": "2024-05-24T19:12:00.086Z"
   },
   {
    "duration": 294,
    "start_time": "2024-05-24T19:12:00.135Z"
   },
   {
    "duration": 6,
    "start_time": "2024-05-24T19:12:00.431Z"
   },
   {
    "duration": 48,
    "start_time": "2024-05-24T19:12:00.438Z"
   },
   {
    "duration": 408,
    "start_time": "2024-05-24T19:12:00.487Z"
   },
   {
    "duration": 6,
    "start_time": "2024-05-24T19:12:00.897Z"
   },
   {
    "duration": 2799,
    "start_time": "2024-05-24T19:18:53.767Z"
   },
   {
    "duration": 2902,
    "start_time": "2024-05-24T19:18:56.568Z"
   },
   {
    "duration": 2931,
    "start_time": "2024-05-24T19:18:59.472Z"
   },
   {
    "duration": 1638,
    "start_time": "2024-05-24T19:19:02.405Z"
   },
   {
    "duration": 3,
    "start_time": "2024-05-24T19:19:04.046Z"
   },
   {
    "duration": 7,
    "start_time": "2024-05-24T19:19:04.051Z"
   },
   {
    "duration": 71,
    "start_time": "2024-05-24T19:19:04.059Z"
   },
   {
    "duration": 10,
    "start_time": "2024-05-24T19:19:04.132Z"
   },
   {
    "duration": 12,
    "start_time": "2024-05-24T19:19:04.144Z"
   },
   {
    "duration": 3,
    "start_time": "2024-05-24T19:19:04.159Z"
   },
   {
    "duration": 801,
    "start_time": "2024-05-24T19:19:04.164Z"
   },
   {
    "duration": 9,
    "start_time": "2024-05-24T19:19:04.967Z"
   },
   {
    "duration": 11,
    "start_time": "2024-05-24T19:19:04.977Z"
   },
   {
    "duration": 5,
    "start_time": "2024-05-24T19:19:04.989Z"
   },
   {
    "duration": 7,
    "start_time": "2024-05-24T19:19:04.995Z"
   },
   {
    "duration": 28,
    "start_time": "2024-05-24T19:19:05.004Z"
   },
   {
    "duration": 28,
    "start_time": "2024-05-24T19:19:05.034Z"
   },
   {
    "duration": 225,
    "start_time": "2024-05-24T19:19:05.064Z"
   },
   {
    "duration": 3,
    "start_time": "2024-05-24T19:19:05.291Z"
   },
   {
    "duration": 166,
    "start_time": "2024-05-24T19:19:05.296Z"
   },
   {
    "duration": 172,
    "start_time": "2024-05-24T19:19:05.464Z"
   },
   {
    "duration": 8,
    "start_time": "2024-05-24T19:19:05.638Z"
   },
   {
    "duration": 211,
    "start_time": "2024-05-24T19:19:05.648Z"
   },
   {
    "duration": 876,
    "start_time": "2024-05-24T19:19:05.866Z"
   },
   {
    "duration": 4,
    "start_time": "2024-05-24T19:19:06.744Z"
   },
   {
    "duration": 25,
    "start_time": "2024-05-24T19:19:06.749Z"
   },
   {
    "duration": 323,
    "start_time": "2024-05-24T19:19:06.775Z"
   },
   {
    "duration": 740,
    "start_time": "2024-05-24T19:19:07.103Z"
   },
   {
    "duration": 1822,
    "start_time": "2024-05-24T19:19:07.844Z"
   },
   {
    "duration": 101,
    "start_time": "2024-05-24T19:19:09.668Z"
   },
   {
    "duration": 93,
    "start_time": "2024-05-24T19:19:09.771Z"
   },
   {
    "duration": 4,
    "start_time": "2024-05-24T19:19:09.866Z"
   },
   {
    "duration": 6,
    "start_time": "2024-05-24T19:19:09.871Z"
   },
   {
    "duration": 3,
    "start_time": "2024-05-24T19:19:09.879Z"
   },
   {
    "duration": 3,
    "start_time": "2024-05-24T19:19:09.884Z"
   },
   {
    "duration": 3,
    "start_time": "2024-05-24T19:19:09.889Z"
   },
   {
    "duration": 5,
    "start_time": "2024-05-24T19:19:09.893Z"
   },
   {
    "duration": 4,
    "start_time": "2024-05-24T19:19:09.900Z"
   },
   {
    "duration": 174883,
    "start_time": "2024-05-24T19:19:09.906Z"
   },
   {
    "duration": 30,
    "start_time": "2024-05-24T19:22:04.790Z"
   },
   {
    "duration": 3,
    "start_time": "2024-05-24T19:22:04.821Z"
   },
   {
    "duration": 254,
    "start_time": "2024-05-24T19:22:04.825Z"
   },
   {
    "duration": 6,
    "start_time": "2024-05-24T19:22:05.080Z"
   },
   {
    "duration": 13,
    "start_time": "2024-05-24T19:22:05.087Z"
   },
   {
    "duration": 298,
    "start_time": "2024-05-24T19:22:05.101Z"
   },
   {
    "duration": 5,
    "start_time": "2024-05-24T19:22:05.401Z"
   }
  ],
  "kernelspec": {
   "display_name": "Python 3 (ipykernel)",
   "language": "python",
   "name": "python3"
  },
  "language_info": {
   "codemirror_mode": {
    "name": "ipython",
    "version": 3
   },
   "file_extension": ".py",
   "mimetype": "text/x-python",
   "name": "python",
   "nbconvert_exporter": "python",
   "pygments_lexer": "ipython3",
   "version": "3.11.4"
  },
  "toc": {
   "base_numbering": 1,
   "nav_menu": {},
   "number_sections": true,
   "sideBar": true,
   "skip_h1_title": true,
   "title_cell": "Содержание",
   "title_sidebar": "Contents",
   "toc_cell": true,
   "toc_position": {},
   "toc_section_display": true,
   "toc_window_display": true
  }
 },
 "nbformat": 4,
 "nbformat_minor": 2
}
